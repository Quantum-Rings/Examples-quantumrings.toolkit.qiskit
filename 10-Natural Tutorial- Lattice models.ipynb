{
 "cells": [
  {
   "cell_type": "markdown",
   "id": "249cc5cc-3ddc-4c10-b2c3-1ed7d5be6860",
   "metadata": {},
   "source": [
    "# 10-Natural Tutorial- Lattice models"
   ]
  },
  {
   "cell_type": "code",
   "execution_count": null,
   "id": "e0f08e23-2932-4967-b7a3-b4161a6084ce",
   "metadata": {},
   "outputs": [],
   "source": [
    "#This code is at:\n",
    "#https://qiskit-community.github.io/qiskit-nature/tutorials/10_lattice_models.html"
   ]
  },
  {
   "cell_type": "code",
   "execution_count": 1,
   "id": "ad60e54b-4f9f-47d3-9383-8d7f3673025c",
   "metadata": {},
   "outputs": [],
   "source": [
    "from math import pi\n",
    "\n",
    "import numpy as np\n",
    "import rustworkx as rx\n",
    "from qiskit_nature.second_q.hamiltonians.lattices import (\n",
    "    BoundaryCondition,\n",
    "    HyperCubicLattice,\n",
    "    Lattice,\n",
    "    LatticeDrawStyle,\n",
    "    LineLattice,\n",
    "    SquareLattice,\n",
    "    TriangularLattice,\n",
    ")\n",
    "from qiskit_nature.second_q.hamiltonians import FermiHubbardModel\n"
   ]
  },
  {
   "cell_type": "code",
   "execution_count": 2,
   "id": "8b87feea-87e9-417a-b39f-f8a079e99b5d",
   "metadata": {},
   "outputs": [],
   "source": [
    "num_nodes = 11\n",
    "boundary_condition = BoundaryCondition.OPEN\n",
    "line_lattice = LineLattice(num_nodes=num_nodes, boundary_condition=boundary_condition)"
   ]
  },
  {
   "cell_type": "code",
   "execution_count": 3,
   "id": "f73a3bac-e833-4e30-8675-cb8a428f468b",
   "metadata": {},
   "outputs": [
    {
     "data": {
      "image/png": "[encoded data removed]",
      "text/plain": [
       "<Figure size 640x480 with 1 Axes>"
      ]
     },
     "metadata": {},
     "output_type": "display_data"
    }
   ],
   "source": [
    "line_lattice.draw()\n"
   ]
  },
  {
   "cell_type": "code",
   "execution_count": null,
   "id": "a80ebcff-516a-420d-ab77-a10bd3779932",
   "metadata": {},
   "outputs": [],
   "source": []
  }
 ],
 "metadata": {
  "kernelspec": {
   "display_name": "myenv",
   "language": "python",
   "name": "myenv"
  },
  "language_info": {
   "codemirror_mode": {
    "name": "ipython",
    "version": 3
   },
   "file_extension": ".py",
   "mimetype": "text/x-python",
   "name": "python",
   "nbconvert_exporter": "python",
   "pygments_lexer": "ipython3",
   "version": "3.11.0rc1"
  }
 },
 "nbformat": 4,
 "nbformat_minor": 5
}
