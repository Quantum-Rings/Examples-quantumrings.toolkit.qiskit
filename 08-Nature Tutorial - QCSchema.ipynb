{
 "cells": [
  {
   "cell_type": "markdown",
   "id": "afe34951-9aa7-49db-988e-173cf63249a3",
   "metadata": {},
   "source": [
    "# 08-Nature Tutorial - QCSchema"
   ]
  },
  {
   "cell_type": "code",
   "execution_count": null,
   "id": "7bcc65ea-3150-45d3-abfd-c06747a483fc",
   "metadata": {},
   "outputs": [],
   "source": [
    "#This code is at:\n",
    "#https://qiskit-community.github.io/qiskit-nature/tutorials/08_qcschema.html"
   ]
  },
  {
   "cell_type": "code",
   "execution_count": 1,
   "id": "130be1a3-b4bb-4b32-8dde-40e92868b5e2",
   "metadata": {},
   "outputs": [
    {
     "name": "stdout",
     "output_type": "stream",
     "text": [
      "<qiskit_nature.second_q.problems.electronic_structure_problem.ElectronicStructureProblem object at 0x7aec4135ddd0>\n"
     ]
    }
   ],
   "source": [
    "from qiskit_nature.second_q.drivers import PySCFDriver\n",
    "\n",
    "driver = PySCFDriver()\n",
    "\n",
    "problem = driver.run()\n",
    "print(problem)"
   ]
  },
  {
   "cell_type": "code",
   "execution_count": 2,
   "id": "2643a2e0-c0e4-4e4a-b3ba-60225f1226af",
   "metadata": {},
   "outputs": [
    {
     "name": "stdout",
     "output_type": "stream",
     "text": [
      "ElectronicBasis.MO\n"
     ]
    }
   ],
   "source": [
    "from qiskit_nature.second_q.problems import ElectronicBasis\n",
    "\n",
    "driver.run_pyscf()\n",
    "problem = driver.to_problem(basis=ElectronicBasis.MO, include_dipole=True)\n",
    "print(problem.basis)"
   ]
  },
  {
   "cell_type": "code",
   "execution_count": 3,
   "id": "3c44435c-36c2-4fd0-aa17-5748b64cdd4d",
   "metadata": {},
   "outputs": [
    {
     "name": "stderr",
     "output_type": "stream",
     "text": [
      "The provided alpha-beta overlap matrix is NOT unitary! This can happen when the alpha- and beta-spin orbitals do not span the same space. To provide an example of what this means, consider an active space chosen from unrestricted-spin orbitals. Computing <S^2> within this active space may not result in the same <S^2> value as obtained on the single-reference starting point. More importantly, this implies that the inactive subspace will account for the difference between these two <S^2> values, possibly resulting in significant spin contamination in both subspaces. You should verify whether this is intentional/acceptable or whether your choice of active space can be improved. As a reference, here is the summed-absolute deviation of `S^T @ S` from the identity: 7.064215023495638\n"
     ]
    },
    {
     "name": "stdout",
     "output_type": "stream",
     "text": [
      "ElectronicBasis.AO\n"
     ]
    }
   ],
   "source": [
    "ao_problem = driver.to_problem(basis=ElectronicBasis.AO)\n",
    "print(ao_problem.basis)\n"
   ]
  },
  {
   "cell_type": "code",
   "execution_count": 4,
   "id": "1107a181-9d45-43c4-a775-58836185bb68",
   "metadata": {},
   "outputs": [
    {
     "name": "stderr",
     "output_type": "stream",
     "text": [
      "The provided alpha-beta overlap matrix is NOT unitary! This can happen when the alpha- and beta-spin orbitals do not span the same space. To provide an example of what this means, consider an active space chosen from unrestricted-spin orbitals. Computing <S^2> within this active space may not result in the same <S^2> value as obtained on the single-reference starting point. More importantly, this implies that the inactive subspace will account for the difference between these two <S^2> values, possibly resulting in significant spin contamination in both subspaces. You should verify whether this is intentional/acceptable or whether your choice of active space can be improved. As a reference, here is the summed-absolute deviation of `S^T @ S` from the identity: 7.064215023495638\n"
     ]
    }
   ],
   "source": [
    "from qiskit_nature.second_q.formats.qcschema_translator import qcschema_to_problem\n",
    "\n",
    "qcschema = driver.to_qcschema()\n",
    "ao_problem = qcschema_to_problem(qcschema, basis=ElectronicBasis.AO)"
   ]
  },
  {
   "cell_type": "code",
   "execution_count": 5,
   "id": "a02a990c-1d4a-46ef-b6b4-99c49256a348",
   "metadata": {},
   "outputs": [],
   "source": [
    "from qiskit_nature.second_q.formats.qcschema_translator import get_ao_to_mo_from_qcschema\n",
    "\n",
    "basis_transformer = get_ao_to_mo_from_qcschema(qcschema)"
   ]
  },
  {
   "cell_type": "code",
   "execution_count": 6,
   "id": "85af2d0e-90c4-4857-9770-904c786402fb",
   "metadata": {},
   "outputs": [
    {
     "name": "stdout",
     "output_type": "stream",
     "text": [
      "ElectronicBasis.MO\n"
     ]
    }
   ],
   "source": [
    "mo_problem = basis_transformer.transform(ao_problem)\n",
    "print(mo_problem.basis)\n"
   ]
  },
  {
   "cell_type": "code",
   "execution_count": null,
   "id": "5d206ac0-d5bb-4003-a481-2bd6b4f36a5b",
   "metadata": {},
   "outputs": [],
   "source": []
  }
 ],
 "metadata": {
  "kernelspec": {
   "display_name": "myenv",
   "language": "python",
   "name": "myenv"
  },
  "language_info": {
   "codemirror_mode": {
    "name": "ipython",
    "version": 3
   },
   "file_extension": ".py",
   "mimetype": "text/x-python",
   "name": "python",
   "nbconvert_exporter": "python",
   "pygments_lexer": "ipython3",
   "version": "3.11.0rc1"
  }
 },
 "nbformat": 4,
 "nbformat_minor": 5
}
