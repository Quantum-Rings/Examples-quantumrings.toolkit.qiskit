{
 "cells": [
  {
   "cell_type": "markdown",
   "id": "8d896ee7-7190-488f-8e96-252066d510e5",
   "metadata": {},
   "source": [
    "# 06-Nature Tutorial- Mapping to the Qubit Space"
   ]
  },
  {
   "cell_type": "code",
   "execution_count": null,
   "id": "3325796a-1805-4292-8358-f8e51d4d2210",
   "metadata": {},
   "outputs": [],
   "source": [
    "#This code is at\n",
    "#https://qiskit-community.github.io/qiskit-nature/tutorials/06_qubit_mappers.html"
   ]
  },
  {
   "cell_type": "code",
   "execution_count": 1,
   "id": "f69b13cc-5cea-485e-9143-41abb8b8e8a1",
   "metadata": {},
   "outputs": [],
   "source": [
    "from qiskit_nature.second_q.drivers import PySCFDriver\n",
    "\n",
    "driver = PySCFDriver()\n",
    "problem = driver.run()\n",
    "fermionic_op = problem.hamiltonian.second_q_op()"
   ]
  },
  {
   "cell_type": "code",
   "execution_count": 2,
   "id": "c495054c-9fab-44b1-a056-ce9188ec172f",
   "metadata": {},
   "outputs": [],
   "source": [
    "from qiskit_nature.second_q.mappers import JordanWignerMapper\n",
    "\n",
    "mapper = JordanWignerMapper()"
   ]
  },
  {
   "cell_type": "code",
   "execution_count": 3,
   "id": "ce8c6477-7047-4998-b94a-a5fc65265c14",
   "metadata": {},
   "outputs": [
    {
     "name": "stdout",
     "output_type": "stream",
     "text": [
      "SparsePauliOp(['IIII', 'IIIZ', 'IIZI', 'IIZZ', 'IZII', 'IZIZ', 'ZIII', 'ZIIZ', 'YYYY', 'XXYY', 'YYXX', 'XXXX', 'IZZI', 'ZIZI', 'ZZII'],\n",
      "              coeffs=[-0.81054798+0.j,  0.17218393+0.j, -0.22575349+0.j,  0.12091263+0.j,\n",
      "  0.17218393+0.j,  0.16892754+0.j, -0.22575349+0.j,  0.16614543+0.j,\n",
      "  0.0452328 +0.j,  0.0452328 +0.j,  0.0452328 +0.j,  0.0452328 +0.j,\n",
      "  0.16614543+0.j,  0.17464343+0.j,  0.12091263+0.j])\n"
     ]
    }
   ],
   "source": [
    "qubit_jw_op = mapper.map(fermionic_op)\n",
    "print(qubit_jw_op)\n"
   ]
  },
  {
   "cell_type": "code",
   "execution_count": 4,
   "id": "e05d9ef9-a91a-4bf9-8fde-5c619ef2c04a",
   "metadata": {},
   "outputs": [],
   "source": [
    "from qiskit_nature.second_q.mappers import ParityMapper\n",
    "\n",
    "mapper = ParityMapper()"
   ]
  },
  {
   "cell_type": "code",
   "execution_count": 5,
   "id": "e3504bb4-e294-464c-ac48-2ec48a98bd39",
   "metadata": {},
   "outputs": [
    {
     "name": "stdout",
     "output_type": "stream",
     "text": [
      "SparsePauliOp(['IIII', 'IIIZ', 'IIZZ', 'IIZI', 'IZZI', 'IZZZ', 'ZZII', 'ZZIZ', 'ZXIX', 'IXZX', 'ZXZX', 'IXIX', 'IZIZ', 'ZZZZ', 'ZIZI'],\n",
      "              coeffs=[-0.81054798+0.j,  0.17218393+0.j, -0.22575349+0.j,  0.12091263+0.j,\n",
      "  0.17218393+0.j,  0.16892754+0.j, -0.22575349+0.j,  0.16614543+0.j,\n",
      "  0.0452328 +0.j, -0.0452328 +0.j, -0.0452328 +0.j,  0.0452328 +0.j,\n",
      "  0.16614543+0.j,  0.17464343+0.j,  0.12091263+0.j])\n"
     ]
    }
   ],
   "source": [
    "qubit_p_op = mapper.map(fermionic_op)\n",
    "print(qubit_p_op)"
   ]
  },
  {
   "cell_type": "code",
   "execution_count": 6,
   "id": "d9d04115-2970-42db-b98e-d53b65921eb2",
   "metadata": {},
   "outputs": [],
   "source": [
    "mapper = ParityMapper(num_particles=problem.num_particles)"
   ]
  },
  {
   "cell_type": "code",
   "execution_count": 7,
   "id": "5121891b-31a7-4cb3-80b1-45d99c3f3a0d",
   "metadata": {},
   "outputs": [
    {
     "name": "stdout",
     "output_type": "stream",
     "text": [
      "SparsePauliOp(['II', 'IZ', 'ZI', 'ZZ', 'XX'],\n",
      "              coeffs=[-1.05237325+0.j,  0.39793742+0.j, -0.39793742+0.j, -0.0112801 +0.j,\n",
      "  0.1809312 +0.j])\n"
     ]
    }
   ],
   "source": [
    "qubit_op = mapper.map(fermionic_op)\n",
    "print(qubit_op)"
   ]
  },
  {
   "cell_type": "code",
   "execution_count": 8,
   "id": "8c0590f5-c4da-4193-8813-33c4fed9e701",
   "metadata": {},
   "outputs": [
    {
     "name": "stdout",
     "output_type": "stream",
     "text": [
      "<class 'qiskit_nature.second_q.mappers.tapered_qubit_mapper.TaperedQubitMapper'>\n"
     ]
    }
   ],
   "source": [
    "tapered_mapper = problem.get_tapered_mapper(mapper)\n",
    "print(type(tapered_mapper))"
   ]
  },
  {
   "cell_type": "code",
   "execution_count": 9,
   "id": "7599ae0e-19be-4dad-a54d-9735b461a211",
   "metadata": {},
   "outputs": [
    {
     "name": "stdout",
     "output_type": "stream",
     "text": [
      "SparsePauliOp(['I', 'Z', 'X'],\n",
      "              coeffs=[-1.04109314+0.j, -0.79587485+0.j, -0.1809312 +0.j])\n"
     ]
    }
   ],
   "source": [
    "qubit_op = tapered_mapper.map(fermionic_op)\n",
    "print(qubit_op)\n"
   ]
  },
  {
   "cell_type": "code",
   "execution_count": 10,
   "id": "87d5890d-3362-4d81-8790-a1293f3cd650",
   "metadata": {},
   "outputs": [],
   "source": [
    "from qiskit_nature.second_q.circuit.library import HartreeFock"
   ]
  },
  {
   "cell_type": "code",
   "execution_count": 11,
   "id": "10fe5ad2-ef68-44a4-ad9d-6bddc8d3c3b3",
   "metadata": {},
   "outputs": [
    {
     "data": {
      "text/html": [
       "<pre style=\"word-wrap: normal;white-space: pre;background: #fff0;line-height: 1.1;font-family: &quot;Courier New&quot;,Courier,monospace\">     ┌───┐\n",
       "q_0: ┤ X ├\n",
       "     └───┘\n",
       "q_1: ─────\n",
       "     ┌───┐\n",
       "q_2: ┤ X ├\n",
       "     └───┘\n",
       "q_3: ─────\n",
       "          </pre>"
      ],
      "text/plain": [
       "     ┌───┐\n",
       "q_0: ┤ X ├\n",
       "     └───┘\n",
       "q_1: ─────\n",
       "     ┌───┐\n",
       "q_2: ┤ X ├\n",
       "     └───┘\n",
       "q_3: ─────\n",
       "          "
      ]
     },
     "execution_count": 11,
     "metadata": {},
     "output_type": "execute_result"
    }
   ],
   "source": [
    "hf_state = HartreeFock(2, (1, 1), JordanWignerMapper())\n",
    "hf_state.draw()"
   ]
  },
  {
   "cell_type": "code",
   "execution_count": 12,
   "id": "6e9a45da-f98f-41ff-a03c-7672f802ca2b",
   "metadata": {},
   "outputs": [],
   "source": [
    "from qiskit_nature.second_q.mappers import InterleavedQubitMapper\n"
   ]
  },
  {
   "cell_type": "code",
   "execution_count": 13,
   "id": "c909b9f2-6c1d-43e1-9093-d6e72910a44a",
   "metadata": {},
   "outputs": [],
   "source": [
    "interleaved_mapper = InterleavedQubitMapper(JordanWignerMapper())\n",
    "\n"
   ]
  },
  {
   "cell_type": "code",
   "execution_count": 14,
   "id": "f045790a-bd49-49fa-b7e9-ed9fef687726",
   "metadata": {},
   "outputs": [
    {
     "data": {
      "text/html": [
       "<pre style=\"word-wrap: normal;white-space: pre;background: #fff0;line-height: 1.1;font-family: &quot;Courier New&quot;,Courier,monospace\">     ┌───┐\n",
       "q_0: ┤ X ├\n",
       "     ├───┤\n",
       "q_1: ┤ X ├\n",
       "     └───┘\n",
       "q_2: ─────\n",
       "          \n",
       "q_3: ─────\n",
       "          </pre>"
      ],
      "text/plain": [
       "     ┌───┐\n",
       "q_0: ┤ X ├\n",
       "     ├───┤\n",
       "q_1: ┤ X ├\n",
       "     └───┘\n",
       "q_2: ─────\n",
       "          \n",
       "q_3: ─────\n",
       "          "
      ]
     },
     "execution_count": 14,
     "metadata": {},
     "output_type": "execute_result"
    }
   ],
   "source": [
    "hf_state = HartreeFock(2, (1, 1), interleaved_mapper)\n",
    "hf_state.draw()"
   ]
  },
  {
   "cell_type": "code",
   "execution_count": null,
   "id": "04a880d6-2f96-4274-bea3-cb711e0a4091",
   "metadata": {},
   "outputs": [],
   "source": []
  }
 ],
 "metadata": {
  "kernelspec": {
   "display_name": "myenv",
   "language": "python",
   "name": "myenv"
  },
  "language_info": {
   "codemirror_mode": {
    "name": "ipython",
    "version": 3
   },
   "file_extension": ".py",
   "mimetype": "text/x-python",
   "name": "python",
   "nbconvert_exporter": "python",
   "pygments_lexer": "ipython3",
   "version": "3.11.0rc1"
  }
 },
 "nbformat": 4,
 "nbformat_minor": 5
}
