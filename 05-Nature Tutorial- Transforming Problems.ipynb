{
 "cells": [
  {
   "cell_type": "markdown",
   "id": "d9a23177-dec7-4687-80b3-1b6f7cf74794",
   "metadata": {},
   "source": [
    "# 05-Nature Tutorial- Transforming Problems"
   ]
  },
  {
   "cell_type": "code",
   "execution_count": null,
   "id": "0142bbbb-23e5-4742-a009-b8830e48e84f",
   "metadata": {},
   "outputs": [],
   "source": [
    "#This code is at:\n",
    "#https://qiskit-community.github.io/qiskit-nature/tutorials/05_problem_transformers.html"
   ]
  },
  {
   "cell_type": "code",
   "execution_count": 1,
   "id": "2057a847-497c-466d-96c4-5063dd8049a1",
   "metadata": {},
   "outputs": [
    {
     "name": "stderr",
     "output_type": "stream",
     "text": [
      "The provided alpha-beta overlap matrix is NOT unitary! This can happen when the alpha- and beta-spin orbitals do not span the same space. To provide an example of what this means, consider an active space chosen from unrestricted-spin orbitals. Computing <S^2> within this active space may not result in the same <S^2> value as obtained on the single-reference starting point. More importantly, this implies that the inactive subspace will account for the difference between these two <S^2> values, possibly resulting in significant spin contamination in both subspaces. You should verify whether this is intentional/acceptable or whether your choice of active space can be improved. As a reference, here is the summed-absolute deviation of `S^T @ S` from the identity: 7.064215023495638\n"
     ]
    },
    {
     "name": "stdout",
     "output_type": "stream",
     "text": [
      "ElectronicBasis.AO\n",
      "Polynomial Tensor\n",
      " \"+-\":\n",
      "array([[-1.12421758, -0.9652574 ],\n",
      "       [-0.9652574 , -1.12421758]])\n",
      " \"++--\":\n",
      "array([0.77460594, 0.44744572, 0.3009177 , 0.57187698, 0.44744572,\n",
      "       0.77460594])\n"
     ]
    }
   ],
   "source": [
    "from qiskit_nature.second_q.drivers import PySCFDriver\n",
    "from qiskit_nature.second_q.problems import ElectronicBasis\n",
    "\n",
    "driver = PySCFDriver()\n",
    "driver.run_pyscf()\n",
    "\n",
    "ao_problem = driver.to_problem(basis=ElectronicBasis.AO)\n",
    "print(ao_problem.basis)\n",
    "\n",
    "ao_hamil = ao_problem.hamiltonian\n",
    "print(ao_hamil.electronic_integrals.alpha)\n"
   ]
  },
  {
   "cell_type": "code",
   "execution_count": 2,
   "id": "5ae0f38b-3772-4563-9cd1-a6601cb12e6b",
   "metadata": {},
   "outputs": [
    {
     "name": "stdout",
     "output_type": "stream",
     "text": [
      "ElectronicBasis.AO\n",
      "ElectronicBasis.MO\n"
     ]
    }
   ],
   "source": [
    "from qiskit_nature.second_q.formats.qcschema_translator import get_ao_to_mo_from_qcschema\n",
    "\n",
    "qcschema = driver.to_qcschema()\n",
    "\n",
    "basis_transformer = get_ao_to_mo_from_qcschema(qcschema)\n",
    "print(basis_transformer.initial_basis)\n",
    "print(basis_transformer.final_basis)"
   ]
  },
  {
   "cell_type": "code",
   "execution_count": 3,
   "id": "1b339725-085a-430e-9e14-e83b0f62d2a4",
   "metadata": {},
   "outputs": [
    {
     "name": "stdout",
     "output_type": "stream",
     "text": [
      "ElectronicBasis.MO\n",
      "Polynomial Tensor\n",
      " \"+-\":\n",
      "array([[-1.25633907e+00,  0.00000000e+00],\n",
      "       [-4.16333634e-17, -4.71896007e-01]])\n",
      " \"++--\":\n",
      "array([[[[6.75710155e-01, 1.11022302e-16],\n",
      "         [8.32667268e-17, 6.64581730e-01]],\n",
      "\n",
      "        [[6.93889390e-17, 1.80931200e-01],\n",
      "         [1.80931200e-01, 1.66533454e-16]]],\n",
      "\n",
      "\n",
      "       [[[5.55111512e-17, 1.80931200e-01],\n",
      "         [1.80931200e-01, 2.22044605e-16]],\n",
      "\n",
      "        [[6.64581730e-01, 2.22044605e-16],\n",
      "         [2.49800181e-16, 6.98573723e-01]]]])\n"
     ]
    }
   ],
   "source": [
    "mo_problem = basis_transformer.transform(ao_problem)\n",
    "print(mo_problem.basis)\n",
    "\n",
    "mo_hamil = mo_problem.hamiltonian\n",
    "print(mo_hamil.electronic_integrals.alpha)"
   ]
  },
  {
   "cell_type": "code",
   "execution_count": 4,
   "id": "f3829be8-bd30-42e9-8264-20a4fdde0995",
   "metadata": {},
   "outputs": [],
   "source": [
    "import numpy as np\n",
    "from qiskit_nature.second_q.operators import ElectronicIntegrals\n",
    "from qiskit_nature.second_q.problems import ElectronicBasis\n",
    "from qiskit_nature.second_q.transformers import BasisTransformer\n",
    "\n",
    "ao2mo_alpha = np.random.random((2, 2))\n",
    "ao2mo_beta = np.random.random((2, 2))\n",
    "\n",
    "basis_transformer = BasisTransformer(\n",
    "    ElectronicBasis.AO,\n",
    "    ElectronicBasis.MO,\n",
    "    ElectronicIntegrals.from_raw_integrals(ao2mo_alpha, h1_b=ao2mo_beta),\n",
    ")\n"
   ]
  },
  {
   "cell_type": "code",
   "execution_count": 5,
   "id": "8e47e3a0-7613-46ee-9041-4141a07a803e",
   "metadata": {},
   "outputs": [
    {
     "name": "stdout",
     "output_type": "stream",
     "text": [
      "Molecule:\n",
      "\tMultiplicity: 1\n",
      "\tCharge: 0\n",
      "\tUnit: Bohr\n",
      "\tGeometry:\n",
      "\t\tLi\t(0.0, 0.0, 0.0)\n",
      "\t\tH\t(0.0, 0.0, 2.8345891868475928)\n",
      "\tMasses:\n",
      "\t\tLi\t7\n",
      "\t\tH\t1\n",
      "(2, 2)\n",
      "6\n"
     ]
    }
   ],
   "source": [
    "from qiskit_nature.second_q.drivers import PySCFDriver\n",
    "\n",
    "driver = PySCFDriver(atom=\"Li 0 0 0; H 0 0 1.5\")\n",
    "\n",
    "full_problem = driver.run()\n",
    "print(full_problem.molecule)\n",
    "print(full_problem.num_particles)\n",
    "print(full_problem.num_spatial_orbitals)"
   ]
  },
  {
   "cell_type": "code",
   "execution_count": 6,
   "id": "8d108248-efec-4f3a-8369-37bb77818b58",
   "metadata": {},
   "outputs": [
    {
     "name": "stdout",
     "output_type": "stream",
     "text": [
      "(1, 1)\n",
      "5\n"
     ]
    }
   ],
   "source": [
    "from qiskit_nature.second_q.transformers import FreezeCoreTransformer\n",
    "\n",
    "fc_transformer = FreezeCoreTransformer()\n",
    "\n",
    "fc_problem = fc_transformer.transform(full_problem)\n",
    "print(fc_problem.num_particles)\n",
    "print(fc_problem.num_spatial_orbitals)\n"
   ]
  },
  {
   "cell_type": "code",
   "execution_count": 7,
   "id": "e197be97-7fcd-46bc-96a4-a006db0964af",
   "metadata": {},
   "outputs": [
    {
     "name": "stdout",
     "output_type": "stream",
     "text": [
      "{'nuclear_repulsion_energy': 1.05835442184, 'FreezeCoreTransformer': -7.84030604879426}\n"
     ]
    }
   ],
   "source": [
    "print(fc_problem.hamiltonian.constants)\n",
    "\n"
   ]
  },
  {
   "cell_type": "code",
   "execution_count": 8,
   "id": "16b5ce57-7630-4a27-814f-b15f28239abd",
   "metadata": {},
   "outputs": [
    {
     "name": "stdout",
     "output_type": "stream",
     "text": [
      "(1, 1)\n",
      "3\n"
     ]
    }
   ],
   "source": [
    "fc_transformer = FreezeCoreTransformer(remove_orbitals=[4, 5])\n",
    "\n",
    "fc_problem = fc_transformer.transform(full_problem)\n",
    "print(fc_problem.num_particles)\n",
    "print(fc_problem.num_spatial_orbitals)"
   ]
  },
  {
   "cell_type": "code",
   "execution_count": 9,
   "id": "23abdcfb-ecd7-434e-95e2-351f64a095cd",
   "metadata": {},
   "outputs": [
    {
     "name": "stdout",
     "output_type": "stream",
     "text": [
      "(2, 2)\n",
      "6\n"
     ]
    }
   ],
   "source": [
    "from qiskit_nature.second_q.drivers import PySCFDriver\n",
    "\n",
    "driver = PySCFDriver(atom=\"Li 0 0 0; H 0 0 1.5\")\n",
    "\n",
    "full_problem = driver.run()\n",
    "print(full_problem.num_particles)\n",
    "print(full_problem.num_spatial_orbitals)"
   ]
  },
  {
   "cell_type": "code",
   "execution_count": 10,
   "id": "c1acecc3-f245-45c4-9ac1-8478b370f81f",
   "metadata": {},
   "outputs": [
    {
     "name": "stdout",
     "output_type": "stream",
     "text": [
      "(1, 1)\n",
      "2\n",
      "Polynomial Tensor\n",
      " \"+-\":\n",
      "array([[-0.78784474,  0.0469345 ],\n",
      "       [ 0.0469345 , -0.36211749]])\n",
      " \"++--\":\n",
      "array([[[[ 0.49428349, -0.0469345 ],\n",
      "         [-0.0469345 ,  0.22662427]],\n",
      "\n",
      "        [[-0.0469345 ,  0.01213863],\n",
      "         [ 0.01213863,  0.00616268]]],\n",
      "\n",
      "\n",
      "       [[[-0.0469345 ,  0.01213863],\n",
      "         [ 0.01213863,  0.00616268]],\n",
      "\n",
      "        [[ 0.22662427,  0.00616268],\n",
      "         [ 0.00616268,  0.33881567]]]])\n"
     ]
    }
   ],
   "source": [
    "from qiskit_nature.second_q.transformers import ActiveSpaceTransformer\n",
    "\n",
    "as_transformer = ActiveSpaceTransformer(2, 2)\n",
    "\n",
    "as_problem = as_transformer.transform(full_problem)\n",
    "print(as_problem.num_particles)\n",
    "print(as_problem.num_spatial_orbitals)\n",
    "print(as_problem.hamiltonian.electronic_integrals.alpha)"
   ]
  },
  {
   "cell_type": "code",
   "execution_count": 11,
   "id": "b6ae705c-4595-4015-bebb-2c036527c5e1",
   "metadata": {},
   "outputs": [
    {
     "name": "stdout",
     "output_type": "stream",
     "text": [
      "(1, 1)\n",
      "2\n",
      "Polynomial Tensor\n",
      " \"+-\":\n",
      "array([[-4.00500243e+00, -2.58340357e-17],\n",
      "       [-2.58340357e-17, -6.19047188e-01]])\n",
      " \"++--\":\n",
      "array([[[[ 1.65816678e+00,  2.50608049e-17],\n",
      "         [ 2.50608049e-17,  3.96308164e-01]],\n",
      "\n",
      "        [[ 2.50608049e-17,  9.81922731e-03],\n",
      "         [ 9.81922731e-03, -3.27279856e-18]]],\n",
      "\n",
      "\n",
      "       [[[ 2.50608049e-17,  9.81922731e-03],\n",
      "         [ 9.81922731e-03, -3.27279856e-18]],\n",
      "\n",
      "        [[ 3.96308164e-01, -3.27279856e-18],\n",
      "         [-3.27279856e-18,  3.12945511e-01]]]])\n"
     ]
    }
   ],
   "source": [
    "as_transformer = ActiveSpaceTransformer(2, 2, active_orbitals=[0, 4])\n",
    "\n",
    "as_problem = as_transformer.transform(full_problem)\n",
    "print(as_problem.num_particles)\n",
    "print(as_problem.num_spatial_orbitals)\n",
    "print(as_problem.hamiltonian.electronic_integrals.alpha)"
   ]
  },
  {
   "cell_type": "code",
   "execution_count": null,
   "id": "ab0ab1f7-26f9-46d4-baf1-b3196fe6ec1c",
   "metadata": {},
   "outputs": [],
   "source": []
  }
 ],
 "metadata": {
  "kernelspec": {
   "display_name": "myenv",
   "language": "python",
   "name": "myenv"
  },
  "language_info": {
   "codemirror_mode": {
    "name": "ipython",
    "version": 3
   },
   "file_extension": ".py",
   "mimetype": "text/x-python",
   "name": "python",
   "nbconvert_exporter": "python",
   "pygments_lexer": "ipython3",
   "version": "3.11.0rc1"
  }
 },
 "nbformat": 4,
 "nbformat_minor": 5
}
