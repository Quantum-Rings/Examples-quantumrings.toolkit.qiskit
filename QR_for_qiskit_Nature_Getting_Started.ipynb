{
 "cells": [
  {
   "cell_type": "markdown",
   "metadata": {
    "id": "l6U_rz_6IKZc"
   },
   "source": [
    "# 00-Nature Tutorial- Getting Started"
   ]
  },
  {
   "cell_type": "code",
   "execution_count": 2,
   "metadata": {
    "colab": {
     "base_uri": "https://localhost:8080/"
    },
    "id": "mkVf137lGD79",
    "outputId": "8ffb9c06-63aa-4606-c864-5adbb6cb2f31"
   },
   "outputs": [
    {
     "name": "stdout",
     "output_type": "stream",
     "text": [
      "=== GROUND STATE ENERGY ===\n",
      " \n",
      "* Electronic ground state energy (Hartree): -1.837675\n",
      "  - computed part:      -1.837675\n",
      "~ Nuclear repulsion energy (Hartree): 0.719969\n",
      "> Total ground state energy (Hartree): -1.117706\n",
      " \n",
      "=== MEASURED OBSERVABLES ===\n",
      " \n",
      "  0:  # Particles: 2.000 S: 0.012 S^2: 0.012 M: 0.000\n",
      " \n",
      "=== DIPOLE MOMENTS ===\n",
      " \n",
      "~ Nuclear dipole moment (a.u.): [0.0  0.0  1.388949]\n",
      " \n",
      "  0: \n",
      "  * Electronic dipole moment (a.u.): [0.0  0.0  1.388949]\n",
      "    - computed part:      [0.0  0.0  1.388949]\n",
      "  > Dipole moment (a.u.): [0.0  0.0  0.0]  Total: 0.0\n",
      "                 (debye): [0.0  0.0  0.0]  Total: 0.0\n",
      " \n"
     ]
    }
   ],
   "source": [
    "from qiskit_nature.units import DistanceUnit\n",
    "from qiskit_nature.second_q.drivers import PySCFDriver\n",
    "\n",
    "# Use PySCF, a classical computational chemistry software\n",
    "# package, to compute the one-body and two-body integrals in\n",
    "# electronic-orbital basis, necessary to form the Fermionic operator\n",
    "driver = PySCFDriver(\n",
    "    atom='H .0 .0 .0; H .0 .0 0.735',\n",
    "    unit=DistanceUnit.ANGSTROM,\n",
    "    basis='sto3g',\n",
    ")\n",
    "problem = driver.run()\n",
    "\n",
    "# setup the qubit mapper\n",
    "from qiskit_nature.second_q.mappers import ParityMapper\n",
    "\n",
    "mapper = ParityMapper(num_particles=problem.num_particles)\n",
    "\n",
    "# setup the classical optimizer for the VQE\n",
    "from qiskit_algorithms.optimizers import L_BFGS_B\n",
    "\n",
    "optimizer = L_BFGS_B()\n",
    "\n",
    "# setup the estimator primitive for the VQE\n",
    "#from qiskit.primitives import Estimator\n",
    "from quantumrings.toolkit.qiskit import QrEstimatorV1 as Estimator\n",
    "\n",
    "estimator = Estimator()\n",
    "\n",
    "# setup the ansatz for VQE\n",
    "from qiskit_nature.second_q.circuit.library import HartreeFock, UCCSD\n",
    "\n",
    "ansatz = UCCSD(\n",
    "    problem.num_spatial_orbitals,\n",
    "    problem.num_particles,\n",
    "    mapper,\n",
    "    initial_state=HartreeFock(\n",
    "        problem.num_spatial_orbitals,\n",
    "        problem.num_particles,\n",
    "        mapper,\n",
    "    ),\n",
    ")\n",
    "\n",
    "# set up our actual VQE instance\n",
    "from qiskit_algorithms import VQE\n",
    "\n",
    "vqe = VQE(estimator, ansatz, optimizer)\n",
    "# ensure that the optimizer starts in the all-zero state which corresponds to\n",
    "# the Hartree-Fock starting point\n",
    "vqe.initial_point = [0] * ansatz.num_parameters\n",
    "\n",
    "# prepare the ground-state solver and run it\n",
    "from qiskit_nature.second_q.algorithms import GroundStateEigensolver\n",
    "\n",
    "algorithm = GroundStateEigensolver(mapper, vqe)\n",
    "\n",
    "electronic_structure_result = algorithm.solve(problem)\n",
    "electronic_structure_result.formatting_precision = 6\n",
    "print(electronic_structure_result)"
   ]
  }
 ],
 "metadata": {
  "colab": {
   "provenance": []
  },
  "kernelspec": {
   "display_name": "Python 3",
   "name": "python3"
  },
  "language_info": {
   "name": "python"
  }
 },
 "nbformat": 4,
 "nbformat_minor": 0
}
