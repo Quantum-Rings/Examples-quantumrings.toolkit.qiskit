{
 "cells": [
  {
   "cell_type": "markdown",
   "id": "c4b0ecb6-f9a7-4bfd-9378-536d77a8a030",
   "metadata": {},
   "source": [
    "# 03 - Minimum Eigen Optimizer"
   ]
  },
  {
   "cell_type": "markdown",
   "id": "2d133e9c-c305-4c37-b5f8-8bbafd41e53b",
   "metadata": {},
   "source": [
    "#### Uncomment the cell below to pip install the necessary modules if not already installed\n",
    "\n",
    "#### Note: Works with Qiskit Version 1.4.1 and Quantum Rings Qiskit Toolkit Version 0.1.10"
   ]
  },
  {
   "cell_type": "code",
   "execution_count": 1,
   "id": "025ca3ec-e695-40bf-9762-8f8c1a532b12",
   "metadata": {
    "scrolled": true
   },
   "outputs": [],
   "source": [
    "# %pip install qiskit==1.4.1\n",
    "# %pip install quantumrings-toolkit-qiskit==0.1.10\n",
    "# %pip install qiskit-algorithms\n",
    "# %pip install qiskit-optimization\n",
    "# %pip install numpy"
   ]
  },
  {
   "cell_type": "markdown",
   "id": "a7a45191-6537-4c06-91d0-c0354a63b1ea",
   "metadata": {},
   "source": [
    "#### Restart the kernel after installing any of the missing packages"
   ]
  },
  {
   "cell_type": "markdown",
   "id": "2541ccf3-b25b-494c-8002-5e82eee4d15d",
   "metadata": {},
   "source": [
    "### Introduction\n",
    "\n",
    "An interesting class of optimization problems to be addressed by quantum computing are [Quadratic Unconstrained Binary Optimization (QUBO)](https://en.wikipedia.org/wiki/Quadratic_unconstrained_binary_optimization) problems. Finding the solution to a QUBO problem is equivalent to finding the ground state of a corresponding Ising Hamiltonian, which is an important problem not only in optimization, but also in quantum chemistry and physics. For this translation, the binary variables taking values in $\\{0, 1\\}$ are replaced by spin variables taking values in $\\{-1, +1\\}$, which allows one to replace the resulting spin variables by Pauli Z matrices, and thus, an Ising Hamiltonian. For more details on this mapping we refer to a paper on [Ising Formulations](https://arxiv.org/abs/1302.5843). \n",
    "\n",
    "Qiskit optimization provides automatic conversion from a suitable `QuadraticProgram` to an Ising Hamiltonian, which then allows leveraging all the `SamplingMinimumEigensolver` implementations, such as:\n",
    "\n",
    "- `SamplingVQE`\n",
    "- `QAOA`\n",
    "- `NumPyMinimumEigensolver` (classical exact method)\n",
    "\n",
    "> **Note 1**: `MinimumEigenOptimizer` does not support `qiskit_algorithms.VQE`, but `qiskit_algorithms.SamplingVQE` can be used instead.\n",
    "> \n",
    "> **Note 2**: `MinimumEigenOptimizer` can use `NumPyMinimumEigensolver` as an exception case though it inherits `MinimumEigensolver` (not `SamplingMinimumEigensolver`).\n",
    "\n",
    "Qiskit optimization provides a `MinimumEigenOptimizer` class, which wraps the translation to an Ising Hamiltonian (in Qiskit Terra also called `SparsePauliOp`), the call to a `MinimumEigensolver`, and the translation of the results back to an `OptimizationResult`.\n",
    "\n",
    "In the following we first illustrate the conversion from a `QuadraticProgram` to a `SparsePauliOp` and then show how to use the `MinimumEigenOptimizer` with different `MinimumEigensolver`s to solve a given `QuadraticProgram`. The algorithms in Qiskit optimization automatically try to convert a given problem to the supported problem class if possible, for instance, the `MinimumEigenOptimizer` will automatically translate integer variables to binary variables or add linear equality constraints as a quadratic penalty term to the objective. It should be mentioned that a `QiskitOptimizationError` will be thrown if conversion of a quadratic program with integer variables is attempted.\n",
    "\n",
    "The circuit depth of `QAOA` potentially has to be increased with the problem size, which might be prohibitive for near-term quantum devices. A possible workaround is Recursive QAOA as described in the paper [Obstacles to State Preparation](https://arxiv.org/abs/1910.08980). Qiskit optimization generalizes this concept to the `RecursiveMinimumEigenOptimizer`, which is introduced at the end of this tutorial."
   ]
  },
  {
   "cell_type": "code",
   "execution_count": 2,
   "id": "d3357337-1596-4725-b1bd-a940c4dab6ba",
   "metadata": {},
   "outputs": [],
   "source": [
    "# This code is from the tutorial at:\n",
    "# https://qiskit-community.github.io/qiskit-optimization/tutorials/03_minimum_eigen_optimizer.html"
   ]
  },
  {
   "cell_type": "markdown",
   "id": "732fde94-7294-46e8-9123-295a57361d45",
   "metadata": {},
   "source": [
    "### Converting a QUBO to a SparsePauliOp\n",
    "\n",
    "We'll start by importing the necessary modules and functions for creating our QUBO problem with `QuadraticProgram`. Instead of using the `Sampler` from Qiskit, we will import the `Sampler` from the Quantum Rings Qiskit Toolkit."
   ]
  },
  {
   "cell_type": "code",
   "execution_count": 3,
   "id": "645b600f-8e3c-46ff-8748-8311197fd505",
   "metadata": {},
   "outputs": [],
   "source": [
    "from qiskit_algorithms.utils import algorithm_globals\n",
    "from qiskit_algorithms import QAOA, NumPyMinimumEigensolver\n",
    "from qiskit_algorithms.optimizers import COBYLA\n",
    "\n",
    "from quantumrings.toolkit.qiskit import QrSamplerV1 as Sampler\n",
    "\n",
    "from qiskit_optimization.algorithms import (\n",
    "    MinimumEigenOptimizer,\n",
    "    RecursiveMinimumEigenOptimizer,\n",
    "    SolutionSample,\n",
    "    OptimizationResultStatus,\n",
    ")\n",
    "from qiskit_optimization import QuadraticProgram\n",
    "from qiskit.visualization import plot_histogram\n",
    "from typing import List, Tuple\n",
    "import numpy as np"
   ]
  },
  {
   "cell_type": "code",
   "execution_count": 4,
   "id": "383f5ae1-2028-4be2-97a8-b7b0783f710c",
   "metadata": {},
   "outputs": [
    {
     "name": "stdout",
     "output_type": "stream",
     "text": [
      "Problem name: \n",
      "\n",
      "Minimize\n",
      "  x*y - x*z + 2*y*z + x - 2*y + 3*z\n",
      "\n",
      "Subject to\n",
      "  No constraints\n",
      "\n",
      "  Binary variables (3)\n",
      "    x y z\n",
      "\n"
     ]
    }
   ],
   "source": [
    "# create a QUBO\n",
    "qubo = QuadraticProgram()\n",
    "qubo.binary_var(\"x\")\n",
    "qubo.binary_var(\"y\")\n",
    "qubo.binary_var(\"z\")\n",
    "qubo.minimize(linear=[1, -2, 3], quadratic={(\"x\", \"y\"): 1, (\"x\", \"z\"): -1, (\"y\", \"z\"): 2})\n",
    "print(qubo.prettyprint())"
   ]
  },
  {
   "cell_type": "markdown",
   "id": "df277fae-a637-453a-b377-f01a6411ee33",
   "metadata": {},
   "source": [
    "Now we will translate this QUBO into an Ising operator. This results not only in a `SparsePauliOp` but also in a constant offset to be taken into account as it will shift the resulting value."
   ]
  },
  {
   "cell_type": "code",
   "execution_count": 5,
   "id": "e9fe0345-9848-4b99-acc0-fa6d224ab0fd",
   "metadata": {},
   "outputs": [
    {
     "name": "stdout",
     "output_type": "stream",
     "text": [
      "offset: 1.5\n",
      "operator:\n",
      "SparsePauliOp(['IIZ', 'IZI', 'ZII', 'IZZ', 'ZIZ', 'ZZI'],\n",
      "              coeffs=[-0.5 +0.j,  0.25+0.j, -1.75+0.j,  0.25+0.j, -0.25+0.j,  0.5 +0.j])\n"
     ]
    }
   ],
   "source": [
    "op, offset = qubo.to_ising()\n",
    "print(\"offset: {}\".format(offset))\n",
    "print(\"operator:\")\n",
    "print(op)"
   ]
  },
  {
   "cell_type": "markdown",
   "id": "b1e3347e-6b18-49e5-8a09-2395b5e6095c",
   "metadata": {},
   "source": [
    "Sometimes a `QuadraticProgram` might also directly be given in the form of a `SparsePauliOp`. For such cases, Qiskit optimization also provides a translator from a `SparsePauliOp` back to a `QuadraticProgram`, which we illustrate in the following."
   ]
  },
  {
   "cell_type": "code",
   "execution_count": 6,
   "id": "bfae70e3-dfd7-4ca6-a444-542b00f9cba1",
   "metadata": {},
   "outputs": [
    {
     "name": "stdout",
     "output_type": "stream",
     "text": [
      "Problem name: \n",
      "\n",
      "Minimize\n",
      "  x0*x1 - x0*x2 + 2*x1*x2 + x0 - 2*x1 + 3*x2\n",
      "\n",
      "Subject to\n",
      "  No constraints\n",
      "\n",
      "  Binary variables (3)\n",
      "    x0 x1 x2\n",
      "\n"
     ]
    }
   ],
   "source": [
    "qp = QuadraticProgram()\n",
    "qp.from_ising(op, offset, linear=True)\n",
    "print(qp.prettyprint())"
   ]
  },
  {
   "cell_type": "markdown",
   "id": "3c0b1a66-1bf2-46b9-9a2e-b3265ae52f5d",
   "metadata": {},
   "source": [
    "This translator allows, for instance, one to translate a `SparsePauliOp` to a `QuadraticProgram` and then solve the problem with other algorithms that are not based on the Ising Hamiltonian representation, such as the `GroverOptimizer`."
   ]
  },
  {
   "cell_type": "markdown",
   "id": "dac8b35b-4e08-4f33-8f62-2de662c9184a",
   "metadata": {},
   "source": [
    "### Solving a QUBO with the MinimumEigenOptimizer\n",
    "\n",
    "We start by initializing the `MinimumEigensolver` we want to use. This will come from `NumPyMinimumEigensolver`."
   ]
  },
  {
   "cell_type": "code",
   "execution_count": 7,
   "id": "5f389ab6-3142-4503-bff4-620df7bbf794",
   "metadata": {},
   "outputs": [],
   "source": [
    "algorithm_globals.random_seed = 10598\n",
    "\n",
    "qaoa_mes = QAOA(sampler=Sampler(), optimizer=COBYLA(), initial_point=[0.0, 0.0])\n",
    "exact_mes = NumPyMinimumEigensolver()"
   ]
  },
  {
   "cell_type": "markdown",
   "id": "d9746f13-e2db-4d95-ab2e-2f129e12226b",
   "metadata": {},
   "source": [
    "We then use the `MinimumEigensolver` to create the `MinimumEigenOptimizer`."
   ]
  },
  {
   "cell_type": "code",
   "execution_count": 8,
   "id": "62f53d2e-149d-4d3c-b4f4-67b4c95b15ab",
   "metadata": {},
   "outputs": [],
   "source": [
    "qaoa = MinimumEigenOptimizer(qaoa_mes)  # using QAOA\n",
    "exact = MinimumEigenOptimizer(exact_mes)  # using the exact classical numpy minimum eigen solver"
   ]
  },
  {
   "cell_type": "markdown",
   "id": "61d646cf-71ad-47fc-a375-599744324e4d",
   "metadata": {},
   "source": [
    "We first use the `MinimumEigenOptimizer` based on the classical exact `NumPyMinimumEigensolver` to get the optimal benchmark solution for this small example."
   ]
  },
  {
   "cell_type": "code",
   "execution_count": 9,
   "id": "fd4a5baa-58ce-4596-aaa1-6d7d3b6fe6c2",
   "metadata": {},
   "outputs": [
    {
     "name": "stdout",
     "output_type": "stream",
     "text": [
      "objective function value: -2.0\n",
      "variable values: x=0.0, y=1.0, z=0.0\n",
      "status: SUCCESS\n"
     ]
    }
   ],
   "source": [
    "exact_result = exact.solve(qubo)\n",
    "print(exact_result.prettyprint())"
   ]
  },
  {
   "cell_type": "markdown",
   "id": "613b6b84-96ab-4397-9fc5-0d93c5a24b2c",
   "metadata": {},
   "source": [
    "Next, we apply the `MinimumEigenOptimizer` based on `QAOA` to the same problem."
   ]
  },
  {
   "cell_type": "code",
   "execution_count": 10,
   "id": "462ccb59-d9aa-4971-a194-40cae0184f8c",
   "metadata": {},
   "outputs": [
    {
     "name": "stdout",
     "output_type": "stream",
     "text": [
      "objective function value: -2.0\n",
      "variable values: x=0.0, y=1.0, z=0.0\n",
      "status: SUCCESS\n"
     ]
    }
   ],
   "source": [
    "qaoa_result = qaoa.solve(qubo)\n",
    "print(qaoa_result.prettyprint())"
   ]
  },
  {
   "cell_type": "markdown",
   "id": "5b7396b8-ab3a-407c-a64b-b92b6157f75f",
   "metadata": {},
   "source": [
    "### Analysis of Samples\n",
    "\n",
    "`OptimizationResult` provides useful information in the form of `SolutionSample`s (here denoted as `samples`). Each `SolutionSample` contains information about the input values (`x`), the corresponding objective function value (`fval`), the fraction of samples corresponding to that input (`probability`), and the solution `status` (`SUCCESS`, `FAILURE`, `INFEASIBLE`). Multiple samples corresponding to the same input are consolidated into a single `SolutionSample` (with its `probability` attribute being the aggregate fraction of samples represented by that `SolutionSample`)."
   ]
  },
  {
   "cell_type": "code",
   "execution_count": 11,
   "id": "c19ba583-69ef-49da-b75b-c12b504b7b4c",
   "metadata": {},
   "outputs": [
    {
     "name": "stdout",
     "output_type": "stream",
     "text": [
      "variable order: ['x', 'y', 'z']\n",
      "SolutionSample(x=array([0., 1., 0.]), fval=np.float64(-2.0), probability=0.4521484375, status=<OptimizationResultStatus.SUCCESS: 0>)\n",
      "SolutionSample(x=array([0., 0., 0.]), fval=np.float64(0.0), probability=0.2333984375, status=<OptimizationResultStatus.SUCCESS: 0>)\n",
      "SolutionSample(x=array([1., 1., 0.]), fval=np.float64(0.0), probability=0.107421875, status=<OptimizationResultStatus.SUCCESS: 0>)\n",
      "SolutionSample(x=array([1., 0., 0.]), fval=np.float64(1.0), probability=0.1083984375, status=<OptimizationResultStatus.SUCCESS: 0>)\n",
      "SolutionSample(x=array([0., 0., 1.]), fval=np.float64(3.0), probability=0.029296875, status=<OptimizationResultStatus.SUCCESS: 0>)\n",
      "SolutionSample(x=array([1., 0., 1.]), fval=np.float64(3.0), probability=0.037109375, status=<OptimizationResultStatus.SUCCESS: 0>)\n",
      "SolutionSample(x=array([0., 1., 1.]), fval=np.float64(3.0), probability=0.03125, status=<OptimizationResultStatus.SUCCESS: 0>)\n",
      "SolutionSample(x=array([1., 1., 1.]), fval=np.float64(4.0), probability=0.0009765625, status=<OptimizationResultStatus.SUCCESS: 0>)\n"
     ]
    }
   ],
   "source": [
    "print(\"variable order:\", [var.name for var in qaoa_result.variables])\n",
    "for s in qaoa_result.samples:\n",
    "    print(s)"
   ]
  },
  {
   "cell_type": "markdown",
   "id": "574aeb84-5525-47aa-9b72-4e26a5acd08d",
   "metadata": {},
   "source": [
    "We may also want to filter samples according to their status or probabilities."
   ]
  },
  {
   "cell_type": "code",
   "execution_count": 12,
   "id": "e66a78b4-3430-46ed-b0e4-d83980539750",
   "metadata": {},
   "outputs": [],
   "source": [
    "def get_filtered_samples(\n",
    "    samples: List[SolutionSample],\n",
    "    threshold: float = 0,\n",
    "    allowed_status: Tuple[OptimizationResultStatus] = (OptimizationResultStatus.SUCCESS,),\n",
    "):\n",
    "    res = []\n",
    "    for s in samples:\n",
    "        if s.status in allowed_status and s.probability > threshold:\n",
    "            res.append(s)\n",
    "\n",
    "    return res"
   ]
  },
  {
   "cell_type": "code",
   "execution_count": 13,
   "id": "00576e4d-18f3-4556-8afe-6d864fd166cf",
   "metadata": {},
   "outputs": [
    {
     "name": "stdout",
     "output_type": "stream",
     "text": [
      "SolutionSample(x=array([0., 1., 0.]), fval=np.float64(-2.0), probability=0.4521484375, status=<OptimizationResultStatus.SUCCESS: 0>)\n",
      "SolutionSample(x=array([0., 0., 0.]), fval=np.float64(0.0), probability=0.2333984375, status=<OptimizationResultStatus.SUCCESS: 0>)\n",
      "SolutionSample(x=array([1., 1., 0.]), fval=np.float64(0.0), probability=0.107421875, status=<OptimizationResultStatus.SUCCESS: 0>)\n",
      "SolutionSample(x=array([1., 0., 0.]), fval=np.float64(1.0), probability=0.1083984375, status=<OptimizationResultStatus.SUCCESS: 0>)\n",
      "SolutionSample(x=array([0., 0., 1.]), fval=np.float64(3.0), probability=0.029296875, status=<OptimizationResultStatus.SUCCESS: 0>)\n",
      "SolutionSample(x=array([1., 0., 1.]), fval=np.float64(3.0), probability=0.037109375, status=<OptimizationResultStatus.SUCCESS: 0>)\n",
      "SolutionSample(x=array([0., 1., 1.]), fval=np.float64(3.0), probability=0.03125, status=<OptimizationResultStatus.SUCCESS: 0>)\n"
     ]
    }
   ],
   "source": [
    "filtered_samples = get_filtered_samples(\n",
    "    qaoa_result.samples, threshold=0.005, allowed_status=(OptimizationResultStatus.SUCCESS,)\n",
    ")\n",
    "for s in filtered_samples:\n",
    "    print(s)"
   ]
  },
  {
   "cell_type": "markdown",
   "id": "03adb648-8083-4e6e-a268-8161c8b76421",
   "metadata": {},
   "source": [
    "If we want to obtain a better perspective of the results, statistics is very helpful, both with respect to the objective function values and their respective probabilities. Thus, mean and standard deviation are the very basics for understanding the results."
   ]
  },
  {
   "cell_type": "code",
   "execution_count": 14,
   "id": "9d08b416-3707-40cc-a7c5-72e41ad6c4c7",
   "metadata": {},
   "outputs": [],
   "source": [
    "fvals = [s.fval for s in qaoa_result.samples]\n",
    "probabilities = [s.probability for s in qaoa_result.samples]"
   ]
  },
  {
   "cell_type": "code",
   "execution_count": 15,
   "id": "8efb3f0d-6455-45d9-a912-985cfbb056e1",
   "metadata": {},
   "outputs": [
    {
     "data": {
      "text/plain": [
       "np.float64(1.5)"
      ]
     },
     "execution_count": 15,
     "metadata": {},
     "output_type": "execute_result"
    }
   ],
   "source": [
    "np.mean(fvals)"
   ]
  },
  {
   "cell_type": "code",
   "execution_count": 16,
   "id": "ed217b9e-a87c-4716-bca8-da6a8c5f486b",
   "metadata": {},
   "outputs": [
    {
     "data": {
      "text/plain": [
       "np.float64(1.9364916731037085)"
      ]
     },
     "execution_count": 16,
     "metadata": {},
     "output_type": "execute_result"
    }
   ],
   "source": [
    "np.std(fvals)"
   ]
  },
  {
   "cell_type": "markdown",
   "id": "743d1a97-3406-4d1f-99d9-bdc4b299cb9d",
   "metadata": {},
   "source": [
    "Now that we've crunched all the numbers, visualization will help us process the information, especially as an early-analysis approach."
   ]
  },
  {
   "cell_type": "code",
   "execution_count": 17,
   "id": "702e6d7d-24c6-47fd-9aa2-53fa37d71e36",
   "metadata": {},
   "outputs": [
    {
     "data": {
      "text/plain": [
       "{'x=0 y=1 z=0': 0.4521484375,\n",
       " 'x=0 y=0 z=0': 0.2333984375,\n",
       " 'x=1 y=1 z=0': 0.107421875,\n",
       " 'x=1 y=0 z=0': 0.1083984375,\n",
       " 'x=0 y=0 z=1': 0.029296875,\n",
       " 'x=1 y=0 z=1': 0.037109375,\n",
       " 'x=0 y=1 z=1': 0.03125}"
      ]
     },
     "execution_count": 17,
     "metadata": {},
     "output_type": "execute_result"
    }
   ],
   "source": [
    "samples_for_plot = {\n",
    "    \" \".join(f\"{qaoa_result.variables[i].name}={int(v)}\" for i, v in enumerate(s.x)): s.probability\n",
    "    for s in filtered_samples\n",
    "}\n",
    "samples_for_plot"
   ]
  },
  {
   "cell_type": "code",
   "execution_count": 18,
   "id": "35b02ccb-091f-48ac-87fd-f4d891de76c4",
   "metadata": {},
   "outputs": [
    {
     "data": {
      "image/png": "[encoded data removed]",
      "text/plain": [
       "<Figure size 640x480 with 1 Axes>"
      ]
     },
     "execution_count": 18,
     "metadata": {},
     "output_type": "execute_result"
    }
   ],
   "source": [
    "plot_histogram(samples_for_plot)"
   ]
  },
  {
   "cell_type": "markdown",
   "id": "49ba770f-808d-4f35-8bab-e65aea776097",
   "metadata": {},
   "source": [
    "In the plot above, we see the Quasi-Probabilities for the various states starting with state `000` up to state `110`. These correspond with the values of our `x`, `y`, and `z` variables. Let's take a look at this problem using a `RecursiveMinimumEigenOptimizer`."
   ]
  },
  {
   "cell_type": "markdown",
   "id": "b589d066-20a9-4818-ab1b-eb0d7eb70df8",
   "metadata": {},
   "source": [
    "### RecursiveMinimumEigenOptimizer\n",
    "\n",
    "The `RecursiveMinimumEigenOptimizer` takes a `MinimumEigenOptimizer` as input and applies the recursive optimization scheme to reduce the size of the problem one variable at a time. Once the size of the generated intermediate problem is below a given threshold (`min_num_vars`), the `RecursiveMinimumEigenOptimizer` uses another solver (`min_num_vars_optimizer`), e.g., an exact classical solver such as CPLEX or the `MinimumEigenOptimizer` based on the `NumPyMinimumEigensolver`.\n",
    "\n",
    "In the following, we show how to use the `RecursiveMinimumEigenOptimizer` using the two `MinimumEigenOptimizer`s introduced before.\n",
    "\n",
    "We will start by constructing the `RecursiveMinimumEigenOptimizer` such that it reduces the problem size from 3 variables to 1 variable and then uses the exact solver for the last variable. Then we call `solve` to optimize the considered problem."
   ]
  },
  {
   "cell_type": "code",
   "execution_count": 24,
   "id": "d8b98959-e970-4588-9fcb-da12ec63ab68",
   "metadata": {},
   "outputs": [],
   "source": [
    "rqaoa = RecursiveMinimumEigenOptimizer(qaoa, min_num_vars=1, min_num_vars_optimizer=exact)"
   ]
  },
  {
   "cell_type": "code",
   "execution_count": 25,
   "id": "344a5ea3-a87b-4608-bbbe-96d08d8a5b24",
   "metadata": {},
   "outputs": [
    {
     "name": "stdout",
     "output_type": "stream",
     "text": [
      "objective function value: -2.0\n",
      "variable values: x=0.0, y=1.0, z=0.0\n",
      "status: SUCCESS\n"
     ]
    }
   ],
   "source": [
    "rqaoa_result = rqaoa.solve(qubo)\n",
    "print(rqaoa_result.prettyprint())"
   ]
  },
  {
   "cell_type": "code",
   "execution_count": 26,
   "id": "37ed7a8d-1b9c-483f-8fe3-5b7e7101eec6",
   "metadata": {},
   "outputs": [],
   "source": [
    "filtered_samples = get_filtered_samples(\n",
    "    rqaoa_result.samples, threshold=0.005, allowed_status=(OptimizationResultStatus.SUCCESS,)\n",
    ")"
   ]
  },
  {
   "cell_type": "code",
   "execution_count": 27,
   "id": "8ee38dc4-bbf3-47fe-a1e2-ae9dfd7905b1",
   "metadata": {},
   "outputs": [
    {
     "data": {
      "text/plain": [
       "{'x=0 y=1 z=0': 1.0}"
      ]
     },
     "execution_count": 27,
     "metadata": {},
     "output_type": "execute_result"
    }
   ],
   "source": [
    "samples_for_plot = {\n",
    "    \" \".join(f\"{rqaoa_result.variables[i].name}={int(v)}\" for i, v in enumerate(s.x)): s.probability\n",
    "    for s in filtered_samples\n",
    "}\n",
    "samples_for_plot"
   ]
  },
  {
   "cell_type": "code",
   "execution_count": 28,
   "id": "cf96bf7a-c610-487c-ab54-7fa0a8a47180",
   "metadata": {},
   "outputs": [
    {
     "data": {
      "image/png": "[encoded data removed]",
      "text/plain": [
       "<Figure size 640x480 with 1 Axes>"
      ]
     },
     "execution_count": 28,
     "metadata": {},
     "output_type": "execute_result"
    }
   ],
   "source": [
    "plot_histogram(samples_for_plot)"
   ]
  },
  {
   "cell_type": "markdown",
   "id": "84b98b89-7c4d-44a3-8fad-5d53daed8de0",
   "metadata": {},
   "source": [
    "### Conclusion\n",
    "\n",
    "Congratulations! You've created a Minimum EigenOptimizer using Qiskit and the Quantum Rings Toolkit. Notice in this last graph, that the state which had the highest probability before the recursive method is now the only state and has a probability of 1. This is the result of the recursive method and the optimization of only one variable instead of three variables. Feel free to look at the papers linked at the start of this notebook for more detailed information on this topic!"
   ]
  },
  {
   "cell_type": "code",
   "execution_count": null,
   "id": "c1208b80-6d2c-4386-b211-8d84ab01695f",
   "metadata": {},
   "outputs": [],
   "source": []
  }
 ],
 "metadata": {
  "kernelspec": {
   "display_name": "Python 3 (ipykernel)",
   "language": "python",
   "name": "python3"
  },
  "language_info": {
   "codemirror_mode": {
    "name": "ipython",
    "version": 3
   },
   "file_extension": ".py",
   "mimetype": "text/x-python",
   "name": "python",
   "nbconvert_exporter": "python",
   "pygments_lexer": "ipython3",
   "version": "3.12.3"
  }
 },
 "nbformat": 4,
 "nbformat_minor": 5
}
