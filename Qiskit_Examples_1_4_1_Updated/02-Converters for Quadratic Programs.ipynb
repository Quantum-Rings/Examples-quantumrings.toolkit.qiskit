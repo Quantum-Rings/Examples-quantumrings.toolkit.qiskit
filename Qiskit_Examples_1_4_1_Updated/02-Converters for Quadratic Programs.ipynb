{
 "cells": [
  {
   "cell_type": "markdown",
   "id": "14a471c8-ca37-41a4-b5ca-1d849e34477b",
   "metadata": {},
   "source": [
    "# 02 - Converters for Quadratic Programs"
   ]
  },
  {
   "cell_type": "markdown",
   "id": "7ebc3c62-bb83-4afc-8612-2ff69277f551",
   "metadata": {},
   "source": [
    "#### Uncomment the cell below to pip install the necessary modules if not already installed\n",
    "\n",
    "#### Note: Works with Qiskit Version 1.4.1"
   ]
  },
  {
   "cell_type": "code",
   "execution_count": 1,
   "id": "fa845d12-06a2-4f48-a78d-bf5be673fe06",
   "metadata": {},
   "outputs": [],
   "source": [
    "# %pip install qiskit==1.4.1\n",
    "# %pip install qiskit-optimization\n",
    "# %pip install cplex # Installs the Complex Optimizer for qiskit_optimization"
   ]
  },
  {
   "cell_type": "markdown",
   "id": "81a6f12e-bcb9-4418-90ca-ac764781be2b",
   "metadata": {},
   "source": [
    "#### Restart the kernel after installing any of the missing packages"
   ]
  },
  {
   "cell_type": "markdown",
   "id": "07cb0488-d549-4b01-8323-fdf715ac0f92",
   "metadata": {},
   "source": [
    "### Introduction\n",
    "\n",
    "We can represent optimization problems using Qiskit's optimization module. This module contains the `QuadraticProgram` class, which is a generic and powerful representation for optimization problems. In general, the optimization algorithms are defined for a certain formulation of a quadratic program, so we need to convert our problem to the right type. \n",
    "\n",
    "Within the Qiskit optimization module, there exists several methods of converting these quadratic problems. To map a problem to the correct input format, the optimization module contains the following converters.\n",
    "\n",
    "- `InequalityToEquality`: Convert inequality constraints into equality constraints with additional slack variables.\n",
    "- `IntegerToBinary`: Convert integer variables into binary variables and corresponding coefficients.\n",
    "- `LinearEqualityToPenalty`: Convert equality constraints into additional terms of the objective function.\n",
    "- `LinearInequalityToPenalty`: Convert inequality constraints into additional terms of the objective function.\n",
    "- `MaximizeToMinimize`: Convert to the equivalent minimization problem.\n",
    "- `MinimizeToMaximize`: Convert to the equivalent maximization problem.\n",
    "- `QuadraticProgramToQubo`: A wrapper that includes `InequalityToEquality`, `IntegerToBinary`, `LinearEqualityToPenalty`, `LinearInequalityToPenalty`, and `MaximizeToMinimize` for convenience.\n",
    "\n",
    "We will use this notebook to cover the conversion methods of `InequalityToEquality`, `IntegerToBinary`, and `LinearEqualityToPenalty`. "
   ]
  },
  {
   "cell_type": "code",
   "execution_count": 2,
   "id": "9b76902b-00bd-4071-9042-92e98f595a53",
   "metadata": {},
   "outputs": [],
   "source": [
    "# This code is from:\n",
    "# https://qiskit-community.github.io/qiskit-optimization/tutorials/02_converters_for_quadratic_programs.html"
   ]
  },
  {
   "cell_type": "markdown",
   "id": "0d2f0d4f-918d-4530-b70f-75377fa8855b",
   "metadata": {},
   "source": [
    "### InequalityToEquality\n",
    "\n",
    "We will start with the conversion from inequality to equality. This will use the `InequalityToEquality` converter which, as the name implies, converts inequality constraints into equality constraints with additional slack variables to remove inequality constraints from a `QuadraticProgram`. The upper bounds and the lower bounds of slack variables will be calculated from the difference between the left and right sides of constraints. Signs of slack variables depends on symbols in constraints such as $\\leq$ and $\\geq$.\n",
    "\n",
    "The following is an example of a maximization problem with two inequality constraints. Variable $x$ and $y$ are binary variables and variable $z$ is an integer variable.\n",
    "\n",
    "\\begin{aligned}\n",
    "   & \\text{maximize}\n",
    "       & 3x + 2y + z\\\\\n",
    "   & \\text{subject to the constraints:}\n",
    "       & x+y+z \\leq 5.5\\\\\n",
    "       & & x+y+z \\geq 2.5\\\\\n",
    "       & & x, y \\in \\{0,1\\}\\\\\n",
    "       & & z \\in \\{0,1,2,3,4,5,6,7\\} \\\\\n",
    "\\end{aligned}\n",
    "\n",
    "With `QuadraticProgram`, an optimization model of the problem can be seen in the following cells."
   ]
  },
  {
   "cell_type": "code",
   "execution_count": 3,
   "id": "f01f7911-8fcb-4622-9e9d-8aa941f6c10a",
   "metadata": {},
   "outputs": [],
   "source": [
    "from qiskit_optimization import QuadraticProgram\n",
    "from qiskit_optimization.translators.docplex_mp import to_docplex_mp"
   ]
  },
  {
   "cell_type": "code",
   "execution_count": 4,
   "id": "bda8f072-a304-470e-a299-532bac0253d7",
   "metadata": {},
   "outputs": [
    {
     "name": "stdout",
     "output_type": "stream",
     "text": [
      "Problem name: \n",
      "\n",
      "Maximize\n",
      "  3*x + 2*y + z\n",
      "\n",
      "Subject to\n",
      "  Linear constraints (2)\n",
      "    x + y + z <= 5.5  'xyz_leq'\n",
      "    x + y + z >= 2.5  'xyz_geq'\n",
      "\n",
      "  Integer variables (1)\n",
      "    0 <= z <= 7\n",
      "\n",
      "  Binary variables (2)\n",
      "    x y\n",
      "\n"
     ]
    }
   ],
   "source": [
    "qp = QuadraticProgram()\n",
    "qp.binary_var(\"x\")\n",
    "qp.binary_var(\"y\")\n",
    "qp.integer_var(lowerbound=0, upperbound=7, name=\"z\")\n",
    "\n",
    "qp.maximize(linear={\"x\": 3, \"y\": 2, \"z\": 1})\n",
    "qp.linear_constraint(linear={\"x\": 1, \"y\": 1, \"z\": 1}, sense=\"LE\", rhs=5.5, name=\"xyz_leq\")\n",
    "qp.linear_constraint(linear={\"x\": 1, \"y\": 1, \"z\": 1}, sense=\"GE\", rhs=2.5, name=\"xyz_geq\")\n",
    "print(qp.prettyprint())"
   ]
  },
  {
   "cell_type": "markdown",
   "id": "2ded1c78-7226-4e23-9f15-1e5d063869bb",
   "metadata": {},
   "source": [
    "Import `InequalityToEquality` from `qiskit_optimization.converters`. Create an instance of `InequalityToEquality` and call the `convert` method, passing in the `QuadraticProgram` instance (`qp`) created above."
   ]
  },
  {
   "cell_type": "code",
   "execution_count": 5,
   "id": "60f5246d-9582-4f30-8503-17e64421c9be",
   "metadata": {},
   "outputs": [],
   "source": [
    "from qiskit_optimization.converters import InequalityToEquality"
   ]
  },
  {
   "cell_type": "code",
   "execution_count": 6,
   "id": "6b109355-afc7-4eea-abe1-1ca8f487082d",
   "metadata": {},
   "outputs": [
    {
     "name": "stdout",
     "output_type": "stream",
     "text": [
      "Problem name: \n",
      "\n",
      "Maximize\n",
      "  3*x + 2*y + z\n",
      "\n",
      "Subject to\n",
      "  Linear constraints (2)\n",
      "    x + xyz_leq@int_slack + y + z == 5  'xyz_leq'\n",
      "    x - xyz_geq@int_slack + y + z == 3  'xyz_geq'\n",
      "\n",
      "  Integer variables (3)\n",
      "    0 <= z <= 7\n",
      "    0 <= xyz_leq@int_slack <= 5\n",
      "    0 <= xyz_geq@int_slack <= 6\n",
      "\n",
      "  Binary variables (2)\n",
      "    x y\n",
      "\n"
     ]
    }
   ],
   "source": [
    "ineq2eq = InequalityToEquality()\n",
    "qp_eq = ineq2eq.convert(qp)\n",
    "print(qp_eq.prettyprint())"
   ]
  },
  {
   "cell_type": "markdown",
   "id": "a2f81ba6-66d8-46e9-a3d2-f891adc77505",
   "metadata": {},
   "source": [
    "Note the difference in the constraints after conversion. The inequality constraints have been replaced with equality constraints and have additional integer slack variables, $xyz\\_leq@int\\_slack$ and $xyz\\_geq@int\\_slack$. \n",
    "\n",
    "The conversion works in the following way. Prior to conversion, the first linear constraint is $x + y + z \\leq 5.5$ and there is only one integer variable constraint $0 \\leq z \\leq 7$. After the conversion, our first linear constraint is changed to $x + xyz\\_leq@int\\_slack + y + z == 5$ and two additional integer variable constraints of $0 \\leq xyz\\_leq@int\\_slack \\leq 5$ and $0 \\leq xyz\\_geq@int\\_slack \\leq 6$ to restrict the additional terms $xyz\\_leq@int\\_slack$ and $xyz\\_geq@int\\_slack$.\n",
    "\n",
    "The lower bound of $0$ of the integer variable constraint is for the case where $x$, $y$, and $z$ are all integer values that add up to meet the first linear constraint. If this is the case, then $xyz\\_leq@int\\_slack$ must be $0$. The upper bound of $0 \\leq xyz\\_leq@int\\_slack \\leq 5$ is for the case where $x = 0$, $y = 0$, and $z = 0$. If this is the case, then $xyz\\_leq@int\\_slack$ must be 5 in order to satisfy the linear constraint. Since all the variables involved can only take on integer values, we drop the decimal from the original constraint. This same approach is applied to the second linear constraint except since this constraint has a $\\geq$ symbol, we include a minus before the $xyz\\_geq@int\\_slack$ to be able to satisfy the case for when $x = 1$, $y = 1$, and $z = 7$. \n",
    "\n",
    "\\begin{aligned}\n",
    "   & \\text{maximize}\n",
    "       & 3x + 2y + z\\\\\n",
    "   & \\text{subject to:}\n",
    "       & x+y+z+ xyz\\_leg\\text{@}int\\_slack= 5\\\\\n",
    "       & & x+y+z+xyz\\_geq\\text{@}int\\_slack= 3\\\\\n",
    "       & & x, y \\in \\{0,1\\}\\\\\n",
    "       & & z \\in \\{0,1,2,3,4,5,6,7\\} \\\\\n",
    "       & & xyz\\_leg\\text{@}int\\_slack \\in \\{0,1,2,3,4,5\\} \\\\\n",
    "       & & xyz\\_geq\\text{@}int\\_slack \\in \\{0,1,2,3,4,5,6\\} \\\\\n",
    "\\end{aligned}\n",
    "\n",
    "We can see how the `interpret` method works next. This method converts the solution of the converted problem back to that of the original problem. To use this method, we first must solve the problem. For the purpose of this notebook, we will use `docplex` to solve. So we will first translate the quadratic problem into a `docplex.mp` model."
   ]
  },
  {
   "cell_type": "code",
   "execution_count": 7,
   "id": "d3ed6cd7-b425-4b90-a468-2218a6c2f681",
   "metadata": {},
   "outputs": [],
   "source": [
    "from qiskit_optimization.algorithms import CplexOptimizer\n",
    "\n",
    "cplex_optimizer = CplexOptimizer()"
   ]
  },
  {
   "cell_type": "code",
   "execution_count": 8,
   "id": "dd82976f-e5b8-43b4-a0c0-4cd8e63ad591",
   "metadata": {},
   "outputs": [
    {
     "name": "stdout",
     "output_type": "stream",
     "text": [
      "fval=8.0, x=1.0, y=1.0, z=3.0, status=SUCCESS\n"
     ]
    }
   ],
   "source": [
    "result_orig = cplex_optimizer.solve(qp)\n",
    "print(result_orig)"
   ]
  },
  {
   "cell_type": "code",
   "execution_count": 14,
   "id": "ccd9e8b8-dff8-4aaa-a24f-efc9ef376bab",
   "metadata": {},
   "outputs": [
    {
     "name": "stdout",
     "output_type": "stream",
     "text": [
      "fval=8.0, x=1.0, y=1.0, z=3.0, xyz_leq@int_slack=0.0, xyz_geq@int_slack=2.0, status=SUCCESS\n"
     ]
    }
   ],
   "source": [
    "result_eq = cplex_optimizer.solve(qp_eq)\n",
    "print(result_eq)"
   ]
  },
  {
   "cell_type": "markdown",
   "id": "e2d12775-667f-4026-a274-9229a23eb31d",
   "metadata": {},
   "source": [
    "The `result_eq` of `qp_eq` has 5 variable values (`x=1.0, y=1.0, z=3.0, xyz_leq@int_slack=0.0, xyz_geq@int_slack=2.0`) while `result_orig` of the original `qp` has three variable values (`x=1.0, y=1.0, z=3.0`). We can call `InequalityToEquality.interpret` method by passing a list or an array to the method that has values of `qp_eq.variables`. `result_eq.x` has the list of values that each variable takes in the solution in correspondence to their position in the variable list `qp_eq.variables`."
   ]
  },
  {
   "cell_type": "code",
   "execution_count": 15,
   "id": "904444d0-af26-416d-9959-ae0f97e0609c",
   "metadata": {},
   "outputs": [
    {
     "name": "stdout",
     "output_type": "stream",
     "text": [
      "Interpreting values of result_eq: [1. 1. 3.]\n",
      "Values of result_orig: [1. 1. 3.]\n"
     ]
    }
   ],
   "source": [
    "print(\"Interpreting values of result_eq:\", ineq2eq.interpret(result_eq.x))\n",
    "print(\"Values of result_orig:\", result_orig.x)"
   ]
  },
  {
   "cell_type": "markdown",
   "id": "8582b5a3-3b7f-48a4-9d26-88d4edd94415",
   "metadata": {},
   "source": [
    "Notice that [1., 1., 3.] are the values taken in the solution of the converted problem for the common variables between the converted and original problems (variables: $x$, $y$, $z$). The interpret method shows the same values are the solution of the original problem. This is because the objective function for the converted and original problems is exactly the same. The slack variables are just ensuring equality in the constraints of the converted problem, where the constraints are also exactly same between the original and converted problems, except that the original problem has inequality constraints."
   ]
  },
  {
   "cell_type": "markdown",
   "id": "cd822052-5d79-46d3-9e11-25a37a3783b5",
   "metadata": {},
   "source": [
    "### IntegerToBinary\n",
    "\n",
    "`IntegerToBinary` converts integer variables into binary variables and coefficients to remove integer variables from `QuadraticProgram`. For converting, the bounded-coefficient encoding proposed in [Practical Integer-to-Binary Mapping for Quantum Annealers](https://arxiv.org/abs/1706.01945) (Eq. (5)) is used. For more detail of the encoding method, feel free to check out the paper.\n",
    "\n",
    "We will use the output of `InequalityToEquality` as a starting point. Variables $x$ and $y$ are binary variables, while the variable $z$ and the slack variables $xyz\\_leq@int\\_slack$ and $xyz\\_geq@int\\_slack$ are integer variables. "
   ]
  },
  {
   "cell_type": "code",
   "execution_count": 29,
   "id": "c6d654d7-657e-4227-874d-703d43fdb6b6",
   "metadata": {},
   "outputs": [
    {
     "name": "stdout",
     "output_type": "stream",
     "text": [
      "Problem name: \n",
      "\n",
      "Maximize\n",
      "  3*x + 2*y + z\n",
      "\n",
      "Subject to\n",
      "  Linear constraints (2)\n",
      "    x + xyz_leq@int_slack + y + z == 5  'xyz_leq'\n",
      "    x - xyz_geq@int_slack + y + z == 3  'xyz_geq'\n",
      "\n",
      "  Integer variables (3)\n",
      "    0 <= z <= 7\n",
      "    0 <= xyz_leq@int_slack <= 5\n",
      "    0 <= xyz_geq@int_slack <= 6\n",
      "\n",
      "  Binary variables (2)\n",
      "    x y\n",
      "\n"
     ]
    }
   ],
   "source": [
    "# Print the InequalityToEquality problem for reference\n",
    "\n",
    "print(qp_eq.prettyprint())"
   ]
  },
  {
   "cell_type": "markdown",
   "id": "9b7b6771-42c1-44fc-a3cf-9e232054ffe0",
   "metadata": {},
   "source": [
    "Similar to before, we can call the `convert` method of `IntegerToBinary` to convert the problem."
   ]
  },
  {
   "cell_type": "code",
   "execution_count": 19,
   "id": "facf2aa4-da0b-4f6a-af4d-735ca02c6f77",
   "metadata": {},
   "outputs": [],
   "source": [
    "from qiskit_optimization.converters import IntegerToBinary"
   ]
  },
  {
   "cell_type": "code",
   "execution_count": 20,
   "id": "2caf3011-e077-4152-abe0-a1dcd82fe614",
   "metadata": {},
   "outputs": [
    {
     "name": "stdout",
     "output_type": "stream",
     "text": [
      "Problem name: \n",
      "\n",
      "Maximize\n",
      "  3*x + 2*y + z@0 + 2*z@1 + 4*z@2\n",
      "\n",
      "Subject to\n",
      "  Linear constraints (2)\n",
      "    x + xyz_leq@int_slack@0 + 2*xyz_leq@int_slack@1 + 2*xyz_leq@int_slack@2 + y\n",
      "    + z@0 + 2*z@1 + 4*z@2 == 5  'xyz_leq'\n",
      "    x - xyz_geq@int_slack@0 - 2*xyz_geq@int_slack@1 - 3*xyz_geq@int_slack@2 + y\n",
      "    + z@0 + 2*z@1 + 4*z@2 == 3  'xyz_geq'\n",
      "\n",
      "  Binary variables (11)\n",
      "    x y z@0 z@1 z@2 xyz_leq@int_slack@0 xyz_leq@int_slack@1 xyz_leq@int_slack@2\n",
      "    xyz_geq@int_slack@0 xyz_geq@int_slack@1 xyz_geq@int_slack@2\n",
      "\n"
     ]
    }
   ],
   "source": [
    "int2bin = IntegerToBinary()\n",
    "qp_eq_bin = int2bin.convert(qp_eq)\n",
    "print(qp_eq_bin.prettyprint())"
   ]
  },
  {
   "cell_type": "markdown",
   "id": "0ee5d780-3ed0-46af-9014-99678ddd16e2",
   "metadata": {},
   "source": [
    "We can see that after the conversion we once again have some new variables, this time both in our constraints and in our objective function. The integer variable $z$ is replaced with three binary variables $z@0$, $z@1$, and $z@2$ with coefficients $1$, $2$, and $4$ respectively. The slack variables $xyz\\_leq@int\\_slack$ and $xyz\\_geq@int\\_slack$ that were introduced by `InequalityToEquality` are also both replaced with three binary variables with coefficients $1$, $2$, $2$, and $1$, $2$, $3$, respectively. These were done as a result of the methods presented in the paper mentioned above. \n",
    "\n",
    "> **Note**: The coefficients mean that the sum of these binary variables with coefficients can be the sum of a subset of $\\{1, 2, 4\\}$, $\\{1, 2, 2\\}$, and $\\{1, 2, 3\\}$ to represent the acceptable values $\\{0, ..., 7\\}$, $\\{0, ..., 5\\}$, and $\\{0, ..., 6\\}$, which respects the lower bound and the upper bound of the original integer variables correctly.\n",
    "\n",
    "`IntegerToBinary` also provides an `interpret` method that is the functionality for translating a given binary result back to the original integer representation. "
   ]
  },
  {
   "cell_type": "code",
   "execution_count": 21,
   "id": "90a98fc7-5a6f-43a9-9995-468766c09953",
   "metadata": {},
   "outputs": [
    {
     "name": "stdout",
     "output_type": "stream",
     "text": [
      "fval=8.0, x=1.0, y=1.0, z=3.0, xyz_leq@int_slack=0.0, xyz_geq@int_slack=2.0, status=SUCCESS\n"
     ]
    }
   ],
   "source": [
    "result_eq = cplex_optimizer.solve(qp_eq)\n",
    "print(result_eq)"
   ]
  },
  {
   "cell_type": "code",
   "execution_count": 22,
   "id": "ab1c326f-9af2-4aeb-ba48-9a1676a9ff9e",
   "metadata": {},
   "outputs": [
    {
     "name": "stdout",
     "output_type": "stream",
     "text": [
      "fval=8.0, x=1.0, y=1.0, z@0=1.0, z@1=1.0, z@2=0.0, xyz_leq@int_slack@0=0.0, xyz_leq@int_slack@1=0.0, xyz_leq@int_slack@2=0.0, xyz_geq@int_slack@0=0.0, xyz_geq@int_slack@1=1.0, xyz_geq@int_slack@2=0.0, status=SUCCESS\n"
     ]
    }
   ],
   "source": [
    "result_eq_bin = cplex_optimizer.solve(qp_eq_bin)\n",
    "print(result_eq_bin)"
   ]
  },
  {
   "cell_type": "markdown",
   "id": "08b8d313-54e0-446d-82d2-1fa85cd2d0ba",
   "metadata": {},
   "source": [
    "`result_eq_bin` has more binary variables due to the conversion by `IntegerToBinary.convert`. `IntegerToBinary.interpret` translates them back to the integer values by aggregating binary variable values associated with the original integer variables of `qp_eq`."
   ]
  },
  {
   "cell_type": "code",
   "execution_count": 24,
   "id": "79b4343a-eb71-46cd-9381-de7e28424bb7",
   "metadata": {},
   "outputs": [
    {
     "name": "stdout",
     "output_type": "stream",
     "text": [
      "interpreting values of result_eq_bin: [1. 1. 3. 0. 2.]\n",
      "values of result_eq: [1. 1. 3. 0. 2.]\n"
     ]
    }
   ],
   "source": [
    "print(\"interpreting values of result_eq_bin:\", int2bin.interpret(result_eq_bin.x))\n",
    "print(\"values of result_eq:\", result_eq.x)"
   ]
  },
  {
   "cell_type": "markdown",
   "id": "c07404df-8c45-4a0c-a3b5-0c4dcf0fedb4",
   "metadata": {},
   "source": [
    "### LinearEqualityToPenalty\n",
    "\n",
    "`LinearEqualityToPenalty` converts linear equality constraints into additional quadratic penalty terms of the objective function to map `QuadraticProgram` to an unconstrained form. An input to the converter has to be a `QuadraticProgram` with only linear equality constraints. Those equality constraints, e.g. $\\sum_i a_i x_i  = b$ where $a_i$ and $b$ are numbers and $x_i$ is a variable, will be added to the objective function in the form of $M(b - \\sum_i a_i x_i)^2$ where $M$ is a large number as penalty factor.\n",
    "\n",
    "By default, $M=1e5$. The sign of the term depends on whether the problem type is a maximization or minimization.\n",
    "\n",
    "We use the output of `IntegerToBinary` as a starting point, where all variables are binary variables and all inequality constraints have been mapped to equality constraints."
   ]
  },
  {
   "cell_type": "code",
   "execution_count": 28,
   "id": "36b92dab-a2f9-469e-a791-2c90ce7375e9",
   "metadata": {},
   "outputs": [
    {
     "name": "stdout",
     "output_type": "stream",
     "text": [
      "Problem name: \n",
      "\n",
      "Maximize\n",
      "  3*x + 2*y + z@0 + 2*z@1 + 4*z@2\n",
      "\n",
      "Subject to\n",
      "  Linear constraints (2)\n",
      "    x + xyz_leq@int_slack@0 + 2*xyz_leq@int_slack@1 + 2*xyz_leq@int_slack@2 + y\n",
      "    + z@0 + 2*z@1 + 4*z@2 == 5  'xyz_leq'\n",
      "    x - xyz_geq@int_slack@0 - 2*xyz_geq@int_slack@1 - 3*xyz_geq@int_slack@2 + y\n",
      "    + z@0 + 2*z@1 + 4*z@2 == 3  'xyz_geq'\n",
      "\n",
      "  Binary variables (11)\n",
      "    x y z@0 z@1 z@2 xyz_leq@int_slack@0 xyz_leq@int_slack@1 xyz_leq@int_slack@2\n",
      "    xyz_geq@int_slack@0 xyz_geq@int_slack@1 xyz_geq@int_slack@2\n",
      "\n"
     ]
    }
   ],
   "source": [
    "# Print the IntegerToBinary problem for reference\n",
    "\n",
    "print(qp_eq_bin.prettyprint())"
   ]
  },
  {
   "cell_type": "markdown",
   "id": "281109b3-0b1a-4f3c-bb03-9de4775e04db",
   "metadata": {},
   "source": [
    "Once again, we call `convert` from `LinearEqualityToPenalty` to convert the problem."
   ]
  },
  {
   "cell_type": "code",
   "execution_count": 30,
   "id": "db60ee2a-0057-412a-aae2-e262938f2efc",
   "metadata": {},
   "outputs": [],
   "source": [
    "from qiskit_optimization.converters import LinearEqualityToPenalty"
   ]
  },
  {
   "cell_type": "code",
   "execution_count": 31,
   "id": "6bce425b-1111-42ef-96e0-5bacb42ac617",
   "metadata": {},
   "outputs": [
    {
     "name": "stdout",
     "output_type": "stream",
     "text": [
      "Problem name: \n",
      "\n",
      "Maximize\n",
      "  -26*x^2 + 26*x*xyz_geq@int_slack@0 + 52*x*xyz_geq@int_slack@1\n",
      "  + 78*x*xyz_geq@int_slack@2 - 26*x*xyz_leq@int_slack@0\n",
      "  - 52*x*xyz_leq@int_slack@1 - 52*x*xyz_leq@int_slack@2 - 52*x*y - 52*x*z@0\n",
      "  - 104*x*z@1 - 208*x*z@2 - 13*xyz_geq@int_slack@0^2\n",
      "  - 52*xyz_geq@int_slack@0*xyz_geq@int_slack@1\n",
      "  - 78*xyz_geq@int_slack@0*xyz_geq@int_slack@2 - 52*xyz_geq@int_slack@1^2\n",
      "  - 156*xyz_geq@int_slack@1*xyz_geq@int_slack@2 - 117*xyz_geq@int_slack@2^2\n",
      "  - 13*xyz_leq@int_slack@0^2 - 52*xyz_leq@int_slack@0*xyz_leq@int_slack@1\n",
      "  - 52*xyz_leq@int_slack@0*xyz_leq@int_slack@2 - 52*xyz_leq@int_slack@1^2\n",
      "  - 104*xyz_leq@int_slack@1*xyz_leq@int_slack@2 - 52*xyz_leq@int_slack@2^2\n",
      "  + 26*y*xyz_geq@int_slack@0 + 52*y*xyz_geq@int_slack@1\n",
      "  + 78*y*xyz_geq@int_slack@2 - 26*y*xyz_leq@int_slack@0\n",
      "  - 52*y*xyz_leq@int_slack@1 - 52*y*xyz_leq@int_slack@2 - 26*y^2 - 52*y*z@0\n",
      "  - 104*y*z@1 - 208*y*z@2 + 26*z@0*xyz_geq@int_slack@0\n",
      "  + 52*z@0*xyz_geq@int_slack@1 + 78*z@0*xyz_geq@int_slack@2\n",
      "  - 26*z@0*xyz_leq@int_slack@0 - 52*z@0*xyz_leq@int_slack@1\n",
      "  - 52*z@0*xyz_leq@int_slack@2 - 26*z@0^2 - 104*z@0*z@1 - 208*z@0*z@2\n",
      "  + 52*z@1*xyz_geq@int_slack@0 + 104*z@1*xyz_geq@int_slack@1\n",
      "  + 156*z@1*xyz_geq@int_slack@2 - 52*z@1*xyz_leq@int_slack@0\n",
      "  - 104*z@1*xyz_leq@int_slack@1 - 104*z@1*xyz_leq@int_slack@2 - 104*z@1^2\n",
      "  - 416*z@1*z@2 + 104*z@2*xyz_geq@int_slack@0 + 208*z@2*xyz_geq@int_slack@1\n",
      "  + 312*z@2*xyz_geq@int_slack@2 - 104*z@2*xyz_leq@int_slack@0\n",
      "  - 208*z@2*xyz_leq@int_slack@1 - 208*z@2*xyz_leq@int_slack@2 - 416*z@2^2\n",
      "  + 211*x - 78*xyz_geq@int_slack@0 - 156*xyz_geq@int_slack@1\n",
      "  - 234*xyz_geq@int_slack@2 + 130*xyz_leq@int_slack@0 + 260*xyz_leq@int_slack@1\n",
      "  + 260*xyz_leq@int_slack@2 + 210*y + 209*z@0 + 418*z@1 + 836*z@2 - 442\n",
      "\n",
      "Subject to\n",
      "  No constraints\n",
      "\n",
      "  Binary variables (11)\n",
      "    x y z@0 z@1 z@2 xyz_leq@int_slack@0 xyz_leq@int_slack@1 xyz_leq@int_slack@2\n",
      "    xyz_geq@int_slack@0 xyz_geq@int_slack@1 xyz_geq@int_slack@2\n",
      "\n"
     ]
    }
   ],
   "source": [
    "lineq2penalty = LinearEqualityToPenalty()\n",
    "qubo = lineq2penalty.convert(qp_eq_bin)\n",
    "print(qubo.prettyprint())"
   ]
  },
  {
   "cell_type": "markdown",
   "id": "a3ecbefe-d83f-48cc-b94d-762bd16e2a1d",
   "metadata": {},
   "source": [
    "After converting, the equality constraints are added to the objective function as additional terms with the default penalty factor provided by Qiskit optimization. The resulting problem is now  QUBO and compatible with many quantum optimization algorithms such as VQE, QAOA, and so on.\n",
    "\n",
    "This gives the same result as before. Let us see how `interpret` works for this case."
   ]
  },
  {
   "cell_type": "code",
   "execution_count": 32,
   "id": "b9eaabc2-8a5a-4575-91ce-36ea73a3616a",
   "metadata": {},
   "outputs": [
    {
     "name": "stdout",
     "output_type": "stream",
     "text": [
      "fval=8.0, x=1.0, y=1.0, z@0=1.0, z@1=1.0, z@2=0.0, xyz_leq@int_slack@0=0.0, xyz_leq@int_slack@1=0.0, xyz_leq@int_slack@2=0.0, xyz_geq@int_slack@0=0.0, xyz_geq@int_slack@1=1.0, xyz_geq@int_slack@2=0.0, status=SUCCESS\n"
     ]
    }
   ],
   "source": [
    "result_eq_bin = cplex_optimizer.solve(qp_eq_bin)\n",
    "print(result_eq_bin)"
   ]
  },
  {
   "cell_type": "code",
   "execution_count": 33,
   "id": "69756a70-092f-477c-b6f3-a36cf4f243a3",
   "metadata": {},
   "outputs": [
    {
     "name": "stdout",
     "output_type": "stream",
     "text": [
      "fval=8.0, x=1.0, y=1.0, z@0=1.0, z@1=1.0, z@2=0.0, xyz_leq@int_slack@0=0.0, xyz_leq@int_slack@1=0.0, xyz_leq@int_slack@2=0.0, xyz_geq@int_slack@0=0.0, xyz_geq@int_slack@1=1.0, xyz_geq@int_slack@2=0.0, status=SUCCESS\n"
     ]
    }
   ],
   "source": [
    "result_qubo = cplex_optimizer.solve(qubo)\n",
    "print(result_qubo)"
   ]
  },
  {
   "cell_type": "markdown",
   "id": "0c134c8c-6eb2-4ac6-af86-39c51c611521",
   "metadata": {},
   "source": [
    "We can see that the result of the `interpret` method implies that both the original and converted problems have exactly the same solution. This is expected because the converted problem has exactly the same variables as the original problem, the objective has been modified in such a way that we do not have the constraints anymore in the converted problem.\n",
    "\n",
    "Finally, let us see how we interpret the result of QUBO back to the solution of the original problem `qp`. The cell below shows that the interpreted values are equivalent to the result of the original problem `qp`."
   ]
  },
  {
   "cell_type": "code",
   "execution_count": 36,
   "id": "6e37c5c6-dbba-4677-a957-fe3baa88a65f",
   "metadata": {},
   "outputs": [
    {
     "name": "stdout",
     "output_type": "stream",
     "text": [
      "interpreting values of result_eq_bin: [1. 1. 1. 1. 0. 0. 0. 0. 0. 1. 0.]\n",
      "values of result_eq_bin: [1. 1. 1. 1. 0. 0. 0. 0. 0. 1. 0.]\n"
     ]
    }
   ],
   "source": [
    "print(\"interpreting values of result_eq_bin:\", lineq2penalty.interpret(result_qubo.x))\n",
    "print(\"values of result_eq_bin:\", result_eq_bin.x)"
   ]
  },
  {
   "cell_type": "code",
   "execution_count": 37,
   "id": "efa6fc69-1eda-48e0-b6aa-f798462e3a7c",
   "metadata": {},
   "outputs": [
    {
     "name": "stdout",
     "output_type": "stream",
     "text": [
      "result_orig.x [1. 1. 3.]\n",
      "interpreting result_qubo.x [1. 1. 3.]\n"
     ]
    }
   ],
   "source": [
    "print(\"result_orig.x\", result_orig.x)\n",
    "\n",
    "x = result_qubo.x\n",
    "for conv in [lineq2penalty, int2bin, ineq2eq]:\n",
    "    x = conv.interpret(x)\n",
    "print(\"interpreting result_qubo.x\", x)"
   ]
  },
  {
   "cell_type": "markdown",
   "id": "0d8b67ac-8c1f-4c31-b34a-9d46820dc6f2",
   "metadata": {},
   "source": [
    "### Conclusion\n",
    "\n",
    "Congratulations! You have successfully practiced conversions of a `QuadraticProgram` instance across multiple forms to represent the original problem. While we only explored three conversions in this notebook, as mentioned at the start of the notebook, there are multiple conversions available. Each conversion has their own purpose and it depends on what final form you want your `QuadraticProgram` to take!"
   ]
  },
  {
   "cell_type": "code",
   "execution_count": null,
   "id": "fd3046db-7ba1-4394-90fc-d678c35bd2b4",
   "metadata": {},
   "outputs": [],
   "source": []
  }
 ],
 "metadata": {
  "kernelspec": {
   "display_name": "Python 3 (ipykernel)",
   "language": "python",
   "name": "python3"
  },
  "language_info": {
   "codemirror_mode": {
    "name": "ipython",
    "version": 3
   },
   "file_extension": ".py",
   "mimetype": "text/x-python",
   "name": "python",
   "nbconvert_exporter": "python",
   "pygments_lexer": "ipython3",
   "version": "3.12.3"
  }
 },
 "nbformat": 4,
 "nbformat_minor": 5
}
