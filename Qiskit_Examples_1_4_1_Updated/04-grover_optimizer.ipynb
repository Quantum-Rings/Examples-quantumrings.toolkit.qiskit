{
 "cells": [
  {
   "cell_type": "markdown",
   "id": "5882c269-3eb3-4309-a4db-737cf3a569f4",
   "metadata": {},
   "source": [
    "# 04 - Grover Optimizer"
   ]
  },
  {
   "cell_type": "markdown",
   "id": "db26a3d9-fdf7-4d65-b14a-81f4924b4826",
   "metadata": {},
   "source": [
    "#### Uncomment the cell below to pip install the necessary modules if not already installed\n",
    "\n",
    "#### Note: Works with Qiskit Version 1.4.1 and Quantum Rings Qiskit Toolkit Version 0.1.10"
   ]
  },
  {
   "cell_type": "code",
   "execution_count": 2,
   "id": "9ea15911-4670-4bc7-a95c-e7ff801a682b",
   "metadata": {
    "scrolled": true
   },
   "outputs": [],
   "source": [
    "# %pip install qiskit-algorithms\n",
    "# %pip install quantumrings-toolkit-qiskit==0.1.10\n",
    "# %pip install qiskit==1.4.1\n",
    "# %pip install qiskit-optimization"
   ]
  },
  {
   "cell_type": "markdown",
   "id": "6819456f-07f4-40d0-b4f4-071fc36aa8e0",
   "metadata": {},
   "source": [
    "#### Restart the kernel after installing any of the missing packages"
   ]
  },
  {
   "cell_type": "markdown",
   "id": "c32a165a-c044-41d1-bc25-82c5cb22ca7f",
   "metadata": {},
   "source": [
    "### Introduction\n",
    "\n",
    "In this notebook, we will explore the [Grover Adaptive Search (GAS)](https://arxiv.org/abs/1912.04088) which is an advancement on the original [Grover's Search Algorithm](https://arxiv.org/abs/quant-ph/9605043) developed by Gilliam, Woerner, and Gonciulea (2019). \n",
    "\n",
    "The Grover Adaptive Search has been explored as a possible solution for combinatorial optimization problems, alongside variational algorithms such as Variational Quantum Eigensolver (VQE) and Quantum Approximate Optimization Algorithm (QAOA). The algorithm iteratively applies Grover Search to find the optimum value of an objective function by using the best-known value from the previous run as a threshold. The adaptive oracle used in GAS recognizes all values above or below the current threshold (for max and min respectively), decreasing the size of the search space every iteration the threshold is updated, until an optimum is found.\n",
    "\n",
    "We will explore each component of the `GroverOptimizer`, which utilizes the techniques described in GAS, by minimizing a Quadratic Unconstrained Binary Optimization (QUBO) problem."
   ]
  },
  {
   "cell_type": "markdown",
   "id": "d488a45f-c90f-48a9-a9b5-e6ff7f94a8a2",
   "metadata": {},
   "source": [
    "### Grover Adaptive Search\n",
    "\n",
    "Let us cover some of the theory behind the Grover Adaptive Search before we jump in to the coding. \n",
    "\n",
    "The Grover Search, at its core, needs three ingredients:\n",
    "\n",
    "1. A state preparation operator $A$ to construct a superposition of all states in the search space.\n",
    "2. An oracle operator $O$ that recognizes the states of interest and multiplies their amplitudes by -1.\n",
    "3. The Grover diffusion operator $D$ that multiplies the amplitude of the $\\ket{0}_n$ state by -1.\n",
    "\n",
    "While implementations of GAS vary around the specific use case, the general framework still loosely follows the steps described below.\n",
    "\n",
    "<div>\n",
    "<img src=\"aux_files/GAS-Algorithm.png\" width=\"400\"/>\n",
    "</div>\n",
    "\n",
    "`GroverOptimizer` uses `QuadraticProgramToNegativeValueOracle` to construct $A_y$ such that it prepares a $n$-qubit register to represent the equal superposition of all $\\ket{x}_n$ and a $m$-qubit register to (approximately) represent the corresponding $\\ket{Q(x)-y}_m$. All states with ($Q(x)-y$) negative should be flagged by $O_y$. Note that in the implementation discussed, the oracle operator is actually independent of $y$, but this is not a requirement. For clarity, we will refer to the oracle as $O$ when the oracle is independent of $y$.\n",
    "\n",
    "Formally, `QuadraticProgramToNegativeValueOracle` constructs an $A_y$ and $O$ such that:\n",
    "\n",
    "<div>\n",
    "<img src=\"aux_files/a-o-dfn.png\" width=\"400\"/>\n",
    "</div>\n",
    "\n",
    "where $\\ket{x}$ is the binary encoding of the integer $x$.\n",
    "\n",
    "At each iteration in which the threshold $y$ is updated, we adapt $A_y$ such that the function values are shifted up or down (for minimum and maximum respectively) by $y$. For example, in the context of finding the minimum, as the value of $y$ decreases, the search space (negative values) also decreases, until only the minimum value remains. A concrete example will be explored in the next section."
   ]
  },
  {
   "cell_type": "markdown",
   "id": "a4c844ec-71fe-42a2-a737-40b8e2ff5fed",
   "metadata": {},
   "source": [
    "### Find the Minimum of a QUBO Problem using GroverOptimizer\n",
    "\n",
    "The following is an example of a minimization problem\n",
    "\n",
    "\\begin{eqnarray}\n",
    "\\min_{x \\in \\{0, 1\\}^3} -2x_0x_2 - x_1x_2 - 1x_0 + 2x_1 - 3x_2.\n",
    "\\end{eqnarray}\n",
    "\n",
    "For our initial steps, we create a `docplex` model that defines the problem above, and then use the `from_docplex_mp()` function to convert the model to a `QuadraticProgram`, which can be used to represent a QUBO in Qiskit Optimization."
   ]
  },
  {
   "cell_type": "code",
   "execution_count": 1,
   "id": "818b9459-3dc4-41a2-a827-6ffeeb666fcb",
   "metadata": {},
   "outputs": [],
   "source": [
    "# This code is from the tutorial at:\n",
    "# https://qiskit-community.github.io/qiskit-optimization/tutorials/04_grover_optimizer.html"
   ]
  },
  {
   "cell_type": "code",
   "execution_count": 2,
   "id": "7731c2cb-33dc-498b-a957-da86586b4332",
   "metadata": {},
   "outputs": [],
   "source": [
    "from qiskit_algorithms import NumPyMinimumEigensolver\n",
    "\n",
    "from quantumrings.toolkit.qiskit import QrSamplerV1 as Sampler\n",
    "\n",
    "from qiskit_optimization.algorithms import GroverOptimizer, MinimumEigenOptimizer\n",
    "from qiskit_optimization.translators import from_docplex_mp\n",
    "from docplex.mp.model import Model"
   ]
  },
  {
   "cell_type": "code",
   "execution_count": 3,
   "id": "7c1309f6-c1d2-41fa-a9d6-32ae2000c994",
   "metadata": {},
   "outputs": [
    {
     "name": "stdout",
     "output_type": "stream",
     "text": [
      "Problem name: docplex_model1\n",
      "\n",
      "Minimize\n",
      "  -2*x0*x2 - x1*x2 - x0 + 2*x1 - 3*x2\n",
      "\n",
      "Subject to\n",
      "  No constraints\n",
      "\n",
      "  Binary variables (3)\n",
      "    x0 x1 x2\n",
      "\n"
     ]
    }
   ],
   "source": [
    "model = Model()\n",
    "x0 = model.binary_var(name=\"x0\")\n",
    "x1 = model.binary_var(name=\"x1\")\n",
    "x2 = model.binary_var(name=\"x2\")\n",
    "model.minimize(-x0 + 2 * x1 - 3 * x2 - 2 * x0 * x2 - 1 * x1 * x2)\n",
    "qp = from_docplex_mp(model)\n",
    "print(qp.prettyprint())"
   ]
  },
  {
   "cell_type": "markdown",
   "id": "4c4adb9c-63a1-42d8-8bf7-44a7478004b2",
   "metadata": {},
   "source": [
    "We create a `GroverOptimizer` that uses 6 qubits to encode the value, and will terminate after there have been 10 iterations of GAS without progress (i.e. the value of $y$ does not change). The `solve()` function takes the `QuadraticProgram` we created earlier, and returns a results object that contains information about the run."
   ]
  },
  {
   "cell_type": "code",
   "execution_count": 4,
   "id": "820bbce0-b97d-4e6b-8bac-dbabebb05743",
   "metadata": {},
   "outputs": [
    {
     "name": "stdout",
     "output_type": "stream",
     "text": [
      "objective function value: -6.0\n",
      "variable values: x0=1.0, x1=0.0, x2=1.0\n",
      "status: SUCCESS\n"
     ]
    }
   ],
   "source": [
    "grover_optimizer = GroverOptimizer(6, num_iterations=10, sampler=Sampler())\n",
    "results = grover_optimizer.solve(qp)\n",
    "print(results.prettyprint())"
   ]
  },
  {
   "cell_type": "markdown",
   "id": "2386360a-e0d6-4e6e-845f-b4bd1673775a",
   "metadata": {},
   "source": [
    "This results in the optimal solution $x_0=1$, $x_1=0$, $x_2=1$ and the optimal objective value of $-6$ (most of the time, after all, it is a randomized algorithm).\n",
    "\n",
    "A custom visualization of the quantum state shows a possible run of `GroverOptimizer` applied to this QUBO.\n",
    "\n",
    "<div>\n",
    "<img src=\"aux_files/GAS-QUBO-Example.png\" width=\"800\"/>\n",
    "</div>\n",
    "\n",
    "Each graph shows a single iteration of GAS, with the current values of $r$ (= iteration counter) and $y$ (= threshold/offset) shown in the title. The X-axis displays the integer equivalent of the input (e.g. '101' $\\rightarrow$ 5), and the Y-axis shows the possible function values. As there are 3 binary variables, there are $2^3=8$ possible solutions, which are shown in each graph. The color intensity indicates the probability of measuring a certain result (with bright intensity being the highest), while the actual color indicates the corresponding phase (see the phase color-wheel below). Note that as $y$ decreases, we shift all of the values up by that amount, meaning there are fewer and fewer negative values in the distribution, until only one remains (the minimum).\n",
    "\n",
    "<div>\n",
    "<img src=\"aux_files/color-wheel-phase.png\" width=\"200\"/>\n",
    "</div>"
   ]
  },
  {
   "cell_type": "markdown",
   "id": "ff72ccc0-eb58-40d8-b689-92890e40ba57",
   "metadata": {},
   "source": [
    "### Check that the GroverOptimizer finds the correct value\n",
    "\n",
    "We can verify that the algorithm is working correctly using the `MinimumEigenOptimizer` in Qiskit Optimization"
   ]
  },
  {
   "cell_type": "code",
   "execution_count": 5,
   "id": "03094d37-8b32-4c5e-9a51-ef90d5b7b0df",
   "metadata": {},
   "outputs": [
    {
     "name": "stdout",
     "output_type": "stream",
     "text": [
      "objective function value: -6.0\n",
      "variable values: x0=1.0, x1=0.0, x2=1.0\n",
      "status: SUCCESS\n"
     ]
    }
   ],
   "source": [
    "exact_solver = MinimumEigenOptimizer(NumPyMinimumEigensolver())\n",
    "exact_result = exact_solver.solve(qp)\n",
    "print(exact_result.prettyprint())"
   ]
  },
  {
   "cell_type": "markdown",
   "id": "719ba28f-91b4-4d8c-af7e-06ee33f9584f",
   "metadata": {},
   "source": [
    "### Conclusion\n",
    "\n",
    "Congratulations! You have demonstrated the Grover Adaptive Search algorithm on a small optimization example! Feel free to explore the [paper](https://arxiv.org/pdf/1912.04088) linked here and at the top for a more in depth understanding."
   ]
  },
  {
   "cell_type": "code",
   "execution_count": null,
   "id": "fa3e8421-0260-426a-afea-e2a114275ef1",
   "metadata": {},
   "outputs": [],
   "source": []
  }
 ],
 "metadata": {
  "kernelspec": {
   "display_name": "Python 3 (ipykernel)",
   "language": "python",
   "name": "python3"
  },
  "language_info": {
   "codemirror_mode": {
    "name": "ipython",
    "version": 3
   },
   "file_extension": ".py",
   "mimetype": "text/x-python",
   "name": "python",
   "nbconvert_exporter": "python",
   "pygments_lexer": "ipython3",
   "version": "3.12.3"
  }
 },
 "nbformat": 4,
 "nbformat_minor": 5
}
