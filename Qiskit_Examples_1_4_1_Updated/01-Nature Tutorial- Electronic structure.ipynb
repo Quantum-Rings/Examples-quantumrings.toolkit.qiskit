{
 "cells": [
  {
   "cell_type": "markdown",
   "id": "91180831-0527-4636-a4ac-e5646ff95107",
   "metadata": {},
   "source": [
    "# 01-Nature Tutorial- Electronic structure"
   ]
  },
  {
   "cell_type": "markdown",
   "id": "f20c0657-7249-408e-a8ad-7afdb6c128ae",
   "metadata": {},
   "source": [
    "#### Uncomment the cell below to pip install the necessary modules if not already installed\n",
    "\n",
    "#### Note: Works with Qiskit Version 1.4.1"
   ]
  },
  {
   "cell_type": "code",
   "execution_count": 1,
   "id": "8ba5632b-f049-4586-abc4-5b5312f27a5e",
   "metadata": {
    "scrolled": true
   },
   "outputs": [],
   "source": [
    "# %pip install qiskit-nature\n",
    "# %pip install qiskit-algorithms\n",
    "# %pip install qiskit==1.4.1\n",
    "# %pip install --prefer-binary pyscf"
   ]
  },
  {
   "cell_type": "markdown",
   "id": "1953c218-ae82-4e54-9c34-58822afaf80a",
   "metadata": {},
   "source": [
    "#### Restart the kernel after installing any of the missing packages"
   ]
  },
  {
   "cell_type": "markdown",
   "id": "67462ce4-ad5a-4b25-ac6c-4263f1a7b953",
   "metadata": {},
   "source": [
    "### Introduction\n",
    "\n",
    "In this notebook we will be exploring the electronic structure of atoms and molecules. While we only show the $H_2$ molecule in this notebook, you are encouraged to think and explore with other molecules or single atoms. This will require some chemistry knowledge, but there are many resources available online.\n",
    "\n",
    "For this notebook, we will need to cover some \"basic\" ideas regarding electronic structure of molecules which is largely governed by the energy of the molecule and the molecular orbitals. We can begin to describe these using the molecular Hamiltonian shown below.\n",
    "\n",
    "$$\n",
    "\\mathcal{H} = - \\sum_I \\frac{\\nabla_{R_I}^2}{M_I} - \\sum_i \\frac{\\nabla_{r_i}^2}{m_e} - \\sum_I\\sum_i  \\frac{Z_I e^2}{|R_I-r_i|} + \\sum_i \\sum_{j>i} \\frac{e^2}{|r_i-r_j|} + \\sum_I\\sum_{J>I} \\frac{Z_I Z_J e^2}{|R_I-R_J|}\n",
    "$$\n",
    "\n",
    "Yes, that is hard to look at. Let's break it down to something more manageable.\n",
    "\n",
    "$$\n",
    "\\hat{H} = \\hat{K}_N + \\hat{K}_e + \\hat{V}_{eN} + \\hat{V}_{ee} + \\hat{V}_{NN}\n",
    "$$\n",
    "\n",
    "These are directly transferable. Each term represents a different interaction within the molecule as defined below:\n",
    "\n",
    "$\\hat{K}_N$: Nuclear kinetic energy operator\n",
    "\n",
    "$\\hat{K}_e$: Electron kinetic energy operator\n",
    "\n",
    "$\\hat{V}_{eN}$: Potential energy between electrons and nuclei\n",
    "\n",
    "$\\hat{V}_{ee}$: Potential energy between electrons\n",
    "\n",
    "$\\hat{V}_{NN}$: Potential energy between nuclei\n",
    "\n",
    "Now that we've made some sense of the above, let's reduce it down further. The nucleus of an atom has a velocity significantly lower than that of an electron. Relative to the electron, we could treat the nucleus as though it is in a fixed position. So we can drop the nuclear kinetic energy term from the Hamiltonian. Our last simplification will come from dropping the potential energy of the nuclei. We can do this because we are fixing our nuclei, causing this term to become a constant value that will only shift our eigenvalue amounts by some fixed amount. This simplification is part of the [Born-Oppenheimer Approximation](https://en.wikipedia.org/wiki/Born%E2%80%93Oppenheimer_approximation), and despite being an approximation, is surprisingly accurate. \n",
    "\n",
    "Our simplified equation then becomes \n",
    "\n",
    "$$\n",
    "\\hat{H} = \\hat{K}_e + \\hat{V}_{eN} + \\hat{V}_{ee}\n",
    "$$\n",
    "\n",
    "Where\n",
    "$$\n",
    "\\hat{K}_e = - \\sum_i \\frac{\\nabla_{r_i}^2}{m_e}\n",
    "$$\n",
    "$$\n",
    "\\hat{V}_{eN} = - \\sum_I\\sum_i  \\frac{Z_I e^2}{|R_I-r_i|}\n",
    "$$\n",
    "$$\n",
    "\\hat{V}_{ee} = \\sum_i \\sum_{j>i} \\frac{e^2}{|r_i-r_j|}\n",
    "$$\n",
    "\n",
    "With our new Hamiltonian operator, we can create a time independent Schrödinger equation (TISE)\n",
    "\n",
    "$$\n",
    "\\mathcal{H}_{el} \\ket{\\Psi_n} = E_n\\ket{\\Psi_n}\n",
    "$$\n",
    "\n",
    "where \n",
    "\n",
    "$$\n",
    "\\mathcal{H}_{el} = - \\sum_i \\frac{\\nabla_{r_i}^2}{m_e} - \\sum_I\\sum_i  \\frac{Z_I e^2}{|R_I-r_i|} + \\sum_i \\sum_{j>i} \\frac{e^2}{|r_i-r_j|}\n",
    "$$\n",
    "\n",
    "We are interested in the ground state energy for the system given by:\n",
    "\n",
    "$$\n",
    "E_0 = \\frac{\\bra{\\Psi_0}H_{el}\\ket{\\Psi_0}}{\\langle \\Psi_0 | \\Psi_0 \\rangle}\n",
    "$$\n",
    "\n",
    "Since the dimensionality of this problem grows exponentially with the number of degrees of freedom (think $2^N$ with N being the system size), we encounter a problem. We can approach this by preparing $\\Psi_0$ on a quantum computer and measure the Hamiltonian expectation value ($E_0$) directly. Thus, our last step of this problem involves applying the Hartree-Fock solution.\n",
    "\n",
    "### Hartree-Fock \n",
    "\n",
    "The [Hartree-Fock (HF)](https://en.wikipedia.org/wiki/Hartree%E2%80%93Fock_method) method is another approximation method for an N-body problem that works by breaking the full problem down into N one-body problems. This means each electron is treated as though it is evolving in the mean-field of the other electrons. Classically solving the HF equations leads to the exact exchange energy in an efficient manner, but does not include any electron correlations. Therefore, we can start with this and add the correlations later.\n",
    "\n",
    "We can re-express the Hamiltonian in the basis of the solutions of the HF method, this is called the Molecular Orbitals (MOs):\n",
    "\n",
    "$$\n",
    "\\hat{H}_{elec}=\\sum_{pq} h_{pq} \\hat{a}^{\\dagger}_p \\hat{a}_q + \n",
    "\\frac{1}{2} \\sum_{pqrs} h_{pqrs}  \\hat{a}^{\\dagger}_p \\hat{a}^{\\dagger}_q \\hat{a}_r  \\hat{a}_s\n",
    "$$\n",
    "\n",
    "with 1-body integrals \n",
    "\n",
    "$$\n",
    "h_{pq} = \\int \\phi^*_p(r) \\left( -\\frac{1}{2} \\nabla^2 - \\sum_{I} \\frac{Z_I}{R_I- r} \\right)   \\phi_q(r)dr\n",
    "$$\n",
    "\n",
    "and 2-body integrals\n",
    "\n",
    "$$\n",
    "h_{pqrs} = \\int \\frac{\\phi^*_p(r_1)  \\phi^*_q(r_2) \\phi_r(r_2)  \\phi_s(r_1)}{|r_1-r_2|}dr_1dr_2.\n",
    "$$\n",
    "\n",
    "The MOs ($\\phi_u$) can be occupied or unoccupied (virtual). One MO can contain 2 electrons. With what we will be doing, we actually care more about the Spin Orbitals which are associated with a spin up ($\\alpha$) or spin down ($\\beta$) electron. Thus Spin Orbitals can contain one electron or be unoccupied.\n",
    "\n",
    "> **Note**: when referring to the number of orbitals, we will be using the number of spatial orbitals. These orbitals exist in a Cartesian space where molecular or spin do not matter. Each spatial orbital is then split into two Spin Orbitals.\n",
    "\n",
    "Now that we have an introductory understanding of the electronic structure at the quantum level, we can begin to concretely bring this theory into reality with Qiskit."
   ]
  },
  {
   "cell_type": "code",
   "execution_count": 2,
   "id": "f7bf8a0c-7b30-4d97-856e-686fd98ee416",
   "metadata": {},
   "outputs": [],
   "source": [
    "# This code is from:\n",
    "# https://qiskit-community.github.io/qiskit-nature/tutorials/01_electronic_structure.html"
   ]
  },
  {
   "cell_type": "markdown",
   "id": "f3193f01-d1c2-4048-b1a0-ef417dfedce2",
   "metadata": {},
   "source": [
    "#### Obtain an initial Hartree-Fock solution\n",
    "\n",
    "There are several classical codes that are capabable of finding the HF solutions. For Qiskit we have:\n",
    "<ul>\n",
    "    <li>Gaussian</li>\n",
    "    <li>Psi4</li>\n",
    "    <li>PySCF</li>\n",
    "</ul>\n",
    "\n",
    "We will set up a PySCF driver for the hydrogen molecule at equilibrium bond length of 0.735 angstrom (Å) in the singlet state and with no charge."
   ]
  },
  {
   "cell_type": "code",
   "execution_count": 3,
   "id": "0cf9f9d0-738c-422f-8537-15eaf76914fe",
   "metadata": {},
   "outputs": [],
   "source": [
    "from qiskit_nature.units import DistanceUnit\n",
    "from qiskit_nature.second_q.drivers import PySCFDriver\n",
    "\n",
    "driver = PySCFDriver(\n",
    "    atom=\"H 0 0 0; H 0 0 0.735\",\n",
    "    basis=\"sto3g\",\n",
    "    charge=0,\n",
    "    spin=0,\n",
    "    unit=DistanceUnit.ANGSTROM,\n",
    ")"
   ]
  },
  {
   "cell_type": "markdown",
   "id": "a50e716d-4490-4c78-a076-c99d961bd60e",
   "metadata": {},
   "source": [
    "### ElectronicStructureProblem\n",
    "\n",
    "With our driver created, we now have a variable that holds our `ElectronicStructureProblem`. Most of this notebook will be spent exploring the different features and attributes of this problem instance. First we will run the driver and print out the problem as the object type and memory location."
   ]
  },
  {
   "cell_type": "code",
   "execution_count": 4,
   "id": "264c6e35-9d21-492b-8a84-8484122f7523",
   "metadata": {},
   "outputs": [
    {
     "name": "stdout",
     "output_type": "stream",
     "text": [
      "<qiskit_nature.second_q.problems.electronic_structure_problem.ElectronicStructureProblem object at 0x736dbd72b140>\n"
     ]
    }
   ],
   "source": [
    "problem = driver.run()\n",
    "print(problem)"
   ]
  },
  {
   "cell_type": "markdown",
   "id": "21efed7b-eb11-41be-a483-3ea2cb5c38ca",
   "metadata": {},
   "source": [
    "Our most important aspect of this problem is the internal Hamiltonian. This is defined as the `ElectronicEnergy` Hamiltonian. The `ElectronicStructureProblem` class is able to generate the second-quantized operator from the 1- and 2-body integrals which the classical code has computed for us.\n",
    "\n",
    ">**Important**: The container class for the integral coefficients (`PolynomialTensor`) requires the 2-body terms to be provided in physicist order! This is seen in the way the alpha coefficients print out.\n",
    "\n",
    "Physicist order follows the notation in the integral above [p, q, r, s] So for the one-electron integral the coefficients will print out as [p, q] and for the two-electron integral it will print out as [p, q, r, s]. This is an important distinction from chemistry order which changes the ordering of the indices."
   ]
  },
  {
   "cell_type": "code",
   "execution_count": 5,
   "id": "cc68c496-fab5-4d6a-b40b-6f804c58c6d3",
   "metadata": {},
   "outputs": [
    {
     "name": "stdout",
     "output_type": "stream",
     "text": [
      "Polynomial Tensor\n",
      " \"+-\":\n",
      "array([[-1.25633907e+00, -1.37083854e-17],\n",
      "       [-6.07732712e-17, -4.71896007e-01]])\n",
      " \"++--\":\n",
      "array([6.75710155e-01, 1.38777878e-16, 1.80931200e-01, 6.64581730e-01,\n",
      "       5.55111512e-17, 6.98573723e-01])\n"
     ]
    }
   ],
   "source": [
    "hamiltonian = problem.hamiltonian\n",
    "\n",
    "coefficients = hamiltonian.electronic_integrals\n",
    "print(coefficients.alpha)"
   ]
  },
  {
   "cell_type": "code",
   "execution_count": 6,
   "id": "c38eaeda-bf8a-46a8-a845-809498690e33",
   "metadata": {},
   "outputs": [
    {
     "name": "stdout",
     "output_type": "stream",
     "text": [
      "Fermionic Operator\n",
      "number spin orbitals=4, number terms=36\n",
      "  -1.25633907300325 * ( +_0 -_0 )\n",
      "+ -0.47189600728114184 * ( +_1 -_1 )\n",
      "+ -1.25633907300325 * ( +_2 -_2 )\n",
      "+ -0.47189600728114184 * ( +_3 -_3 )\n",
      "+ 0.33785507740175813 * ( +_0 +_0 -_0 -_0 )\n",
      "+ 0.3322908651276482 * ( +_0 +_1 -_1 -_0 )\n",
      "+ 0.33785507740175813 * ( +_0 +_2 -_2 -_0 )\n",
      "+ 0.3322908651276482 * ( +_0 +_3 -_3 -_0 )\n",
      "+ 0.09046559989211572 * ( +_0 +_0 -_1 -_1 )\n",
      "+ 0.09046559989211572 * ( +_0 +_1 -_0 -_1 )\n",
      "+ 0.09046559989211572 * ( +_0 +_2 -_3 -_1 )\n",
      "+ 0.09046559989211572 * ( +_0 +_3 -_2 -_1 )\n",
      "+ 0.09046559989211572 * ( +_1 +_0 -_1 -_0 )\n",
      "+ 0.09046559989211572 * ( +_1 +_1 -_0 -_0 )\n",
      "+ 0.09046559989211572 * ( +_1 +_2 -_3 -_0 )\n",
      "+ 0.09046559989211572 * ( +_1 +_3 -_2 -_0 )\n",
      "+ 0.3322908651276482 * ( +_1 +_0 -_0 -_1 )\n",
      "+ 0.34928686136600884 * ( +_1 +_1 -_1 -_1 )\n",
      "+ 0.3322908651276482 * ( +_1 +_2 -_2 -_1 )\n",
      "+ 0.34928686136600884 * ( +_1 +_3 -_3 -_1 )\n",
      "+ 0.33785507740175813 * ( +_2 +_0 -_0 -_2 )\n",
      "+ 0.3322908651276482 * ( +_2 +_1 -_1 -_2 )\n",
      "+ 0.33785507740175813 * ( +_2 +_2 -_2 -_2 )\n",
      "+ 0.3322908651276482 * ( +_2 +_3 -_3 -_2 )\n",
      "+ 0.09046559989211572 * ( +_2 +_0 -_1 -_3 )\n",
      "+ 0.09046559989211572 * ( +_2 +_1 -_0 -_3 )\n",
      "+ 0.09046559989211572 * ( +_2 +_2 -_3 -_3 )\n",
      "+ 0.09046559989211572 * ( +_2 +_3 -_2 -_3 )\n",
      "+ 0.09046559989211572 * ( +_3 +_0 -_1 -_2 )\n",
      "+ 0.09046559989211572 * ( +_3 +_1 -_0 -_2 )\n",
      "+ 0.09046559989211572 * ( +_3 +_2 -_3 -_2 )\n",
      "+ 0.09046559989211572 * ( +_3 +_3 -_2 -_2 )\n",
      "+ 0.3322908651276482 * ( +_3 +_0 -_0 -_3 )\n",
      "+ 0.34928686136600884 * ( +_3 +_1 -_1 -_3 )\n",
      "+ 0.3322908651276482 * ( +_3 +_2 -_2 -_3 )\n",
      "+ 0.34928686136600884 * ( +_3 +_3 -_3 -_3 )\n"
     ]
    }
   ],
   "source": [
    "# The second quantized operator of the Hamiltonian. Does not include the nuclear repulsion energy\n",
    "\n",
    "second_q_op = hamiltonian.second_q_op()\n",
    "print(second_q_op)"
   ]
  },
  {
   "cell_type": "code",
   "execution_count": 7,
   "id": "1e0819b4-79bf-4696-921b-e6f01a182700",
   "metadata": {},
   "outputs": [
    {
     "data": {
      "text/plain": [
       "np.float64(0.7199689944489797)"
      ]
     },
     "execution_count": 7,
     "metadata": {},
     "output_type": "execute_result"
    }
   ],
   "source": [
    "# You can print out the nuclear repulsion energy directly\n",
    "\n",
    "hamiltonian.nuclear_repulsion_energy  # NOT included in the second_q_op above"
   ]
  },
  {
   "cell_type": "code",
   "execution_count": 8,
   "id": "e992a243-083e-4831-b6d0-2095658cc68c",
   "metadata": {},
   "outputs": [
    {
     "data": {
      "text/plain": [
       "MoleculeInfo(symbols=['H', 'H'], coords=[(0.0, 0.0, 0.0), (0.0, 0.0, 1.3889487015553204)], multiplicity=1, charge=0, units=<DistanceUnit.BOHR: 'Bohr'>, masses=[np.int64(1), np.int64(1)])"
      ]
     },
     "execution_count": 8,
     "metadata": {},
     "output_type": "execute_result"
    }
   ],
   "source": [
    "# Prints out the information regarding the molecule initially created\n",
    "\n",
    "problem.molecule"
   ]
  },
  {
   "cell_type": "code",
   "execution_count": 9,
   "id": "37a2a377-cc71-4f88-8fee-17d27c2c97fe",
   "metadata": {},
   "outputs": [
    {
     "data": {
      "text/plain": [
       "np.float64(-1.116998996754004)"
      ]
     },
     "execution_count": 9,
     "metadata": {},
     "output_type": "execute_result"
    }
   ],
   "source": [
    "# Prints out the reference energy for the ground state of the molecule.\n",
    "\n",
    "problem.reference_energy"
   ]
  },
  {
   "cell_type": "code",
   "execution_count": 10,
   "id": "de226a98-7810-4697-a0f7-658ef361f140",
   "metadata": {},
   "outputs": [
    {
     "data": {
      "text/plain": [
       "(1, 1)"
      ]
     },
     "execution_count": 10,
     "metadata": {},
     "output_type": "execute_result"
    }
   ],
   "source": [
    "# Number of particles in alpha- and beta-spin\n",
    "\n",
    "problem.num_particles"
   ]
  },
  {
   "cell_type": "code",
   "execution_count": 11,
   "id": "37778bd9-e908-4128-9749-8414bddf64e6",
   "metadata": {},
   "outputs": [
    {
     "data": {
      "text/plain": [
       "2"
      ]
     },
     "execution_count": 11,
     "metadata": {},
     "output_type": "execute_result"
    }
   ],
   "source": [
    "# Number of spatial orbitals in the system\n",
    "\n",
    "problem.num_spatial_orbitals"
   ]
  },
  {
   "cell_type": "code",
   "execution_count": 12,
   "id": "47c47119-d2df-4edd-9177-3a3c7fdde2d7",
   "metadata": {},
   "outputs": [
    {
     "data": {
      "text/plain": [
       "<ElectronicBasis.MO: 'molecular'>"
      ]
     },
     "execution_count": 12,
     "metadata": {},
     "output_type": "execute_result"
    }
   ],
   "source": [
    "# The electronic basis of all contained orbital coefficients\n",
    "\n",
    "problem.basis"
   ]
  },
  {
   "cell_type": "markdown",
   "id": "170a28e3-aab7-4cec-8a94-554b84919735",
   "metadata": {},
   "source": [
    "The `ElectronicStructureProblem` also contains additional operator factories which will generate observables to be evaluated at the ground- and excited-states at the end of your computation. These are stored in the `properties` container as shown below."
   ]
  },
  {
   "cell_type": "code",
   "execution_count": 13,
   "id": "28a58c43-ef3d-4af8-b6a8-7e8fed588cf2",
   "metadata": {},
   "outputs": [
    {
     "data": {
      "text/plain": [
       "<qiskit_nature.second_q.problems.electronic_properties_container.ElectronicPropertiesContainer at 0x736dbab2e600>"
      ]
     },
     "execution_count": 13,
     "metadata": {},
     "output_type": "execute_result"
    }
   ],
   "source": [
    "# Container for additional observable operator factories\n",
    "\n",
    "problem.properties"
   ]
  },
  {
   "cell_type": "code",
   "execution_count": 14,
   "id": "e36b8377-7909-4342-a8f5-4375cfecd1e8",
   "metadata": {},
   "outputs": [
    {
     "data": {
      "text/plain": [
       "<qiskit_nature.second_q.properties.particle_number.ParticleNumber at 0x736dbaab3830>"
      ]
     },
     "execution_count": 14,
     "metadata": {},
     "output_type": "execute_result"
    }
   ],
   "source": [
    "# The ParticleNumber property. Contains information about spatial orbitals\n",
    "\n",
    "problem.properties.particle_number"
   ]
  },
  {
   "cell_type": "code",
   "execution_count": 15,
   "id": "dc51f180-1703-4583-a0c3-c15e1d1040a5",
   "metadata": {},
   "outputs": [
    {
     "data": {
      "text/plain": [
       "<qiskit_nature.second_q.properties.angular_momentum.AngularMomentum at 0x736dbab079b0>"
      ]
     },
     "execution_count": 15,
     "metadata": {},
     "output_type": "execute_result"
    }
   ],
   "source": [
    "# The AngularMomentum property\n",
    "\n",
    "problem.properties.angular_momentum"
   ]
  },
  {
   "cell_type": "code",
   "execution_count": 16,
   "id": "aedaeab5-8cbe-47c7-a10e-3182b6f23144",
   "metadata": {},
   "outputs": [
    {
     "data": {
      "text/plain": [
       "<qiskit_nature.second_q.properties.magnetization.Magnetization at 0x736dbaa7f8f0>"
      ]
     },
     "execution_count": 16,
     "metadata": {},
     "output_type": "execute_result"
    }
   ],
   "source": [
    "# The Magnetization property\n",
    "\n",
    "problem.properties.magnetization"
   ]
  },
  {
   "cell_type": "code",
   "execution_count": 17,
   "id": "759657b1-f00b-44a6-b391-6f10ae07afd6",
   "metadata": {},
   "outputs": [
    {
     "data": {
      "text/plain": [
       "<qiskit_nature.second_q.properties.dipole_moment.ElectronicDipoleMoment at 0x736dbd72b800>"
      ]
     },
     "execution_count": 17,
     "metadata": {},
     "output_type": "execute_result"
    }
   ],
   "source": [
    "# The ElectronicDipoleMoment property. \n",
    "# Contains information about the cartesian dipoles for the system\n",
    "\n",
    "problem.properties.electronic_dipole_moment"
   ]
  },
  {
   "cell_type": "markdown",
   "id": "104ec985-e7dd-4638-ac10-db1d1bfe1c3d",
   "metadata": {},
   "source": [
    "### Solve the Problem\n",
    "\n",
    "Now that we are familiar with some of the components of the `ElectronicStructureProblem` we can compute the ground-state of our problem instance. First we will create an Eigensolver using a `GroundStateEigenSolver` class that takes in a mapper and eigensolver function. In short, the [Jordan-Wigner mapper](https://en.wikipedia.org/wiki/Jordan%E2%80%93Wigner_transformation) will map spin operators onto fermionic (electron) creation and annihilation operators. The Eigensolver is a standard method using numpy built into the `qiskit_algorithms` module."
   ]
  },
  {
   "cell_type": "code",
   "execution_count": 18,
   "id": "b12abc24-b379-407b-8bb8-44fe5cf05971",
   "metadata": {},
   "outputs": [],
   "source": [
    "from qiskit_algorithms import NumPyMinimumEigensolver\n",
    "from qiskit_nature.second_q.algorithms import GroundStateEigensolver\n",
    "from qiskit_nature.second_q.mappers import JordanWignerMapper\n",
    "\n",
    "solver = GroundStateEigensolver(\n",
    "    JordanWignerMapper(),\n",
    "    NumPyMinimumEigensolver(),\n",
    ")"
   ]
  },
  {
   "cell_type": "code",
   "execution_count": 19,
   "id": "664e2ca4-179e-4c95-9191-6a0767c76d5d",
   "metadata": {},
   "outputs": [
    {
     "name": "stdout",
     "output_type": "stream",
     "text": [
      "=== GROUND STATE ENERGY ===\n",
      " \n",
      "* Electronic ground state energy (Hartree): -1.857275030202\n",
      "  - computed part:      -1.857275030202\n",
      "~ Nuclear repulsion energy (Hartree): 0.719968994449\n",
      "> Total ground state energy (Hartree): -1.137306035753\n",
      " \n",
      "=== MEASURED OBSERVABLES ===\n",
      " \n",
      "  0:  # Particles: 2.000 S: 0.000 S^2: 0.000 M: 0.000\n",
      " \n",
      "=== DIPOLE MOMENTS ===\n",
      " \n",
      "~ Nuclear dipole moment (a.u.): [0.0  0.0  1.3889487]\n",
      " \n",
      "  0: \n",
      "  * Electronic dipole moment (a.u.): [0.0  0.0  1.388948701555]\n",
      "    - computed part:      [0.0  0.0  1.388948701555]\n",
      "  > Dipole moment (a.u.): [0.0  0.0  -0.000000001555]  Total: 0.000000001555\n",
      "                 (debye): [0.0  0.0  -0.000000003953]  Total: 0.000000003953\n",
      " \n"
     ]
    }
   ],
   "source": [
    "# Solve the problem!\n",
    "\n",
    "result = solver.solve(problem)\n",
    "print(result)"
   ]
  },
  {
   "cell_type": "markdown",
   "id": "d355f832-0473-4f2a-9e60-b9f20db83950",
   "metadata": {},
   "source": [
    "### Conclusion\n",
    "\n",
    "Congratulations! You've completed an introductory exploration of the `ElectronicStructureProblem` for a Hydrogen Molecule! The final results above print out the ground state energy for the molecule based on the Hartree-Fock solution. The measured observables are the number of particles, total spin, spin-squared, and spin projection quantum number. Since this is a singlet state the value of zero is expected. The dipole moments give us information about the nuclei and electron dipoles. The units of a.u. are atomic units and debye is a non-SI unit for dipole moment. 1 a.u. is approximately 2.5417 Debye. These values are roughly 0 as the Hydrogen molecule is symmetric so no net charge separation is present."
   ]
  },
  {
   "cell_type": "code",
   "execution_count": null,
   "id": "46364e26-6446-4663-8863-f62e0dfd4856",
   "metadata": {},
   "outputs": [],
   "source": []
  }
 ],
 "metadata": {
  "kernelspec": {
   "display_name": "Python 3 (ipykernel)",
   "language": "python",
   "name": "python3"
  },
  "language_info": {
   "codemirror_mode": {
    "name": "ipython",
    "version": 3
   },
   "file_extension": ".py",
   "mimetype": "text/x-python",
   "name": "python",
   "nbconvert_exporter": "python",
   "pygments_lexer": "ipython3",
   "version": "3.12.3"
  }
 },
 "nbformat": 4,
 "nbformat_minor": 5
}
