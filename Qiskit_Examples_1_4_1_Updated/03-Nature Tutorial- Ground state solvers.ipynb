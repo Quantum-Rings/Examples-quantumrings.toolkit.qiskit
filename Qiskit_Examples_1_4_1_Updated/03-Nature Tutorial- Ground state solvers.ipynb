{
 "cells": [
  {
   "cell_type": "markdown",
   "id": "06e01fc4-1f2c-4727-a1ea-fe650eb7e9b2",
   "metadata": {},
   "source": [
    "# 03-Nature Tutorial- Ground State Solvers"
   ]
  },
  {
   "cell_type": "markdown",
   "id": "f9fcdf24-06dd-4acd-9171-2a040e3b848e",
   "metadata": {},
   "source": [
    "#### Uncomment the cell below to pip install the necessary modules if not already installed\n",
    "\n",
    "#### Note: Works with Qiskit Version 1.4.1 and Quantum Rings Qiskit Toolkit Version 0.1.10"
   ]
  },
  {
   "cell_type": "code",
   "execution_count": 1,
   "id": "8e05d2ff-dd30-4960-8d3d-62583533a9b9",
   "metadata": {
    "scrolled": true
   },
   "outputs": [],
   "source": [
    "# %pip install qiskit-nature\n",
    "# %pip install qiskit-algorithms\n",
    "# %pip install quantumrings-toolkit-qiskit==0.1.10\n",
    "# %pip install qiskit==1.4.1"
   ]
  },
  {
   "cell_type": "markdown",
   "id": "bfe174b0-ab34-4787-a002-7a9e5f118a57",
   "metadata": {},
   "source": [
    "#### Restart the kernel after installing any of the missing packages"
   ]
  },
  {
   "cell_type": "markdown",
   "id": "6c5b7586-7d7e-406e-9c03-de919bb996a3",
   "metadata": {},
   "source": [
    "### Introduction\n",
    "\n",
    "In this notebook tutorial, we are going to discuss the ground state calculation interface of Qiskit Nature. The goal is to compute the ground state of a molecular Hamiltonian. This Hamiltonian can be electronic or vibrational. To learn more about the preparation of the Hamiltonian, check out the notebooks on Electronic Structure and Vibrational Structure.\n",
    "\n",
    "> One thing to note, in the electronic case, we are actually computing purely the electronic part. When using the Qiskit Nature stack as presented in this tutorial, the *nuclear repulsion energy* will be added automatically, to obtain the **total** ground state energy.\n",
    "\n",
    "The first step is to define the molecular system. In the following we ask for the electronic part of a hydrogen molecule. This will follow a similar procedure as seen in the previously mentioned notebooks."
   ]
  },
  {
   "cell_type": "code",
   "execution_count": 2,
   "id": "29e1dba8-8ea0-43e8-9d9f-319b5e7793eb",
   "metadata": {},
   "outputs": [],
   "source": [
    "# This code is from:\n",
    "# https://qiskit-community.github.io/qiskit-nature/tutorials/03_ground_state_solvers.html"
   ]
  },
  {
   "cell_type": "code",
   "execution_count": 3,
   "id": "5e9b7934-9382-4c71-8ade-f80bc220b29b",
   "metadata": {},
   "outputs": [],
   "source": [
    "from qiskit_nature.units import DistanceUnit\n",
    "from qiskit_nature.second_q.drivers import PySCFDriver\n",
    "\n",
    "driver = PySCFDriver(\n",
    "    atom=\"H 0 0 0; H 0 0 0.735\",\n",
    "    basis=\"sto3g\",\n",
    "    charge=0,\n",
    "    spin=0,\n",
    "    unit=DistanceUnit.ANGSTROM,\n",
    ")\n",
    "\n",
    "es_problem = driver.run()\n"
   ]
  },
  {
   "cell_type": "markdown",
   "id": "b4b335eb-1389-4d95-93bc-721c3bd5042b",
   "metadata": {},
   "source": [
    "We will be sticking to the Jordan-Wigner mapping. To learn more about the various mappers available in Qiskit Nature, check out the [Qubit Mappers tutorial](https://qiskit-community.github.io/qiskit-nature/tutorials/06_qubit_mappers.html)."
   ]
  },
  {
   "cell_type": "code",
   "execution_count": 4,
   "id": "c2447731-7d33-460c-9ab2-0a51ee269962",
   "metadata": {},
   "outputs": [],
   "source": [
    "from qiskit_nature.second_q.mappers import JordanWignerMapper\n",
    "\n",
    "mapper = JordanWignerMapper()"
   ]
  },
  {
   "cell_type": "markdown",
   "id": "f4b1660e-9ae2-4ad8-bbe9-04268faa1d60",
   "metadata": {},
   "source": [
    "### The Solver\n",
    "\n",
    "Now we need to define a solver. The solver is the algorithm through which the ground state is computed.\n",
    "\n",
    "Let's first start with a purely classical example: the `NumPyMinimumEigensolver`. This algorithm exactly diagonalizes the Hamiltonian. Although it scales badly, it can be used on small systems to check the results of the quantum algorithms."
   ]
  },
  {
   "cell_type": "code",
   "execution_count": 5,
   "id": "5799d788-3806-4774-8ffc-390311aed2f0",
   "metadata": {},
   "outputs": [],
   "source": [
    "from qiskit_algorithms import NumPyMinimumEigensolver\n",
    "\n",
    "numpy_solver = NumPyMinimumEigensolver()"
   ]
  },
  {
   "cell_type": "markdown",
   "id": "321dc82d-2ba3-4efd-a836-31f2a23a9a74",
   "metadata": {},
   "source": [
    "To find the ground state we could also use the Variational Quantum Eigensolver (VQE) algorithm. The VQE algorithm works by exchanging information between a classical and a quantum computer as depicted in the following figure.\n",
    "\n",
    "![VQE](aux_files/vqe.png)\n",
    "\n",
    "Now let's initialize a VQE solver."
   ]
  },
  {
   "cell_type": "code",
   "execution_count": 6,
   "id": "b82e8bf4-7593-4e81-9dfe-2a1fe0d6b3d3",
   "metadata": {},
   "outputs": [],
   "source": [
    "from qiskit_algorithms import VQE\n",
    "from qiskit_algorithms.optimizers import COBYLA\n",
    "from quantumrings.toolkit.qiskit import QrEstimatorV1 as Estimator\n",
    "\n",
    "from qiskit_nature.second_q.circuit.library import HartreeFock, UCCSD\n",
    "\n",
    "ansatz = UCCSD(\n",
    "    es_problem.num_spatial_orbitals,\n",
    "    es_problem.num_particles,\n",
    "    mapper,\n",
    "    initial_state=HartreeFock(\n",
    "        es_problem.num_spatial_orbitals,\n",
    "        es_problem.num_particles,\n",
    "        mapper,\n",
    "    ),\n",
    ")\n",
    "\n",
    "vqe_solver = VQE(Estimator(), ansatz, COBYLA())\n",
    "vqe_solver.initial_point = [0.0] * ansatz.num_parameters"
   ]
  },
  {
   "cell_type": "markdown",
   "id": "78db6160-92b1-4b52-860f-f9a8a92baacc",
   "metadata": {},
   "source": [
    "To define the VQE solver one needs three essential elements:\n",
    "\n",
    "1. An `Estimator` primitive: Here we import the `Estimator` from Quantum Rings Qiskit Toolkit\n",
    "2. A variational form: Here we used the Unitary Coupled Cluster (UCC) ansatz. For reference, see [Quantum Algorithms for Electronic Structure](https://journals.aps.org/pra/abstract/10.1103/PhysRevA.98.022322). Since it is a chemistry standard, a factory is already available allowing a fast initialization of a VQE with UCC. The default is to use all single and double excitations. However, the excitation type (S, D, SD) as well as other parameters can be selected. We also preprend the `UCCSD` variational form with a `HartreeFock` initial state, which initializes the occupation of our qubits according to the problem which we are trying to solve.\n",
    "3. An optimizer: This is the classical piece of code in charge of optimizing the parameters in our variational form. Feel free to check out [more optimizers](https://qiskit-community.github.io/qiskit-algorithms/apidocs/qiskit_algorithms.optimizers.html).\n",
    "\n",
    "One could also use any available ansatz/initial state or even define one's own. For instance, we define a `TwoLocal` ansatz below with different parameters. Feel free to look at the [TwoLocal](https://docs.quantum.ibm.com/api/qiskit/qiskit.circuit.library.TwoLocal) documentation."
   ]
  },
  {
   "cell_type": "code",
   "execution_count": 7,
   "id": "0d38a1e2-a8d0-4664-b9d5-aae4e5f16f5b",
   "metadata": {},
   "outputs": [],
   "source": [
    "from qiskit_algorithms import VQE\n",
    "from qiskit.circuit.library import TwoLocal\n",
    "\n",
    "tl_circuit = TwoLocal(\n",
    "    rotation_blocks=[\"h\", \"rx\"],\n",
    "    entanglement_blocks=\"cz\",\n",
    "    entanglement=\"full\",\n",
    "    reps=2,\n",
    "    parameter_prefix=\"y\",\n",
    ")\n",
    "\n",
    "another_solver = VQE(Estimator(), tl_circuit, COBYLA())"
   ]
  },
  {
   "cell_type": "markdown",
   "id": "016eb781-0ea2-4414-b907-d8fd7cd5746b",
   "metadata": {},
   "source": [
    "### The calculation and results\n",
    "\n",
    "We are now ready to put everything together to compute the ground-state of our problem. Doing so requires us to wrap our `mapper` and quantum algorithm into a single `GroundStateEigensolver` as shown below."
   ]
  },
  {
   "cell_type": "code",
   "execution_count": 12,
   "id": "a9f5c7cd-282a-4183-bef1-f6a313da28cc",
   "metadata": {},
   "outputs": [],
   "source": [
    "from qiskit_nature.second_q.algorithms import GroundStateEigensolver\n",
    "\n",
    "calc = GroundStateEigensolver(mapper, vqe_solver)"
   ]
  },
  {
   "cell_type": "markdown",
   "id": "c2fed17b-30cc-496c-a231-98196cca1586",
   "metadata": {},
   "source": [
    "Let's recap the workflow:\n",
    "\n",
    "1. Generate the second-quantized operators stored in our problem (here referred to as `es_problem`)\n",
    "2. Mapping (and potentially reducing) the operators in the qubit space\n",
    "3. Running the quantum algorithm on the Hamiltonian qubit operator\n",
    "4. Once converged, evaluating the additional observables at the determined ground state"
   ]
  },
  {
   "cell_type": "code",
   "execution_count": 13,
   "id": "5a157760-4b1b-4810-af6e-f88a21c1e7f9",
   "metadata": {},
   "outputs": [
    {
     "name": "stdout",
     "output_type": "stream",
     "text": [
      "=== GROUND STATE ENERGY ===\n",
      " \n",
      "* Electronic ground state energy (Hartree): -1.857275006879\n",
      "  - computed part:      -1.857275006879\n",
      "~ Nuclear repulsion energy (Hartree): 0.719968994449\n",
      "> Total ground state energy (Hartree): -1.13730601243\n",
      " \n",
      "=== MEASURED OBSERVABLES ===\n",
      " \n",
      "  0:  # Particles: 2.000 S: 0.000 S^2: 0.000 M: 0.000\n",
      " \n",
      "=== DIPOLE MOMENTS ===\n",
      " \n",
      "~ Nuclear dipole moment (a.u.): [0.0  0.0  1.3889487]\n",
      " \n",
      "  0: \n",
      "  * Electronic dipole moment (a.u.): [0.0  0.0  1.388948701266]\n",
      "    - computed part:      [0.0  0.0  1.388948701266]\n",
      "  > Dipole moment (a.u.): [0.0  0.0  -0.000000001266]  Total: 0.000000001266\n",
      "                 (debye): [0.0  0.0  -0.000000003218]  Total: 0.000000003218\n",
      " \n"
     ]
    }
   ],
   "source": [
    "res = calc.solve(es_problem)\n",
    "print(res)"
   ]
  },
  {
   "cell_type": "markdown",
   "id": "5752bd84-9c17-42f7-9651-41daac1f926e",
   "metadata": {},
   "source": [
    "We can compare the VQE results to the NumPy exact solver and see that the energies match."
   ]
  },
  {
   "cell_type": "code",
   "execution_count": 14,
   "id": "45f91094-09ef-4d3c-a97a-c80435d0f137",
   "metadata": {},
   "outputs": [
    {
     "name": "stdout",
     "output_type": "stream",
     "text": [
      "=== GROUND STATE ENERGY ===\n",
      " \n",
      "* Electronic ground state energy (Hartree): -1.857275030202\n",
      "  - computed part:      -1.857275030202\n",
      "~ Nuclear repulsion energy (Hartree): 0.719968994449\n",
      "> Total ground state energy (Hartree): -1.137306035753\n",
      " \n",
      "=== MEASURED OBSERVABLES ===\n",
      " \n",
      "  0:  # Particles: 2.000 S: 0.000 S^2: 0.000 M: 0.000\n",
      " \n",
      "=== DIPOLE MOMENTS ===\n",
      " \n",
      "~ Nuclear dipole moment (a.u.): [0.0  0.0  1.3889487]\n",
      " \n",
      "  0: \n",
      "  * Electronic dipole moment (a.u.): [0.0  0.0  1.388948701555]\n",
      "    - computed part:      [0.0  0.0  1.388948701555]\n",
      "  > Dipole moment (a.u.): [0.0  0.0  -0.000000001555]  Total: 0.000000001555\n",
      "                 (debye): [0.0  0.0  -0.000000003953]  Total: 0.000000003953\n",
      " \n"
     ]
    }
   ],
   "source": [
    "calc = GroundStateEigensolver(mapper, numpy_solver)\n",
    "res = calc.solve(es_problem)\n",
    "print(res)"
   ]
  },
  {
   "cell_type": "markdown",
   "id": "10961d7c-16ea-444c-8cdf-5eb94810c3ce",
   "metadata": {},
   "source": [
    "### Using a filter function\n",
    "\n",
    "Sometimes the true ground state of the Hamiltonian is not of interest because it lies in a different symmetry sector of the Hilbert space. In this case, the `NumPyEigensolver` can take a filter function to return only the eigenstates with, for example, the correct number of particles. The function may act to give us only the information we want to know. This is of particular importance in the case of vibrational structure calculations where the true ground state of the Hamiltonian is the vacuum state. A default filter function to check the number of particles is implemented in the different problems and its use is shown in the cell below."
   ]
  },
  {
   "cell_type": "code",
   "execution_count": 16,
   "id": "4ac11002-540e-47a7-8754-d622babeb94e",
   "metadata": {},
   "outputs": [
    {
     "name": "stderr",
     "output_type": "stream",
     "text": [
      "The optional dependency 'sparse' is not installed. Falling back to using 'numpy' arrays instead. Consider installing the 'sparse' package to reduce memory requirements.\n"
     ]
    },
    {
     "name": "stdout",
     "output_type": "stream",
     "text": [
      "=== GROUND STATE ===\n",
      " \n",
      "* Vibrational ground state energy (cm^-1): (-3e-12-0j)\n",
      "The number of occupied modals for each mode is: \n",
      "- Mode 0: 0.0\n",
      "- Mode 1: 0.0\n",
      "- Mode 2: 0.0\n",
      "- Mode 3: 0.0\n",
      "\n",
      "\n",
      "\n",
      "=== GROUND STATE ===\n",
      " \n",
      "* Vibrational ground state energy (cm^-1): 2432.10695403655\n",
      "The number of occupied modals for each mode is: \n",
      "- Mode 0: 1.0\n",
      "- Mode 1: 1.0\n",
      "- Mode 2: 1.0\n",
      "- Mode 3: 1.0\n"
     ]
    }
   ],
   "source": [
    "from qiskit_algorithms import NumPyMinimumEigensolver\n",
    "from qiskit_nature.second_q.drivers import GaussianForcesDriver\n",
    "from qiskit_nature.second_q.mappers import DirectMapper\n",
    "from qiskit_nature.second_q.problems import HarmonicBasis\n",
    "\n",
    "driver = GaussianForcesDriver(logfile=\"aux_files/CO2_freq_B3LYP_631g.log\")\n",
    "basis = HarmonicBasis([2, 2, 2, 2])\n",
    "vib_problem = driver.run(basis=basis)\n",
    "vib_problem.hamiltonian.truncation_order = 2\n",
    "\n",
    "mapper = DirectMapper()\n",
    "\n",
    "solver_without_filter = NumPyMinimumEigensolver()\n",
    "solver_with_filter = NumPyMinimumEigensolver(\n",
    "    filter_criterion=vib_problem.get_default_filter_criterion()\n",
    ")\n",
    "\n",
    "gsc_wo = GroundStateEigensolver(mapper, solver_without_filter)\n",
    "result_wo = gsc_wo.solve(vib_problem)\n",
    "\n",
    "gsc_w = GroundStateEigensolver(mapper, solver_with_filter)\n",
    "result_w = gsc_w.solve(vib_problem)\n",
    "\n",
    "print(result_wo)\n",
    "print(\"\\n\\n\")\n",
    "print(result_w)"
   ]
  },
  {
   "cell_type": "markdown",
   "id": "29c2803b-53d1-4294-ba10-09dba8d6bac6",
   "metadata": {},
   "source": [
    "### Conclusion\n",
    "\n",
    "Congratulations! You have explored new ways of solving for the ground state of a molecule. We looked at the instantiation of a solver, and hinted at other possible solvers to use. We also discussed the use of multiple ansatz, and introduced the idea of a filter function to give us relevant information. Understanding how to calculate the ground state of a molecule is important for when we want to go on to solve for the excited states, as the methods there will build on the methods of the ground state."
   ]
  },
  {
   "cell_type": "code",
   "execution_count": null,
   "id": "e54dc279-5cda-459e-8307-769b590a7289",
   "metadata": {},
   "outputs": [],
   "source": []
  }
 ],
 "metadata": {
  "kernelspec": {
   "display_name": "Python 3 (ipykernel)",
   "language": "python",
   "name": "python3"
  },
  "language_info": {
   "codemirror_mode": {
    "name": "ipython",
    "version": 3
   },
   "file_extension": ".py",
   "mimetype": "text/x-python",
   "name": "python",
   "nbconvert_exporter": "python",
   "pygments_lexer": "ipython3",
   "version": "3.12.3"
  }
 },
 "nbformat": 4,
 "nbformat_minor": 5
}
