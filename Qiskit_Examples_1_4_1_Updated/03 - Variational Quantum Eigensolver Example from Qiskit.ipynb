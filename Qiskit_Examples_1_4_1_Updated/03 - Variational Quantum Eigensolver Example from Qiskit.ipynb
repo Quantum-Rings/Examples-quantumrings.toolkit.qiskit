{
 "cells": [
  {
   "cell_type": "markdown",
   "id": "50e4d8b8-a341-4e50-a156-3e8c408f7fda",
   "metadata": {},
   "source": [
    "# Variational Quantum Eigensolver"
   ]
  },
  {
   "cell_type": "markdown",
   "id": "6c60a848-1be3-484e-85e5-ab6acfa60672",
   "metadata": {},
   "source": [
    "#### Uncomment the cell below to pip install the necessary modules if not already installed\n",
    "\n",
    "#### Note: Works with Qiskit Version 1.4.1 and Quantum Rings Qiskit Toolkit Version 0.1.10"
   ]
  },
  {
   "cell_type": "code",
   "execution_count": 1,
   "id": "c4ee679c-9594-446f-a0c3-266854435fc4",
   "metadata": {
    "scrolled": true
   },
   "outputs": [],
   "source": [
    "# %pip install numpy\n",
    "# %pip install qiskit==1.4.1\n",
    "# %pip install qiskit-ibm-runtime\n",
    "# %pip install matplotlib\n",
    "# %pip install QuantumRingsLib\n",
    "# %pip install quantumrings-toolkit-qiskit==0.1.10"
   ]
  },
  {
   "cell_type": "markdown",
   "id": "8802c1e3-0511-4116-b0ab-25bc09b46cff",
   "metadata": {},
   "source": [
    "#### Restart the kernel after installing any of the missing packages"
   ]
  },
  {
   "cell_type": "markdown",
   "id": "4929eb88-7b11-4aef-9d7a-2954958594bf",
   "metadata": {},
   "source": [
    "### Introduction\n",
    "\n",
    "[Variational Quantum Algorithms](https://arxiv.org/abs/2012.09265) are promising candidate hybrid-algorithms for observing quantum computation utility on noisy near-term devices. Variational algorithms are characterized by the use of a classical optimization algorithm to iteratively update a parameterized trial solution, or \"ansatz\". Chief among these methods is the Variational Quantum Eigensolver (VQE) that aims to solve for the ground state of a given Hamiltonian represented as a linear combination of Pauli terms, with an ansatz circuit where the number of parameters to optimize over is polynomial in the number of qubits. Given that the size of the full solution vector is exponential in the number of qubits, successful minimization using VQE requires, in general, additional problem-specific information to define the structure of the ansatz circuit.\n",
    "\n",
    "Executing a VQE algorithm requires the following components:\n",
    "\n",
    "1. Hamiltonian and ansatz (problem specification)\n",
    "2. Qiskit Runtime Estimator\n",
    "3. Classical Optimizer\n",
    "\n",
    "Although the Hamiltonian and ansatz require domain-specific knowledge to construct, these details are immaterial to the Runtime, and we can execute a wide class of VQE problems in the same manner.\n",
    "\n",
    "In this notebook, we will go through the process of executing a VQE algorithm. Our problem will be based on a quantum chemistry problem, thus our Hamiltonian will be derived from this problem. We will start by mapping the classical inputs to the quantum problem. We then optimize the problem for quantum execution. Once optimized, we will execute our algorithm using Quantum Rings Qiskit Toolkit Estimator alongside IBM Runtimes `Session`. Finally, when we have our results we will perform some post-processing procedures to return them in a classical format."
   ]
  },
  {
   "cell_type": "code",
   "execution_count": 2,
   "id": "86e9dccd-e370-4980-b95e-fd85f2a555e3",
   "metadata": {},
   "outputs": [],
   "source": [
    "# Where to find this code?\n",
    "# https://learning.quantum.ibm.com/tutorial/variational-quantum-eigensolver"
   ]
  },
  {
   "cell_type": "markdown",
   "id": "f71931f1-364b-44bd-b4a7-8214114cb418",
   "metadata": {},
   "source": [
    "### Map classical inputs to a quantum problem\n",
    "\n",
    "The problem instance in question for the VQE algorithm can come from a variety of domains, the form for execution through Qiskit Runtime is the same. Qiskit provides a convenience class for expressing Hamiltonians in Pauli form, and a collection of widely used ansatz circuits in the `qiskit.circuit.library`. We will use this to build the circuit, and instead of using Qiskits Runtime, we will use Quantum Rings Toolkit for the `backend` and `estimator`. We'll start with importing the necessary tools for a VQE experiment and then build our Hamiltonian."
   ]
  },
  {
   "cell_type": "code",
   "execution_count": 3,
   "id": "f376cadf-0db0-4a2a-8e18-bc4610f4d33e",
   "metadata": {},
   "outputs": [],
   "source": [
    "# General imports\n",
    "import numpy as np\n",
    "\n",
    "# Pre-defined ansatz circuit and operator class for Hamiltonian\n",
    "from qiskit.circuit.library import EfficientSU2 # Used for the ansatz\n",
    "from qiskit.quantum_info import SparsePauliOp # Used for the Hamiltonian\n",
    "\n",
    "# SciPy minimizer routine\n",
    "from scipy.optimize import minimize\n",
    "\n",
    "# Plotting functions\n",
    "import matplotlib.pyplot as plt"
   ]
  },
  {
   "cell_type": "markdown",
   "id": "c49a0e30-421b-4cdc-a5d0-99d94b634afe",
   "metadata": {},
   "source": [
    "The cell below will instantiate the Quantum Rings backend. It assumes you have saved your Quantum Rings account locally with the call to `QuantumRingsProvider()`. If you have not saved your account, please see the documentation on [how to save your account locally](https://portal.quantumrings.com/doc/SavingAccountLocally.html)."
   ]
  },
  {
   "cell_type": "code",
   "execution_count": 4,
   "id": "67ea0dec-607d-43a6-a126-7aa15f335aad",
   "metadata": {},
   "outputs": [],
   "source": [
    "# runtime imports\n",
    "from qiskit_ibm_runtime import QiskitRuntimeService, Session\n",
    "\n",
    "import QuantumRingsLib\n",
    "from QuantumRingsLib import QuantumRingsProvider\n",
    "from quantumrings.toolkit.qiskit import QrBackendV2\n",
    "from quantumrings.toolkit.qiskit import QrEstimatorV2 as Estimator\n",
    "\n",
    "provider = QuantumRingsProvider()\n",
    "backend = QrBackendV2(provider, num_qubits = 2)\n"
   ]
  },
  {
   "cell_type": "code",
   "execution_count": 5,
   "id": "b8f590a5-3d91-4336-812c-ffced020c8c8",
   "metadata": {},
   "outputs": [],
   "source": [
    "hamiltonian = SparsePauliOp.from_list(\n",
    "    [(\"YZ\", 0.3980), (\"ZI\", -0.3980), (\"ZZ\", -0.0113), (\"XX\", 0.1810)]\n",
    ")"
   ]
  },
  {
   "cell_type": "markdown",
   "id": "017882c1-66b2-48e6-82e6-26a76e3d815b",
   "metadata": {},
   "source": [
    "Our choice of ansatz is the `EfficientSU2` that linearly entangles qubits by default, making it ideal for quantum hardware with limited connectivity. There are many other circuits available for use as an ansatz in the `QuantumCircuit` class. Feel free to check out [other circuit implementations](https://docs.quantum.ibm.com/api/qiskit/circuit_library#n-local-circuits)."
   ]
  },
  {
   "cell_type": "code",
   "execution_count": 6,
   "id": "f165bc28-b6b6-401e-8747-fcd31ff4f970",
   "metadata": {},
   "outputs": [
    {
     "data": {
      "image/png": "[encoded data removed]",
      "text/plain": [
       "<Figure size 1039.79x200.667 with 1 Axes>"
      ]
     },
     "execution_count": 6,
     "metadata": {},
     "output_type": "execute_result"
    }
   ],
   "source": [
    "ansatz = EfficientSU2(hamiltonian.num_qubits)\n",
    "ansatz.decompose().draw(\"mpl\", style=\"iqp\")"
   ]
  },
  {
   "cell_type": "markdown",
   "id": "c41e82b1-c841-4e18-b824-45717db52126",
   "metadata": {},
   "source": [
    "From the previous figure, we see that our ansatz circuit is defined by a vector of parameters, $\\theta_i$, with the total number printed in the cell below."
   ]
  },
  {
   "cell_type": "code",
   "execution_count": 7,
   "id": "4bf4754b-e8d7-4cb3-a05c-ba17e876400d",
   "metadata": {},
   "outputs": [
    {
     "data": {
      "text/plain": [
       "16"
      ]
     },
     "execution_count": 7,
     "metadata": {},
     "output_type": "execute_result"
    }
   ],
   "source": [
    "num_params = ansatz.num_parameters\n",
    "num_params"
   ]
  },
  {
   "cell_type": "markdown",
   "id": "8467a37d-6af7-412c-a211-e05c2ba25003",
   "metadata": {},
   "source": [
    "### Optimize the problem for quantum execution\n",
    "\n",
    "To reduce the total job execution time, Qiskit primitives only accept circuits (ansatz) and observables (Hamiltonian) that conform to the instructions and connectivity supported by the target QPU (referred to as Instruction Set Architecture (ISA) circuits and observables).\n",
    "\n",
    "**ISA Circuit**\n",
    "\n",
    "We will schedule a series of `qiskit.transpiler` passes to optimize the circuit for a selected backend and make it compatible with the backend's ISA. This can be easily done with a preset pass manager from `qiskit.transpiler` and its `optimization_level` parameter.\n",
    "\n",
    "The lowest optimization level does the minimum needed to get the circuit running on the device. It maps the circuit qubits to the device qubits and adds swap gates to allow all two-qubit operations. The highest optimization level is much smarter and uses lots of tricks to reduce the overall gate count. Since multi-qubit gates have high error rates and qubits decohere over time, the shorter circuits should give better results."
   ]
  },
  {
   "cell_type": "code",
   "execution_count": 8,
   "id": "c467bbbe-47fd-4442-adfc-ac20075df77b",
   "metadata": {},
   "outputs": [],
   "source": [
    "from qiskit.transpiler.preset_passmanagers import generate_preset_pass_manager\n",
    "\n",
    "target = backend.target\n",
    "pm = generate_preset_pass_manager(target=target, optimization_level=3)\n",
    "\n",
    "ansatz_isa = pm.run(ansatz)"
   ]
  },
  {
   "cell_type": "code",
   "execution_count": 9,
   "id": "2d8f2bd9-9f03-4e1c-8a3f-f0018fb1dc3e",
   "metadata": {},
   "outputs": [
    {
     "data": {
      "image/png": "[encoded data removed]",
      "text/plain": [
       "<Figure size 1092.27x200.667 with 1 Axes>"
      ]
     },
     "execution_count": 9,
     "metadata": {},
     "output_type": "execute_result"
    }
   ],
   "source": [
    "ansatz_isa.draw(output=\"mpl\", idle_wires=False, style=\"iqp\")"
   ]
  },
  {
   "cell_type": "markdown",
   "id": "35636991-50ed-4b54-b2a0-ae2dec5633c2",
   "metadata": {},
   "source": [
    "**ISA Observable**\n",
    "\n",
    "We will transform the Hamiltonian to make it backend-compatible before running jobs with `QrEstimatorV2`. We can perform the transformation by using the `apply_layout` method of the `SparsePauliOp` object."
   ]
  },
  {
   "cell_type": "code",
   "execution_count": 10,
   "id": "253f6d49-ef2e-4390-b700-cd1750778a9b",
   "metadata": {},
   "outputs": [],
   "source": [
    "hamiltonian_isa = hamiltonian.apply_layout(layout=ansatz_isa.layout)"
   ]
  },
  {
   "cell_type": "markdown",
   "id": "af06316b-ecfc-45d2-ba44-192dfc0bb770",
   "metadata": {},
   "source": [
    "### Execute using Qiskit Primitives\n",
    "\n",
    "Similar to classical optimization problems, the solution to a VQE problem can be formulated as a minimization of a scalar cost function. By definition, VQE looks to find the ground state solution to a Hamiltonian by optimizing the ansatz circuit parameters to minimize the expectation value (energy) of the Hamiltonian. With the `Estimator` directly taking a Hamiltonian and a parameterized ansatz, and returning the necessary energy, the cost function for a VQE instance is quite simple.\n",
    "\n",
    "> **Note**: The `run()` method of `QrEstimatorV2` takes an iterable of `primitive unified blocs (PUBs)`. Each PUB is an iterable in the format `(circuit, observables, parameter_values: Optional, precision: Optional)`."
   ]
  },
  {
   "cell_type": "code",
   "execution_count": 11,
   "id": "1961cbe4-389d-4df5-861e-81209ce8f817",
   "metadata": {},
   "outputs": [],
   "source": [
    "def cost_func(params, ansatz, hamiltonian, estimator):\n",
    "    \"\"\"Return estimate of energy from estimator\n",
    "\n",
    "    Parameters:\n",
    "        params (ndarray): Array of ansatz parameters\n",
    "        ansatz (QuantumCircuit): Parameterized ansatz circuit\n",
    "        hamiltonian (SparsePauliOp): Operator representation of Hamiltonian\n",
    "        estimator (EstimatorV2): Estimator primitive instance\n",
    "        cost_history_dict: Dictionary for storing intermediate results\n",
    "\n",
    "    Returns:\n",
    "        float: Energy estimate\n",
    "    \"\"\"\n",
    "    pub = (ansatz, [hamiltonian], [params])\n",
    "    result = estimator.run(pubs=[pub]).result()\n",
    "    energy = result[0].data.evs[0]\n",
    "    \n",
    "  \n",
    "    cost_history_dict[\"iters\"] += 1\n",
    "    cost_history_dict[\"prev_vector\"] = params\n",
    "    cost_history_dict[\"cost_history\"].append(energy)\n",
    "    print(f\"Iters. done: {cost_history_dict['iters']} [Current cost: {energy}]\")\n",
    "\n",
    "    return energy"
   ]
  },
  {
   "cell_type": "markdown",
   "id": "2398e39d-b4b2-4047-9546-07e3b7c6e26a",
   "metadata": {},
   "source": [
    "> **Note** In addition to the array of optimization parameters that must be the first argument, we use additional arguments to pass the terms needed in the cost function, such as the `cost_history_dict`. This dictionary stores the current vector at each iteration, for example in case you need to restart the routine due to failure, and also returns the current iteration number and average time per iteration."
   ]
  },
  {
   "cell_type": "code",
   "execution_count": 12,
   "id": "b4895a81-cac6-4030-8d93-a173e78cc045",
   "metadata": {},
   "outputs": [],
   "source": [
    "cost_history_dict = {\n",
    "    \"prev_vector\": None,\n",
    "    \"iters\": 0,\n",
    "    \"cost_history\": [],\n",
    "}"
   ]
  },
  {
   "cell_type": "markdown",
   "id": "2712fa9e-bc79-4012-ba63-43463c67501c",
   "metadata": {},
   "source": [
    "We can now use a classical optimizer of our choice to minimize the cost function. Here, we use the [COBYLA method from SciPy designated through the `minimize` function](https://docs.scipy.org/doc/scipy/reference/generated/scipy.optimize.minimize.html). \n",
    "\n",
    "> **Note**: When running on real quantum hardware, the choice of optimizer is important, as not all optimizers handle noisy cost function landscapes equally well. \n",
    "\n",
    "To begin the routine, we specify a random set of initial parameters."
   ]
  },
  {
   "cell_type": "code",
   "execution_count": 13,
   "id": "e9f04fa5-e4ab-4d1a-ab0a-d9545629f712",
   "metadata": {},
   "outputs": [],
   "source": [
    "x0 = 2 * np.pi * np.random.random(num_params)"
   ]
  },
  {
   "cell_type": "code",
   "execution_count": 14,
   "id": "39a57034-8846-4bdd-8c5e-64219d0fe719",
   "metadata": {},
   "outputs": [
    {
     "data": {
      "text/plain": [
       "array([1.39073602, 3.53353088, 4.18525351, 3.68888843, 0.37672397,\n",
       "       4.02126056, 2.11092837, 3.26754609, 3.61488044, 5.39857328,\n",
       "       2.30645609, 2.00058347, 5.24033097, 5.3223852 , 3.9246684 ,\n",
       "       3.57480222])"
      ]
     },
     "execution_count": 14,
     "metadata": {},
     "output_type": "execute_result"
    }
   ],
   "source": [
    "x0"
   ]
  },
  {
   "cell_type": "markdown",
   "id": "0a019ea9-4309-4422-b16c-815bc603a779",
   "metadata": {},
   "source": [
    "Because we are sending a large number of jobs that we would like to execute together, we use a `Session` to execute all the generated circuits in one block. Here `args` is the standard SciPy way to supply the additional parameters needed by the cost function."
   ]
  },
  {
   "cell_type": "code",
   "execution_count": 15,
   "id": "96708372-2b2a-4e50-992c-990b8749867f",
   "metadata": {
    "scrolled": true
   },
   "outputs": [
    {
     "name": "stdout",
     "output_type": "stream",
     "text": [
      "Iters. done: 1 [Current cost: [0.07589816534116267]]\n",
      "Iters. done: 2 [Current cost: [-0.13956480959555545]]\n",
      "Iters. done: 3 [Current cost: [-0.07893674227775964]]\n",
      "Iters. done: 4 [Current cost: [-0.05290740650883577]]\n",
      "Iters. done: 5 [Current cost: [-0.24671899452974633]]\n",
      "Iters. done: 6 [Current cost: [0.02039527099596187]]\n",
      "Iters. done: 7 [Current cost: [-0.2937767647505366]]\n",
      "Iters. done: 8 [Current cost: [-0.11044150853805312]]\n",
      "Iters. done: 9 [Current cost: [-0.4249718708393174]]\n",
      "Iters. done: 10 [Current cost: [-0.5037410640010741]]\n",
      "Iters. done: 11 [Current cost: [-0.35812200705007]]\n",
      "Iters. done: 12 [Current cost: [-0.4348801124184594]]\n",
      "Iters. done: 13 [Current cost: [-0.336469441504349]]\n",
      "Iters. done: 14 [Current cost: [-0.6342214121174233]]\n",
      "Iters. done: 15 [Current cost: [-0.4513354262142346]]\n",
      "Iters. done: 16 [Current cost: [-0.611048951235178]]\n",
      "Iters. done: 17 [Current cost: [-0.44908994213863346]]\n",
      "Iters. done: 18 [Current cost: [-0.5763474495391198]]\n",
      "Iters. done: 19 [Current cost: [-0.5962990818038686]]\n",
      "Iters. done: 20 [Current cost: [-0.5455614622870806]]\n",
      "Iters. done: 21 [Current cost: [-0.6059574691191724]]\n",
      "Iters. done: 22 [Current cost: [-0.6473594084378422]]\n",
      "Iters. done: 23 [Current cost: [-0.6385375172416197]]\n",
      "Iters. done: 24 [Current cost: [-0.3509276966055544]]\n",
      "Iters. done: 25 [Current cost: [-0.6079234316279849]]\n",
      "Iters. done: 26 [Current cost: [-0.5707343566183967]]\n",
      "Iters. done: 27 [Current cost: [-0.5846506728397668]]\n",
      "Iters. done: 28 [Current cost: [-0.41468948040128273]]\n",
      "Iters. done: 29 [Current cost: [-0.6087105841166235]]\n",
      "Iters. done: 30 [Current cost: [-0.6314115803675159]]\n",
      "Iters. done: 31 [Current cost: [-0.6716574737987429]]\n",
      "Iters. done: 32 [Current cost: [-0.6586872248136567]]\n",
      "Iters. done: 33 [Current cost: [-0.631048830182479]]\n",
      "Iters. done: 34 [Current cost: [-0.665013847861544]]\n",
      "Iters. done: 35 [Current cost: [-0.5721086100333843]]\n",
      "Iters. done: 36 [Current cost: [-0.6746116634202493]]\n",
      "Iters. done: 37 [Current cost: [-0.6178351623192546]]\n",
      "Iters. done: 38 [Current cost: [-0.6860167535353956]]\n",
      "Iters. done: 39 [Current cost: [-0.6699402051140161]]\n",
      "Iters. done: 40 [Current cost: [-0.6628774285150011]]\n",
      "Iters. done: 41 [Current cost: [-0.6208686173463447]]\n",
      "Iters. done: 42 [Current cost: [-0.6958432872370907]]\n",
      "Iters. done: 43 [Current cost: [-0.6774286744642852]]\n",
      "Iters. done: 44 [Current cost: [-0.695066105660226]]\n",
      "Iters. done: 45 [Current cost: [-0.662420579875051]]\n",
      "Iters. done: 46 [Current cost: [-0.6758499953321367]]\n",
      "Iters. done: 47 [Current cost: [-0.6952022544205995]]\n",
      "Iters. done: 48 [Current cost: [-0.681012666901559]]\n",
      "Iters. done: 49 [Current cost: [-0.6901913899087804]]\n",
      "Iters. done: 50 [Current cost: [-0.6906514523552005]]\n",
      "Iters. done: 51 [Current cost: [-0.6963907924284154]]\n",
      "Iters. done: 52 [Current cost: [-0.689469533176268]]\n",
      "Iters. done: 53 [Current cost: [-0.6902548442596523]]\n",
      "Iters. done: 54 [Current cost: [-0.6818254111634541]]\n",
      "Iters. done: 55 [Current cost: [-0.6915962211903334]]\n",
      "Iters. done: 56 [Current cost: [-0.6862541597430999]]\n",
      "Iters. done: 57 [Current cost: [-0.6936557125753597]]\n",
      "Iters. done: 58 [Current cost: [-0.6863734222369037]]\n",
      "Iters. done: 59 [Current cost: [-0.693078338603464]]\n",
      "Iters. done: 60 [Current cost: [-0.69582063326066]]\n",
      "Iters. done: 61 [Current cost: [-0.6997269217558957]]\n",
      "Iters. done: 62 [Current cost: [-0.6956683613433415]]\n",
      "Iters. done: 63 [Current cost: [-0.7008361692913959]]\n",
      "Iters. done: 64 [Current cost: [-0.7001443983684756]]\n",
      "Iters. done: 65 [Current cost: [-0.7005189534037904]]\n",
      "Iters. done: 66 [Current cost: [-0.700284472995471]]\n",
      "Iters. done: 67 [Current cost: [-0.7020152338017588]]\n",
      "Iters. done: 68 [Current cost: [-0.7018638614790851]]\n",
      "Iters. done: 69 [Current cost: [-0.6972802295006817]]\n",
      "Iters. done: 70 [Current cost: [-0.6997097458404343]]\n",
      "Iters. done: 71 [Current cost: [-0.7013774937016795]]\n",
      "Iters. done: 72 [Current cost: [-0.7020365310857806]]\n",
      "Iters. done: 73 [Current cost: [-0.699381739665355]]\n",
      "Iters. done: 74 [Current cost: [-0.7023440378848029]]\n",
      "Iters. done: 75 [Current cost: [-0.6993916049042121]]\n",
      "Iters. done: 76 [Current cost: [-0.7020231384593085]]\n",
      "Iters. done: 77 [Current cost: [-0.7005504754965808]]\n",
      "Iters. done: 78 [Current cost: [-0.7024262748879213]]\n",
      "Iters. done: 79 [Current cost: [-0.7002740414448306]]\n",
      "Iters. done: 80 [Current cost: [-0.7023434064323361]]\n",
      "Iters. done: 81 [Current cost: [-0.6978354684049254]]\n",
      "Iters. done: 82 [Current cost: [-0.6981094115446713]]\n",
      "Iters. done: 83 [Current cost: [-0.7021036720062698]]\n",
      "Iters. done: 84 [Current cost: [-0.7021284969606506]]\n",
      "Iters. done: 85 [Current cost: [-0.701985287277427]]\n",
      "Iters. done: 86 [Current cost: [-0.7021551548709571]]\n",
      "Iters. done: 87 [Current cost: [-0.7016492755191991]]\n",
      "Iters. done: 88 [Current cost: [-0.7016448404123077]]\n",
      "Iters. done: 89 [Current cost: [-0.7022853215879272]]\n",
      "Iters. done: 90 [Current cost: [-0.7026071710314283]]\n",
      "Iters. done: 91 [Current cost: [-0.7024814942766499]]\n",
      "Iters. done: 92 [Current cost: [-0.7025030247693381]]\n",
      "Iters. done: 93 [Current cost: [-0.7009216290596045]]\n",
      "Iters. done: 94 [Current cost: [-0.7021452368844683]]\n",
      "Iters. done: 95 [Current cost: [-0.702572106463512]]\n",
      "Iters. done: 96 [Current cost: [-0.7027528749993723]]\n",
      "Iters. done: 97 [Current cost: [-0.7026316508851306]]\n",
      "Iters. done: 98 [Current cost: [-0.7027661827813458]]\n",
      "Iters. done: 99 [Current cost: [-0.7027496793428993]]\n",
      "Iters. done: 100 [Current cost: [-0.7024079145742681]]\n",
      "Iters. done: 101 [Current cost: [-0.7027358124780164]]\n",
      "Iters. done: 102 [Current cost: [-0.7027632655329268]]\n",
      "Iters. done: 103 [Current cost: [-0.7027927824094627]]\n",
      "Iters. done: 104 [Current cost: [-0.702635933057721]]\n",
      "Iters. done: 105 [Current cost: [-0.7027936112041917]]\n",
      "Iters. done: 106 [Current cost: [-0.7025812794446866]]\n",
      "Iters. done: 107 [Current cost: [-0.7027009154406665]]\n",
      "Iters. done: 108 [Current cost: [-0.7026245541509973]]\n",
      "Iters. done: 109 [Current cost: [-0.7027488730522983]]\n",
      "Iters. done: 110 [Current cost: [-0.7026138891160203]]\n",
      "Iters. done: 111 [Current cost: [-0.7027261732279092]]\n",
      "Iters. done: 112 [Current cost: [-0.7027885422147038]]\n",
      "Iters. done: 113 [Current cost: [-0.7027499303659022]]\n",
      "Iters. done: 114 [Current cost: [-0.702853142897826]]\n",
      "Iters. done: 115 [Current cost: [-0.702837015042098]]\n",
      "Iters. done: 116 [Current cost: [-0.7028597004579339]]\n",
      "Iters. done: 117 [Current cost: [-0.7028366536137514]]\n",
      "Iters. done: 118 [Current cost: [-0.7028925895403283]]\n",
      "Iters. done: 119 [Current cost: [-0.7028771167328032]]\n",
      "Iters. done: 120 [Current cost: [-0.702887358702219]]\n",
      "Iters. done: 121 [Current cost: [-0.7028947272432422]]\n",
      "Iters. done: 122 [Current cost: [-0.7029027768943031]]\n",
      "Iters. done: 123 [Current cost: [-0.7028748492009067]]\n",
      "Iters. done: 124 [Current cost: [-0.7029007645808355]]\n",
      "Iters. done: 125 [Current cost: [-0.7028937591650276]]\n",
      "Iters. done: 126 [Current cost: [-0.7028383790701954]]\n",
      "Iters. done: 127 [Current cost: [-0.7028976676330466]]\n",
      "Iters. done: 128 [Current cost: [-0.7028985083636796]]\n",
      "Iters. done: 129 [Current cost: [-0.7029170021165015]]\n",
      "Iters. done: 130 [Current cost: [-0.7029011720046057]]\n",
      "Iters. done: 131 [Current cost: [-0.7029228908572327]]\n",
      "Iters. done: 132 [Current cost: [-0.7029196299311457]]\n",
      "Iters. done: 133 [Current cost: [-0.7028968640184918]]\n",
      "Iters. done: 134 [Current cost: [-0.7029194335147224]]\n",
      "Iters. done: 135 [Current cost: [-0.7029037684778852]]\n",
      "Iters. done: 136 [Current cost: [-0.7029246933675203]]\n",
      "Iters. done: 137 [Current cost: [-0.7029282174458276]]\n",
      "Iters. done: 138 [Current cost: [-0.7029231876304237]]\n",
      "Iters. done: 139 [Current cost: [-0.7029227284053318]]\n",
      "Iters. done: 140 [Current cost: [-0.7029262993908376]]\n",
      "Iters. done: 141 [Current cost: [-0.7029194644469821]]\n",
      "Iters. done: 142 [Current cost: [-0.7029235597120346]]\n",
      "Iters. done: 143 [Current cost: [-0.7029233522016612]]\n",
      "Iters. done: 144 [Current cost: [-0.7029266525826001]]\n",
      "Iters. done: 145 [Current cost: [-0.7029264969643868]]\n",
      "Iters. done: 146 [Current cost: [-0.7029253527881602]]\n",
      "Iters. done: 147 [Current cost: [-0.7029257038659202]]\n",
      "Iters. done: 148 [Current cost: [-0.7029194641122849]]\n",
      "Iters. done: 149 [Current cost: [-0.7029270696593475]]\n",
      "Iters. done: 150 [Current cost: [-0.7029247805503422]]\n",
      "Iters. done: 151 [Current cost: [-0.7029281688200596]]\n",
      "Iters. done: 152 [Current cost: [-0.7029262630814648]]\n",
      "Iters. done: 153 [Current cost: [-0.7029275579272166]]\n",
      "Iters. done: 154 [Current cost: [-0.7029277029599161]]\n",
      "Iters. done: 155 [Current cost: [-0.7029281085327195]]\n",
      "Iters. done: 156 [Current cost: [-0.7029284219432834]]\n",
      "Iters. done: 157 [Current cost: [-0.7029291093006714]]\n",
      "Iters. done: 158 [Current cost: [-0.7029284565791326]]\n",
      "Iters. done: 159 [Current cost: [-0.7029293109986128]]\n",
      "Iters. done: 160 [Current cost: [-0.7029291947966188]]\n",
      "Iters. done: 161 [Current cost: [-0.7029270238630068]]\n",
      "Iters. done: 162 [Current cost: [-0.702929248176154]]\n",
      "Iters. done: 163 [Current cost: [-0.7029291019277937]]\n",
      "Iters. done: 164 [Current cost: [-0.7029286096048698]]\n",
      "Iters. done: 165 [Current cost: [-0.7029293899531956]]\n",
      "Iters. done: 166 [Current cost: [-0.702929720020085]]\n",
      "Iters. done: 167 [Current cost: [-0.7029297752154158]]\n",
      "Iters. done: 168 [Current cost: [-0.7029297647522581]]\n",
      "Iters. done: 169 [Current cost: [-0.7029286001993772]]\n",
      "Iters. done: 170 [Current cost: [-0.7029294844536115]]\n",
      "Iters. done: 171 [Current cost: [-0.7029292843832013]]\n",
      "Iters. done: 172 [Current cost: [-0.7029296031215297]]\n",
      "Iters. done: 173 [Current cost: [-0.7029293555255555]]\n",
      "Iters. done: 174 [Current cost: [-0.7029295413965689]]\n",
      "Iters. done: 175 [Current cost: [-0.7029298628829126]]\n",
      "Iters. done: 176 [Current cost: [-0.702929069845706]]\n",
      "Iters. done: 177 [Current cost: [-0.7029295415743488]]\n",
      "Iters. done: 178 [Current cost: [-0.702929594614808]]\n",
      "Iters. done: 179 [Current cost: [-0.7029297550773326]]\n",
      "Iters. done: 180 [Current cost: [-0.7029301654304834]]\n",
      "Iters. done: 181 [Current cost: [-0.7029300870794192]]\n",
      "Iters. done: 182 [Current cost: [-0.702930009809274]]\n",
      "Iters. done: 183 [Current cost: [-0.7029287759702241]]\n",
      "Iters. done: 184 [Current cost: [-0.702930317279014]]\n",
      "Iters. done: 185 [Current cost: [-0.7029302893684862]]\n",
      "Iters. done: 186 [Current cost: [-0.7029301560542778]]\n",
      "Iters. done: 187 [Current cost: [-0.7029302570486697]]\n",
      "Iters. done: 188 [Current cost: [-0.7029302244675579]]\n",
      "Iters. done: 189 [Current cost: [-0.7029303091744497]]\n",
      "Iters. done: 190 [Current cost: [-0.7029302265553041]]\n",
      "Iters. done: 191 [Current cost: [-0.702930311552048]]\n",
      "Iters. done: 192 [Current cost: [-0.7029300397517717]]\n",
      "Iters. done: 193 [Current cost: [-0.7029302928369578]]\n",
      "Iters. done: 194 [Current cost: [-0.7029301310318414]]\n",
      "Iters. done: 195 [Current cost: [-0.7029302811504217]]\n",
      "Iters. done: 196 [Current cost: [-0.7029298879084208]]\n",
      "Iters. done: 197 [Current cost: [-0.7029302094319381]]\n",
      "Iters. done: 198 [Current cost: [-0.7029302983914543]]\n",
      "Iters. done: 199 [Current cost: [-0.702930309707526]]\n",
      "Iters. done: 200 [Current cost: [-0.7029302561768563]]\n",
      "Iters. done: 201 [Current cost: [-0.7029303281079319]]\n",
      "Iters. done: 202 [Current cost: [-0.7029303171489092]]\n",
      "Iters. done: 203 [Current cost: [-0.7029302855025613]]\n",
      "Iters. done: 204 [Current cost: [-0.7029303055838575]]\n",
      "Iters. done: 205 [Current cost: [-0.7029303402457809]]\n",
      "Iters. done: 206 [Current cost: [-0.7029303384278554]]\n",
      "Iters. done: 207 [Current cost: [-0.702930353935039]]\n",
      "Iters. done: 208 [Current cost: [-0.7029303540546918]]\n",
      "Iters. done: 209 [Current cost: [-0.7029303442391798]]\n",
      "Iters. done: 210 [Current cost: [-0.7029303584129168]]\n",
      "Iters. done: 211 [Current cost: [-0.7029303440987897]]\n",
      "Iters. done: 212 [Current cost: [-0.7029303597551197]]\n",
      "Iters. done: 213 [Current cost: [-0.702930362318741]]\n",
      "Iters. done: 214 [Current cost: [-0.7029303587036804]]\n",
      "Iters. done: 215 [Current cost: [-0.7029303539072015]]\n",
      "Iters. done: 216 [Current cost: [-0.7029303712442534]]\n",
      "Iters. done: 217 [Current cost: [-0.7029303716384745]]\n",
      "Iters. done: 218 [Current cost: [-0.7029303749675708]]\n",
      "Iters. done: 219 [Current cost: [-0.7029303423008592]]\n",
      "Iters. done: 220 [Current cost: [-0.7029303709833776]]\n",
      "Iters. done: 221 [Current cost: [-0.7029303662929827]]\n",
      "Iters. done: 222 [Current cost: [-0.7029303665522229]]\n",
      "Iters. done: 223 [Current cost: [-0.7029303607030246]]\n",
      "Iters. done: 224 [Current cost: [-0.7029303618574951]]\n",
      "Iters. done: 225 [Current cost: [-0.7029303823678101]]\n",
      "Iters. done: 226 [Current cost: [-0.702930381380215]]\n",
      "Iters. done: 227 [Current cost: [-0.702930383626881]]\n",
      "Iters. done: 228 [Current cost: [-0.70293038303951]]\n",
      "Iters. done: 229 [Current cost: [-0.7029303839332215]]\n",
      "Iters. done: 230 [Current cost: [-0.7029303849565628]]\n",
      "Iters. done: 231 [Current cost: [-0.7029303855102561]]\n",
      "Iters. done: 232 [Current cost: [-0.7029303853727144]]\n",
      "Iters. done: 233 [Current cost: [-0.7029303814651046]]\n",
      "Iters. done: 234 [Current cost: [-0.7029303864227194]]\n",
      "Iters. done: 235 [Current cost: [-0.7029303837764199]]\n",
      "Iters. done: 236 [Current cost: [-0.7029303871124126]]\n",
      "Iters. done: 237 [Current cost: [-0.7029303836707834]]\n",
      "Iters. done: 238 [Current cost: [-0.7029303879662088]]\n",
      "Iters. done: 239 [Current cost: [-0.70293038674622]]\n",
      "Iters. done: 240 [Current cost: [-0.7029303897917]]\n",
      "Iters. done: 241 [Current cost: [-0.7029303869147403]]\n",
      "Iters. done: 242 [Current cost: [-0.7029303890995079]]\n",
      "Iters. done: 243 [Current cost: [-0.7029303903124833]]\n"
     ]
    }
   ],
   "source": [
    "with Session(backend=backend) as session:\n",
    "    estimator = Estimator(backend=backend)\n",
    "    estimator.options.default_shots = 10000\n",
    "\n",
    "    res = minimize(\n",
    "        cost_func,\n",
    "        x0,\n",
    "        args=(ansatz_isa, hamiltonian_isa, estimator),\n",
    "        method=\"cobyla\",\n",
    "    )"
   ]
  },
  {
   "cell_type": "markdown",
   "id": "5554cfae-e168-40a7-9785-8072a1219cb7",
   "metadata": {},
   "source": [
    "At the end of this routine we have a result in the standard SciPy `OptimizeResult` format. From this we see that it took `nfev` number of cost function evaluations to obtain the solution vector of parameter angles (`x`) that, when plugged into the ansatz circuit, yield the approximate ground state solution we were looking for."
   ]
  },
  {
   "cell_type": "code",
   "execution_count": 16,
   "id": "e974bb15-799c-47c5-83f2-fd3fbed38489",
   "metadata": {},
   "outputs": [
    {
     "data": {
      "text/plain": [
       " message: Optimization terminated successfully.\n",
       " success: True\n",
       "  status: 1\n",
       "     fun: -0.7029303903124833\n",
       "       x: [ 2.420e+00  3.473e+00 ...  4.237e+00  3.414e+00]\n",
       "    nfev: 243\n",
       "   maxcv: 0.0"
      ]
     },
     "execution_count": 16,
     "metadata": {},
     "output_type": "execute_result"
    }
   ],
   "source": [
    "res"
   ]
  },
  {
   "cell_type": "markdown",
   "id": "842ba462-ecc5-4a76-a857-8006624b5060",
   "metadata": {},
   "source": [
    "### Post-process: Return the result in classical format"
   ]
  },
  {
   "cell_type": "markdown",
   "id": "bebd8d1f-d8ad-4c4b-8bb2-47080eeda4d6",
   "metadata": {},
   "source": [
    "If the procedure terminates correctly, then the `prev_vector` and `iters` values in our `cost_history_dict` dictionary should be equal to the solution vector and total number of function evaluations, respectively. We can verify this in the cell below."
   ]
  },
  {
   "cell_type": "code",
   "execution_count": 17,
   "id": "c8cb36da-5669-4d95-b9eb-f25d8b05a6dc",
   "metadata": {},
   "outputs": [
    {
     "data": {
      "text/plain": [
       "True"
      ]
     },
     "execution_count": 17,
     "metadata": {},
     "output_type": "execute_result"
    }
   ],
   "source": [
    "all(cost_history_dict[\"prev_vector\"] == res.x)"
   ]
  },
  {
   "cell_type": "code",
   "execution_count": 18,
   "id": "b889182d-7e7b-4dfb-a0ee-ccc87bd9e300",
   "metadata": {},
   "outputs": [
    {
     "data": {
      "text/plain": [
       "True"
      ]
     },
     "execution_count": 18,
     "metadata": {},
     "output_type": "execute_result"
    }
   ],
   "source": [
    "cost_history_dict[\"iters\"] == res.nfev"
   ]
  },
  {
   "cell_type": "markdown",
   "id": "8ea038ca-bea3-4946-951d-42e4d940e97f",
   "metadata": {},
   "source": [
    "We can view the progress toward convergence as monitored by the cost history at each iteration:"
   ]
  },
  {
   "cell_type": "code",
   "execution_count": 19,
   "id": "28f5f7ec-bc9b-4510-adaa-a05b70c8b4e3",
   "metadata": {},
   "outputs": [
    {
     "data": {
      "image/png": "[encoded data removed]",
      "text/plain": [
       "<Figure size 640x480 with 1 Axes>"
      ]
     },
     "metadata": {},
     "output_type": "display_data"
    }
   ],
   "source": [
    "fig, ax = plt.subplots()\n",
    "ax.plot(range(cost_history_dict[\"iters\"]), cost_history_dict[\"cost_history\"])\n",
    "ax.set_xlabel(\"Iterations\")\n",
    "ax.set_ylabel(\"Cost\")\n",
    "plt.draw()"
   ]
  },
  {
   "cell_type": "markdown",
   "id": "cc051403-2931-4797-b4b8-139aff50a69f",
   "metadata": {},
   "source": [
    "### Conclusion\n",
    "\n",
    "Congratulations! You've programmed a Variational Quantum Eigensolver for a small molecular quantum chemistry problem! In this notebook, you covered a small background on VQEs and how to implement them given a Hamiltonian. You created an ansatz circuit with variational parameters to then convert the problem from a classical format to a quantum format which is compatible with a quantum circuit. Using a classical optimizer, the variational parameters for the objective function of the circuit were calculated. You then converted the result of these circuit estimations back in to a classical format to see the convergence process of the objective function."
   ]
  },
  {
   "cell_type": "code",
   "execution_count": null,
   "id": "848a65d8-71be-4c80-bb88-c38b8552ce1d",
   "metadata": {},
   "outputs": [],
   "source": []
  }
 ],
 "metadata": {
  "kernelspec": {
   "display_name": "Python 3 (ipykernel)",
   "language": "python",
   "name": "python3"
  },
  "language_info": {
   "codemirror_mode": {
    "name": "ipython",
    "version": 3
   },
   "file_extension": ".py",
   "mimetype": "text/x-python",
   "name": "python",
   "nbconvert_exporter": "python",
   "pygments_lexer": "ipython3",
   "version": "3.12.3"
  }
 },
 "nbformat": 4,
 "nbformat_minor": 5
}
