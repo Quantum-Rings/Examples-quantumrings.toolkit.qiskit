{
 "cells": [
  {
   "cell_type": "markdown",
   "id": "33eaf376",
   "metadata": {},
   "source": [
    "# 09-Nature Tutorial- Properties-or-OperatorFactories"
   ]
  },
  {
   "cell_type": "code",
   "execution_count": null,
   "id": "1523fdad-8509-4eb0-87ee-7ea817eee04a",
   "metadata": {},
   "outputs": [],
   "source": [
    "#This code is at:\n",
    "#https://qiskit-community.github.io/qiskit-nature/tutorials/09_properties.html"
   ]
  },
  {
   "cell_type": "code",
   "execution_count": 1,
   "id": "983e3d5d-200e-4a9c-b67a-0ec697b22ea0",
   "metadata": {},
   "outputs": [
    {
     "name": "stdout",
     "output_type": "stream",
     "text": [
      "<qiskit_nature.second_q.problems.properties_container.PropertiesContainer object at 0x73421fae5450>\n"
     ]
    }
   ],
   "source": [
    "from qiskit_nature.second_q.problems import BaseProblem\n",
    "\n",
    "dummy_hamiltonian = None\n",
    "\n",
    "base_problem = BaseProblem(dummy_hamiltonian)\n",
    "print(base_problem.properties)"
   ]
  },
  {
   "cell_type": "code",
   "execution_count": 2,
   "id": "a9fb5600-52e1-43b2-a992-85a62b10a16d",
   "metadata": {},
   "outputs": [
    {
     "name": "stdout",
     "output_type": "stream",
     "text": [
      "AngularMomentum is in problem.properties: False\n",
      "Adding AngularMomentum to problem.properties...\n",
      "AngularMomentum is in problem.properties: True\n",
      "Discarding AngularMomentum from problem.properties...\n",
      "AngularMomentum is in problem.properties: False\n"
     ]
    }
   ],
   "source": [
    "from qiskit_nature.second_q.properties import AngularMomentum\n",
    "\n",
    "print(\"AngularMomentum is in problem.properties:\", AngularMomentum in base_problem.properties)\n",
    "\n",
    "print(\"Adding AngularMomentum to problem.properties...\")\n",
    "base_problem.properties.add(AngularMomentum(2))\n",
    "\n",
    "print(\"AngularMomentum is in problem.properties:\", AngularMomentum in base_problem.properties)\n",
    "\n",
    "print(\"Discarding AngularMomentum from problem.properties...\")\n",
    "base_problem.properties.discard(AngularMomentum)\n",
    "\n",
    "print(\"AngularMomentum is in problem.properties:\", AngularMomentum in base_problem.properties)"
   ]
  },
  {
   "cell_type": "code",
   "execution_count": 3,
   "id": "97547ded-c6f4-401d-9f33-fd39e26ffef8",
   "metadata": {},
   "outputs": [
    {
     "name": "stdout",
     "output_type": "stream",
     "text": [
      "<qiskit_nature.second_q.properties.particle_number.ParticleNumber object at 0x73421fadda50>\n",
      "<qiskit_nature.second_q.properties.angular_momentum.AngularMomentum object at 0x73421b16f0d0>\n",
      "<qiskit_nature.second_q.properties.magnetization.Magnetization object at 0x73421ab68fd0>\n",
      "<qiskit_nature.second_q.properties.dipole_moment.ElectronicDipoleMoment object at 0x734234b47550>\n",
      "None\n"
     ]
    }
   ],
   "source": [
    "from qiskit_nature.second_q.drivers import PySCFDriver\n",
    "\n",
    "es_problem = PySCFDriver().run()\n",
    "\n",
    "print(es_problem.properties.particle_number)\n",
    "print(es_problem.properties.angular_momentum)\n",
    "print(es_problem.properties.magnetization)\n",
    "print(es_problem.properties.electronic_dipole_moment)\n",
    "print(es_problem.properties.electronic_density)"
   ]
  },
  {
   "cell_type": "code",
   "execution_count": 4,
   "id": "0cb1cb92-ce00-4ffb-ac0e-23795d8c7462",
   "metadata": {},
   "outputs": [],
   "source": [
    "from qiskit_nature.second_q.properties import ElectronicDensity\n",
    "\n",
    "density = ElectronicDensity.from_orbital_occupation(\n",
    "    es_problem.orbital_occupations,\n",
    "    es_problem.orbital_occupations_b,\n",
    ")\n",
    "\n",
    "es_problem.properties.electronic_density = density\n"
   ]
  },
  {
   "cell_type": "code",
   "execution_count": null,
   "id": "476a90ca-e9e4-4cfd-9d9b-b1a8e3250516",
   "metadata": {},
   "outputs": [],
   "source": []
  }
 ],
 "metadata": {
  "kernelspec": {
   "display_name": "myenv",
   "language": "python",
   "name": "myenv"
  },
  "language_info": {
   "codemirror_mode": {
    "name": "ipython",
    "version": 3
   },
   "file_extension": ".py",
   "mimetype": "text/x-python",
   "name": "python",
   "nbconvert_exporter": "python",
   "pygments_lexer": "ipython3",
   "version": "3.11.0rc1"
  }
 },
 "nbformat": 4,
 "nbformat_minor": 5
}
