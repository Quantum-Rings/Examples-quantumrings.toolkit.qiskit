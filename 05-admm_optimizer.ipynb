{
 "cells": [
  {
   "cell_type": "markdown",
   "id": "f69e1833-fcac-45ad-b97e-cf6854c101e1",
   "metadata": {},
   "source": [
    "# 05 - ADMM Optimizer"
   ]
  },
  {
   "cell_type": "code",
   "execution_count": 1,
   "id": "ea11a07e-bf13-4169-b586-bcf029a351f5",
   "metadata": {},
   "outputs": [],
   "source": [
    "# This code is from the tutorial at:\n",
    "# https://qiskit-community.github.io/qiskit-optimization/tutorials/05_admm_optimizer.html"
   ]
  },
  {
   "cell_type": "markdown",
   "id": "7c1207a0-93ed-467d-81f4-fdd92f50465b",
   "metadata": {},
   "source": [
    "# Initialization"
   ]
  },
  {
   "cell_type": "code",
   "execution_count": 2,
   "id": "df8b51b6-451d-4a02-8e71-fb61793c95be",
   "metadata": {},
   "outputs": [],
   "source": [
    "import matplotlib.pyplot as plt\n",
    "\n",
    "from docplex.mp.model import Model\n",
    "\n",
    "from qiskit_algorithms import QAOA, NumPyMinimumEigensolver\n",
    "from qiskit_algorithms.optimizers import COBYLA\n",
    "\n",
    "# Switch to Quantum Rings's Sampler\n",
    "#from qiskit.primitives import Sampler\n",
    "from quantumrings.toolkit.qiskit import QrSamplerV1 as Sampler\n",
    "\n",
    "from qiskit_optimization.algorithms import CobylaOptimizer, MinimumEigenOptimizer\n",
    "from qiskit_optimization.algorithms.admm_optimizer import ADMMParameters, ADMMOptimizer\n",
    "from qiskit_optimization.translators import from_docplex_mp\n",
    "\n",
    "# If CPLEX is installed, you can uncomment this line to import the CplexOptimizer.\n",
    "# CPLEX can be used in this tutorial to solve the convex continuous problem,\n",
    "# but also as a reference to solve the QUBO, or even the full problem.\n",
    "#\n",
    "# from qiskit.optimization.algorithms import CplexOptimizer"
   ]
  },
  {
   "cell_type": "code",
   "execution_count": 3,
   "id": "8aeb3cba-74f0-4857-bdb9-4ddcc70b4467",
   "metadata": {},
   "outputs": [],
   "source": [
    "# define COBYLA optimizer to handle convex continuous problems.\n",
    "cobyla = CobylaOptimizer()\n",
    "\n",
    "# define QAOA via the minimum eigen optimizer\n",
    "qaoa = MinimumEigenOptimizer(QAOA(sampler=Sampler(), optimizer=COBYLA()))\n",
    "\n",
    "# exact QUBO solver as classical benchmark\n",
    "exact = MinimumEigenOptimizer(NumPyMinimumEigensolver())  # to solve QUBOs\n",
    "\n",
    "# in case CPLEX is installed it can also be used for the convex problems, the QUBO,\n",
    "# or as a benchmark for the full problem.\n",
    "#\n",
    "# cplex = CplexOptimizer()"
   ]
  },
  {
   "cell_type": "markdown",
   "id": "605c2852-1213-481a-ac20-8a75986bfe83",
   "metadata": {},
   "source": [
    "# Example"
   ]
  },
  {
   "cell_type": "code",
   "execution_count": 4,
   "id": "31ae6c67-aa9b-4493-a198-f77ee029e753",
   "metadata": {},
   "outputs": [
    {
     "name": "stdout",
     "output_type": "stream",
     "text": [
      "Problem name: ex6\n",
      "\n",
      "Minimize\n",
      "  5*u^2 + t - 20*u + v + w + 20\n",
      "\n",
      "Subject to\n",
      "  Linear constraints (3)\n",
      "    t + u + v + 2*w <= 3  'cons1'\n",
      "    t + v + w >= 1  'cons2'\n",
      "    v + w == 1  'cons3'\n",
      "\n",
      "  Continuous variables (1)\n",
      "    0 <= u\n",
      "\n",
      "  Binary variables (3)\n",
      "    v w t\n",
      "\n"
     ]
    }
   ],
   "source": [
    "# construct model using docplex\n",
    "mdl = Model(\"ex6\")\n",
    "\n",
    "v = mdl.binary_var(name=\"v\")\n",
    "w = mdl.binary_var(name=\"w\")\n",
    "t = mdl.binary_var(name=\"t\")\n",
    "u = mdl.continuous_var(name=\"u\")\n",
    "\n",
    "mdl.minimize(v + w + t + 5 * (u - 2) ** 2)\n",
    "mdl.add_constraint(v + 2 * w + t + u <= 3, \"cons1\")\n",
    "mdl.add_constraint(v + w + t >= 1, \"cons2\")\n",
    "mdl.add_constraint(v + w == 1, \"cons3\")\n",
    "\n",
    "# load quadratic program from docplex model\n",
    "qp = from_docplex_mp(mdl)\n",
    "print(qp.prettyprint())"
   ]
  },
  {
   "cell_type": "markdown",
   "id": "9182d467-c78c-4afc-b701-334d508482d8",
   "metadata": {},
   "source": [
    "# Classical Solution"
   ]
  },
  {
   "cell_type": "code",
   "execution_count": 5,
   "id": "eec9fc96-4ab3-4bb7-82bf-67b22e5ce943",
   "metadata": {},
   "outputs": [],
   "source": [
    "admm_params = ADMMParameters(\n",
    "    rho_initial=1001, beta=1000, factor_c=900, maxiter=100, three_block=True, tol=1.0e-6\n",
    ")"
   ]
  },
  {
   "cell_type": "markdown",
   "id": "9151720d-91bd-4ba7-887a-024b4dad3ea2",
   "metadata": {},
   "source": [
    "# Calling 3-ADMM-H algorithm"
   ]
  },
  {
   "cell_type": "code",
   "execution_count": 6,
   "id": "d6e9a85e-c44f-41f4-a229-764acb232092",
   "metadata": {},
   "outputs": [],
   "source": [
    "# define QUBO optimizer\n",
    "qubo_optimizer = exact\n",
    "# qubo_optimizer = cplex  # uncomment to use CPLEX instead\n",
    "\n",
    "# define classical optimizer\n",
    "convex_optimizer = cobyla\n",
    "# convex_optimizer = cplex  # uncomment to use CPLEX instead\n",
    "\n",
    "# initialize ADMM with classical QUBO and convex optimizer\n",
    "admm = ADMMOptimizer(\n",
    "    params=admm_params, qubo_optimizer=qubo_optimizer, continuous_optimizer=convex_optimizer\n",
    ")"
   ]
  },
  {
   "cell_type": "code",
   "execution_count": 7,
   "id": "38eb0715-ec73-4be6-8ed6-a07209b5a6b8",
   "metadata": {},
   "outputs": [],
   "source": [
    "# run ADMM to solve problem\n",
    "result = admm.solve(qp)"
   ]
  },
  {
   "cell_type": "markdown",
   "id": "1e823fa4-956c-4cb4-9ff6-59b02ba1e431",
   "metadata": {},
   "source": [
    "# Classical Solver Result"
   ]
  },
  {
   "cell_type": "code",
   "execution_count": 8,
   "id": "17ff4b3d-bf60-4d67-ab8a-c6d0a5915a26",
   "metadata": {},
   "outputs": [
    {
     "name": "stdout",
     "output_type": "stream",
     "text": [
      "objective function value: 1.0\n",
      "variable values: v=1.0, w=0.0, t=0.0, u=2.0\n",
      "status: SUCCESS\n"
     ]
    }
   ],
   "source": [
    "print(result.prettyprint())"
   ]
  },
  {
   "cell_type": "code",
   "execution_count": 9,
   "id": "84277d01-dcf8-4aa5-9c5d-fb928037fc0e",
   "metadata": {},
   "outputs": [
    {
     "data": {
      "image/png": "[encoded data removed]",
      "text/plain": [
       "<Figure size 640x480 with 1 Axes>"
      ]
     },
     "metadata": {},
     "output_type": "display_data"
    }
   ],
   "source": [
    "plt.plot(result.state.residuals)\n",
    "plt.xlabel(\"Iterations\")\n",
    "plt.ylabel(\"Residuals\")\n",
    "plt.show()"
   ]
  },
  {
   "cell_type": "markdown",
   "id": "bc5d796d-f203-4d8e-9523-8c607f3787dc",
   "metadata": {},
   "source": [
    "# Quantum Solution"
   ]
  },
  {
   "cell_type": "code",
   "execution_count": 10,
   "id": "c01f0c9a-6f7f-4a71-9093-58874c9d4f4e",
   "metadata": {},
   "outputs": [],
   "source": [
    "# define QUBO optimizer\n",
    "qubo_optimizer = qaoa\n",
    "\n",
    "# define classical optimizer\n",
    "convex_optimizer = cobyla\n",
    "# convex_optimizer = cplex  # uncomment to use CPLEX instead\n",
    "\n",
    "# initialize ADMM with quantum QUBO optimizer and classical convex optimizer\n",
    "admm_q = ADMMOptimizer(\n",
    "    params=admm_params, qubo_optimizer=qubo_optimizer, continuous_optimizer=convex_optimizer\n",
    ")"
   ]
  },
  {
   "cell_type": "code",
   "execution_count": 11,
   "id": "26afe748-c6f4-4b1e-9c8a-1603c1c8ef4f",
   "metadata": {},
   "outputs": [],
   "source": [
    "# run ADMM to solve problem\n",
    "result_q = admm_q.solve(qp)"
   ]
  },
  {
   "cell_type": "markdown",
   "id": "00de8302-ae01-4ad7-9852-0e04ab1c32bb",
   "metadata": {},
   "source": [
    "# Quantum Solver Results"
   ]
  },
  {
   "cell_type": "code",
   "execution_count": 12,
   "id": "b80336e5-ff4a-4ee7-aec6-608c7a286ab2",
   "metadata": {},
   "outputs": [
    {
     "name": "stdout",
     "output_type": "stream",
     "text": [
      "objective function value: 1.0\n",
      "variable values: v=1.0, w=0.0, t=0.0, u=2.0\n",
      "status: SUCCESS\n"
     ]
    }
   ],
   "source": [
    "print(result.prettyprint())"
   ]
  },
  {
   "cell_type": "code",
   "execution_count": 13,
   "id": "04587ef5-7b00-4348-990f-0ee90222fd35",
   "metadata": {},
   "outputs": [
    {
     "data": {
      "image/png": "[encoded data removed]",
      "text/plain": [
       "<Figure size 640x480 with 1 Axes>"
      ]
     },
     "metadata": {},
     "output_type": "display_data"
    }
   ],
   "source": [
    "plt.clf()\n",
    "plt.plot(result_q.state.residuals)\n",
    "plt.xlabel(\"Iterations\")\n",
    "plt.ylabel(\"Residuals\")\n",
    "plt.show()"
   ]
  },
  {
   "cell_type": "code",
   "execution_count": null,
   "id": "4b72b64d-4736-4559-a6a2-98c9297f540f",
   "metadata": {},
   "outputs": [],
   "source": []
  }
 ],
 "metadata": {
  "kernelspec": {
   "display_name": "Python 3 (ipykernel)",
   "language": "python",
   "name": "python3"
  },
  "language_info": {
   "codemirror_mode": {
    "name": "ipython",
    "version": 3
   },
   "file_extension": ".py",
   "mimetype": "text/x-python",
   "name": "python",
   "nbconvert_exporter": "python",
   "pygments_lexer": "ipython3",
   "version": "3.11.10"
  }
 },
 "nbformat": 4,
 "nbformat_minor": 5
}
