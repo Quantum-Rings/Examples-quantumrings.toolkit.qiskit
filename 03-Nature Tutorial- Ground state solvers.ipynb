{
 "cells": [
  {
   "cell_type": "markdown",
   "id": "06e01fc4-1f2c-4727-a1ea-fe650eb7e9b2",
   "metadata": {},
   "source": [
    "# 03-Nature Tutorial- Ground state solvers"
   ]
  },
  {
   "cell_type": "code",
   "execution_count": null,
   "id": "29e1dba8-8ea0-43e8-9d9f-319b5e7793eb",
   "metadata": {},
   "outputs": [],
   "source": [
    "#This code is from:\n",
    "#https://qiskit-community.github.io/qiskit-nature/tutorials/03_ground_state_solvers.html"
   ]
  },
  {
   "cell_type": "code",
   "execution_count": 1,
   "id": "5e9b7934-9382-4c71-8ade-f80bc220b29b",
   "metadata": {},
   "outputs": [],
   "source": [
    "from qiskit_nature.units import DistanceUnit\n",
    "from qiskit_nature.second_q.drivers import PySCFDriver\n",
    "\n",
    "driver = PySCFDriver(\n",
    "    atom=\"H 0 0 0; H 0 0 0.735\",\n",
    "    basis=\"sto3g\",\n",
    "    charge=0,\n",
    "    spin=0,\n",
    "    unit=DistanceUnit.ANGSTROM,\n",
    ")\n",
    "\n",
    "es_problem = driver.run()\n"
   ]
  },
  {
   "cell_type": "code",
   "execution_count": 2,
   "id": "c2447731-7d33-460c-9ab2-0a51ee269962",
   "metadata": {},
   "outputs": [],
   "source": [
    "from qiskit_nature.second_q.mappers import JordanWignerMapper\n",
    "\n",
    "mapper = JordanWignerMapper()\n"
   ]
  },
  {
   "cell_type": "code",
   "execution_count": 3,
   "id": "5799d788-3806-4774-8ffc-390311aed2f0",
   "metadata": {},
   "outputs": [],
   "source": [
    "from qiskit_algorithms import NumPyMinimumEigensolver\n",
    "\n",
    "numpy_solver = NumPyMinimumEigensolver()"
   ]
  },
  {
   "cell_type": "code",
   "execution_count": 4,
   "id": "b82e8bf4-7593-4e81-9dfe-2a1fe0d6b3d3",
   "metadata": {},
   "outputs": [],
   "source": [
    "from qiskit_algorithms import VQE\n",
    "from qiskit_algorithms.optimizers import COBYLA\n",
    "#from qiskit.primitives import Estimator\n",
    "from quantumrings.toolkit.qiskit import QrEstimatorV1 as Estimator\n",
    "\n",
    "from qiskit_nature.second_q.circuit.library import HartreeFock, UCCSD\n",
    "\n",
    "ansatz = UCCSD(\n",
    "    es_problem.num_spatial_orbitals,\n",
    "    es_problem.num_particles,\n",
    "    mapper,\n",
    "    initial_state=HartreeFock(\n",
    "        es_problem.num_spatial_orbitals,\n",
    "        es_problem.num_particles,\n",
    "        mapper,\n",
    "    ),\n",
    ")\n",
    "\n",
    "vqe_solver = VQE(Estimator(), ansatz, COBYLA())\n",
    "vqe_solver.initial_point = [0.0] * ansatz.num_parameters"
   ]
  },
  {
   "cell_type": "code",
   "execution_count": 5,
   "id": "0d38a1e2-a8d0-4664-b9d5-aae4e5f16f5b",
   "metadata": {},
   "outputs": [],
   "source": [
    "from qiskit_algorithms import VQE\n",
    "from qiskit.circuit.library import TwoLocal\n",
    "\n",
    "tl_circuit = TwoLocal(\n",
    "    rotation_blocks=[\"h\", \"rx\"],\n",
    "    entanglement_blocks=\"cz\",\n",
    "    entanglement=\"full\",\n",
    "    reps=2,\n",
    "    parameter_prefix=\"y\",\n",
    ")\n",
    "\n",
    "another_solver = VQE(Estimator(), tl_circuit, COBYLA())\n"
   ]
  },
  {
   "cell_type": "code",
   "execution_count": 6,
   "id": "a9f5c7cd-282a-4183-bef1-f6a313da28cc",
   "metadata": {},
   "outputs": [],
   "source": [
    "from qiskit_nature.second_q.algorithms import GroundStateEigensolver\n",
    "\n",
    "calc = GroundStateEigensolver(mapper, vqe_solver)\n"
   ]
  },
  {
   "cell_type": "code",
   "execution_count": 7,
   "id": "5a157760-4b1b-4810-af6e-f88a21c1e7f9",
   "metadata": {},
   "outputs": [
    {
     "name": "stdout",
     "output_type": "stream",
     "text": [
      "=== GROUND STATE ENERGY ===\n",
      " \n",
      "* Electronic ground state energy (Hartree): -1.857275025975\n",
      "  - computed part:      -1.857275025975\n",
      "~ Nuclear repulsion energy (Hartree): 0.719968994449\n",
      "> Total ground state energy (Hartree): -1.137306031526\n",
      " \n",
      "=== MEASURED OBSERVABLES ===\n",
      " \n",
      "  0:  # Particles: 2.000 S: 0.000 S^2: 0.000 M: 0.000\n",
      " \n",
      "=== DIPOLE MOMENTS ===\n",
      " \n",
      "~ Nuclear dipole moment (a.u.): [0.0  0.0  1.3889487]\n",
      " \n",
      "  0: \n",
      "  * Electronic dipole moment (a.u.): [0.0  0.0  1.388948701555]\n",
      "    - computed part:      [0.0  0.0  1.388948701555]\n",
      "  > Dipole moment (a.u.): [0.0  0.0  -0.000000001555]  Total: 0.000000001555\n",
      "                 (debye): [0.0  0.0  -0.000000003953]  Total: 0.000000003953\n",
      " \n"
     ]
    }
   ],
   "source": [
    "res = calc.solve(es_problem)\n",
    "print(res)"
   ]
  },
  {
   "cell_type": "code",
   "execution_count": 8,
   "id": "45f91094-09ef-4d3c-a97a-c80435d0f137",
   "metadata": {},
   "outputs": [
    {
     "name": "stdout",
     "output_type": "stream",
     "text": [
      "=== GROUND STATE ENERGY ===\n",
      " \n",
      "* Electronic ground state energy (Hartree): -1.857275030202\n",
      "  - computed part:      -1.857275030202\n",
      "~ Nuclear repulsion energy (Hartree): 0.719968994449\n",
      "> Total ground state energy (Hartree): -1.137306035753\n",
      " \n",
      "=== MEASURED OBSERVABLES ===\n",
      " \n",
      "  0:  # Particles: 2.000 S: 0.000 S^2: 0.000 M: 0.000\n",
      " \n",
      "=== DIPOLE MOMENTS ===\n",
      " \n",
      "~ Nuclear dipole moment (a.u.): [0.0  0.0  1.3889487]\n",
      " \n",
      "  0: \n",
      "  * Electronic dipole moment (a.u.): [0.0  0.0  1.388948701555]\n",
      "    - computed part:      [0.0  0.0  1.388948701555]\n",
      "  > Dipole moment (a.u.): [0.0  0.0  -0.000000001555]  Total: 0.000000001555\n",
      "                 (debye): [0.0  0.0  -0.000000003953]  Total: 0.000000003953\n",
      " \n"
     ]
    }
   ],
   "source": [
    "calc = GroundStateEigensolver(mapper, numpy_solver)\n",
    "res = calc.solve(es_problem)\n",
    "print(res)"
   ]
  },
  {
   "cell_type": "code",
   "execution_count": 9,
   "id": "4ac11002-540e-47a7-8754-d622babeb94e",
   "metadata": {},
   "outputs": [
    {
     "name": "stdout",
     "output_type": "stream",
     "text": [
      "=== GROUND STATE ===\n",
      " \n",
      "* Vibrational ground state energy (cm^-1): (-3e-12-0j)\n",
      "The number of occupied modals for each mode is: \n",
      "- Mode 0: 0.0\n",
      "- Mode 1: 0.0\n",
      "- Mode 2: 0.0\n",
      "- Mode 3: 0.0\n",
      "\n",
      "\n",
      "\n",
      "=== GROUND STATE ===\n",
      " \n",
      "* Vibrational ground state energy (cm^-1): 2432.10695403655\n",
      "The number of occupied modals for each mode is: \n",
      "- Mode 0: 1.0\n",
      "- Mode 1: 1.0\n",
      "- Mode 2: 1.0\n",
      "- Mode 3: 1.0\n"
     ]
    }
   ],
   "source": [
    "from qiskit_algorithms import NumPyMinimumEigensolver\n",
    "from qiskit_nature.second_q.drivers import GaussianForcesDriver\n",
    "from qiskit_nature.second_q.mappers import DirectMapper\n",
    "from qiskit_nature.second_q.problems import HarmonicBasis\n",
    "\n",
    "driver = GaussianForcesDriver(logfile=\"/home/venkat/Downloads/CO2_freq_B3LYP_631g.log\")\n",
    "basis = HarmonicBasis([2, 2, 2, 2])\n",
    "vib_problem = driver.run(basis=basis)\n",
    "vib_problem.hamiltonian.truncation_order = 2\n",
    "\n",
    "mapper = DirectMapper()\n",
    "\n",
    "solver_without_filter = NumPyMinimumEigensolver()\n",
    "solver_with_filter = NumPyMinimumEigensolver(\n",
    "    filter_criterion=vib_problem.get_default_filter_criterion()\n",
    ")\n",
    "\n",
    "gsc_wo = GroundStateEigensolver(mapper, solver_without_filter)\n",
    "result_wo = gsc_wo.solve(vib_problem)\n",
    "\n",
    "gsc_w = GroundStateEigensolver(mapper, solver_with_filter)\n",
    "result_w = gsc_w.solve(vib_problem)\n",
    "\n",
    "print(result_wo)\n",
    "print(\"\\n\\n\")\n",
    "print(result_w)"
   ]
  },
  {
   "cell_type": "code",
   "execution_count": null,
   "id": "66266859-83f1-4ae0-9eaf-0859e5056ea4",
   "metadata": {},
   "outputs": [],
   "source": []
  }
 ],
 "metadata": {
  "kernelspec": {
   "display_name": "myenv",
   "language": "python",
   "name": "myenv"
  },
  "language_info": {
   "codemirror_mode": {
    "name": "ipython",
    "version": 3
   },
   "file_extension": ".py",
   "mimetype": "text/x-python",
   "name": "python",
   "nbconvert_exporter": "python",
   "pygments_lexer": "ipython3",
   "version": "3.11.0rc1"
  }
 },
 "nbformat": 4,
 "nbformat_minor": 5
}
